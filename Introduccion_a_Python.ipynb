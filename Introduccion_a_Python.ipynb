{
  "nbformat": 4,
  "nbformat_minor": 0,
  "metadata": {
    "colab": {
      "name": "Introduccion a Python.ipynb",
      "provenance": [],
      "collapsed_sections": [],
      "toc_visible": true,
      "include_colab_link": true
    },
    "kernelspec": {
      "name": "python3",
      "display_name": "Python 3"
    }
  },
  "cells": [
    {
      "cell_type": "markdown",
      "metadata": {
        "id": "view-in-github",
        "colab_type": "text"
      },
      "source": [
        "<a href=\"https://colab.research.google.com/github/hsarriaz/DocumentosNBA/blob/main/Introduccion_a_Python.ipynb\" target=\"_parent\"><img src=\"https://colab.research.google.com/assets/colab-badge.svg\" alt=\"Open In Colab\"/></a>"
      ]
    },
    {
      "cell_type": "markdown",
      "metadata": {
        "id": "kFlfb0U-DVn7"
      },
      "source": [
        "\n",
        "*Notas de Clase *\n",
        "\n",
        "** INTRODUCCIÓN A PYTHON**\n",
        "\n",
        "Preparadas por Humberto Sarria\n",
        "\n",
        "Universidad Nacional de Colombia\n",
        "\n",
        "Departamento de Matemáticas"
      ]
    },
    {
      "cell_type": "markdown",
      "metadata": {
        "id": "QO242Hx1T1kJ"
      },
      "source": [
        "# 1 Introducción\n",
        "\n",
        "En esta sección estudiaremos algunos comandos y funciones del lenguaje de programación Phyton, adicionalmente, introduciremos las bases para diseñar un programa. Antes de comenzar, debe tenerse en cuenta que, en Python, por cada instrucción debe usarse una y sólo una línea del ambiente de programación.\n",
        "\n",
        "**Nota**\n",
        "\n",
        "En las explicaciones siguientes, usaremos los paréntesis angulares < > para agregar nombres de variables, cadenas de caracteres o  frases que el programador quiera usar. Estos paréntesis **no hacen parte** de la estructura sintáctica de las instrucciones y se deben obviar.\n"
      ]
    },
    {
      "cell_type": "markdown",
      "metadata": {
        "id": "WnWZx47mjkCK"
      },
      "source": [
        "## 1.1 Los comandos `#`, `input` y `print`\n",
        "Usamos el comando `#` para indicar comentarios dentro de un programa. Toda línea que se encuentre después de este símbolo no será ejecutada dentro de un programa en Phyton. La sintaxis es:\n",
        "* `#` < comentario >\n",
        "\n",
        "Usamos el comando `input` para mostrar sobre la pantalla del computador una frase o mensaje que le indique al usuario que ingrese información por medio del teclado. La sintaxis es:\n",
        "*  `input(\" <Frase> \")`\n",
        "\n",
        "El comando `print` se usa para imprimir mensajes o valores que toma una variable. Su sitaxis es:\n",
        "\n",
        "*   `print (\"<Frase 1> \",<variable 1>, \"<Frase 2>\", <variable 2>, ...)`\n",
        "\n",
        "Una vez se ha impreso el mensaje y los valores, se ejecuta un salto de línea. Más adelante veremos como mantenernos en la línea de impresión.\n",
        "\n",
        "**Nota**\n",
        "\n",
        "Al usar `input`, debe tenerse en cuenta que todo lo que ingrese el usuario se interpretará como una cadena de símbolos o caracteres, si se desea que un número  se considere como una cantidad y no como un símbolo, es necesario transformar dicho símbolo a un tipo numérico. Posteriormente mostraremos como efectuar esta transformación.\n"
      ]
    },
    {
      "cell_type": "markdown",
      "metadata": {
        "id": "hTBQwJLJyQNX"
      },
      "source": [
        "\n",
        "\n",
        "**Ejemplo 1.**"
      ]
    },
    {
      "cell_type": "code",
      "metadata": {
        "id": "5BhWWmp4zIKP",
        "colab": {
          "base_uri": "https://localhost:8080/",
          "height": 52
        },
        "outputId": "ab3bcb0a-7e87-4785-8ea7-50a5cf7975c6"
      },
      "source": [
        "# Este es mi primer programa\n",
        "# Fecha 3/09/2020\n",
        "\n",
        "nombre = input('Cuál es tu nombre? ')\n",
        "print (\"Hola \",nombre, \", còmo van las cosas?\")"
      ],
      "execution_count": null,
      "outputs": [
        {
          "output_type": "stream",
          "text": [
            "Cuál es tu nombre? Humberto\n",
            "Hola  Humberto , còmo van las cosas?\n"
          ],
          "name": "stdout"
        }
      ]
    },
    {
      "cell_type": "markdown",
      "metadata": {
        "id": "W1t0KKsDgQu3"
      },
      "source": [
        "El comando `print` también puede usarse en la forma\n",
        "* `print(f\"<Frase 1> {<variable 1> } <Frase 2> {<variable 2>} ...\")`\n",
        "\n",
        "**Ejemplo 2.**"
      ]
    },
    {
      "cell_type": "code",
      "metadata": {
        "id": "q1q1UDS0gxJP",
        "colab": {
          "base_uri": "https://localhost:8080/",
          "height": 52
        },
        "outputId": "402230e5-ae37-4514-e0ac-79a6538083cd"
      },
      "source": [
        "nombre = input(\"Cuál es su nombre? \")\n",
        "print (f\"Hola {nombre}, còmo van las cosas?\")"
      ],
      "execution_count": null,
      "outputs": [
        {
          "output_type": "stream",
          "text": [
            "Cuál es su nombre? Humberto\n",
            "Hola Humberto, còmo van las cosas?\n"
          ],
          "name": "stdout"
        }
      ]
    },
    {
      "cell_type": "markdown",
      "metadata": {
        "id": "SeKbNVqliZox"
      },
      "source": [
        "## 1.2 Variables\n",
        "\n",
        "Una variable es un espacio en la memoria del computador con tres características: un nombre, una dirección o ubicación en memoria y un espacio de almacenamiento. El dato que se ubica en el espacio de almacenamiento, lo llamaremos **contenido de la variable**. El contenido de una variable puede variar en el transcurso de la ejecución de un programa. El nombre de una variable no  puede coincidir con los comandos propios de Python. Podemos acceder al contenido de la variable mediante su nombre. \n",
        "\n",
        "**Nota**\n",
        "\n",
        "Existe un tipo de variables denominadas apuntadores, estas variables se usan para guardar direcciones de otras variables iterables, tales como listas, diccionarios o archivos. Son muy útiles para guardar referencias en computación. Cuando estudiemos archivos, veremos los usos más comunes.\n",
        "\n",
        "**Ejemplo 1**\n",
        "\n",
        "Llame a una variable $v$ y asignele el valor $8$, luego imprima el contenido de $v$."
      ]
    },
    {
      "cell_type": "code",
      "metadata": {
        "id": "mwY_mqLZwiNL",
        "colab": {
          "base_uri": "https://localhost:8080/",
          "height": 52
        },
        "outputId": "f7136e63-1995-405f-be7d-095ae7a39c05"
      },
      "source": [
        "v = input(\"Ingrese un valor = \")\n",
        "print (\"El contenido de la variable v es: \",v)"
      ],
      "execution_count": null,
      "outputs": [
        {
          "output_type": "stream",
          "text": [
            "Ingrese un valor = 120\n",
            "El contenido de la variable v es:  120\n"
          ],
          "name": "stdout"
        }
      ]
    },
    {
      "cell_type": "markdown",
      "source": [
        "**Ejemplo 2**\n",
        "\n",
        "La asignación de valores a una colección de variables puede realizarse de manera simultanea o paralela, usando una sóla línea de código."
      ],
      "metadata": {
        "id": "1MO5csQEJXA7"
      }
    },
    {
      "cell_type": "code",
      "source": [
        " a, b = 1, 2\n",
        " print (a,\" \", b ,\" \", a + b)"
      ],
      "metadata": {
        "colab": {
          "base_uri": "https://localhost:8080/"
        },
        "id": "jVGuow-eLOER",
        "outputId": "0f553608-3c6f-4cd0-98ad-891a5ebafcd9"
      },
      "execution_count": null,
      "outputs": [
        {
          "output_type": "stream",
          "name": "stdout",
          "text": [
            "1   2   3\n"
          ]
        }
      ]
    },
    {
      "cell_type": "markdown",
      "metadata": {
        "id": "vY5ue-TakAPC"
      },
      "source": [
        "### 1.2.1 Pasar valores de variables a variables\n",
        "Los valores de una variable quedan guardados en una dirección específica de memoria y pueden pasarse posteriormente para efectuar operaciones.\n",
        "\n",
        "**Ejemplo 3.**\n",
        "\n",
        "En este ejercicio se calcula el área de un círculo a partir del valor de su radio $r$. Nótese que asignamos un valor a $r$ que posteriormente se usa en la fórmula del cálculo del área del círculo. El asterísco sencillo `*`, indica que se hará una multiplicación, el asterísco doble `**`, indica que debe calcularse una potencia, en este caso, se eleva el valor de $r$ a la potencia  2."
      ]
    },
    {
      "cell_type": "code",
      "metadata": {
        "id": "--D8FdUfTCnM",
        "colab": {
          "base_uri": "https://localhost:8080/",
          "height": 52
        },
        "outputId": "0cd23dbb-739f-4a0e-ed1d-0a9f41fd5927"
      },
      "source": [
        "r=float(input(\"Ingrese el radio = \")) #float permite transformar simbolos a números reales.\n",
        "AreaCirculo=3.14159*r**2\n",
        "print(\"El area del circulo de radio \",r,\"es: \", AreaCirculo)"
      ],
      "execution_count": null,
      "outputs": [
        {
          "output_type": "stream",
          "text": [
            "Ingrese el radio = 1\n",
            "El area del circulo de radio  1.0 es:  3.14159\n"
          ],
          "name": "stdout"
        }
      ]
    },
    {
      "cell_type": "markdown",
      "metadata": {
        "id": "oDWtaMRE0S6O"
      },
      "source": [
        "## 1.3 Tipos de datos\n",
        "\n",
        "En Phyton, como en todos los demàs lenguajes de programaciòn, los datos se clasifican y se almacenan de acuerdo a sus propiedades, esto permite un uso màs eficiente del espacio en la memoria. Tenemos los siguientes tipos de datos que son almacenados y administrados en forma distinta:\n",
        "\n",
        "### 1.3.1 Tipos Numèricos\n",
        "Los tipos numéricos que usa Python son:\n",
        "1.   `int` -- enteros.\n",
        "2. `float ` -- nùmeros reales con representaciòn en punto flotante. \n",
        "3. `complex` -- nùmeros complejos en formato $a+bj$ en donde $j$ denota la unidad imaginaria, es decir, $j = \\sqrt{-1}$.\n",
        "\n",
        "Aun cuando en otros lenguajes cada uno de estos tipos tiene asignado una longitud fija de espacio de memoria a usar, en Python la longitud es ilimitada pero restringida a la memoria disponible.\n",
        "\n",
        "Para crear una variable de tipo numérivo, basta usar la siguiente sintaxis\n",
        "\n",
        "`<variable> = <valor_numérico>`\n"
      ]
    },
    {
      "cell_type": "markdown",
      "metadata": {
        "id": "zprDc-DhdBmh"
      },
      "source": [
        "**Ejemplo 1**"
      ]
    },
    {
      "cell_type": "code",
      "metadata": {
        "id": "v1yLn0dhdICb",
        "colab": {
          "base_uri": "https://localhost:8080/",
          "height": 52
        },
        "outputId": "22b62aa8-6b35-4f43-a5e4-9f851910ddcf"
      },
      "source": [
        "a = 4\n",
        "b = 5.2\n",
        "c = 2 + 3j\n",
        "print( a + b)\n",
        "print(b + c) "
      ],
      "execution_count": null,
      "outputs": [
        {
          "output_type": "stream",
          "text": [
            "9.2\n",
            "(7.2+3j)\n"
          ],
          "name": "stdout"
        }
      ]
    },
    {
      "cell_type": "markdown",
      "metadata": {
        "id": "aSmBu8UZkQu0"
      },
      "source": [
        "**Nota**\n",
        "Si usamos la función o comando `input` para ingresar números, debe indicarse el tipo de número que se está ingresando. Si se olvida indicar el tipo de dato ingresado, la función `input` interpretará por defecto que el dato  es una cadena de caracteres o string (`str`)."
      ]
    },
    {
      "cell_type": "code",
      "metadata": {
        "id": "f4BZLaD5p8Ry",
        "colab": {
          "base_uri": "https://localhost:8080/",
          "height": 54
        },
        "outputId": "4df1d9bc-8fec-4f28-e405-f4a6bf379773"
      },
      "source": [
        "r=float(input(\"Ingrese el radio = \")) ## Usamos float para transformar un símbolo numérico en un tipo numérico.\n",
        "AreaC=3.14159*r**2\n",
        "print(\"El círculo de radio \",r,\", tiene un area de \", AreaC)"
      ],
      "execution_count": null,
      "outputs": [
        {
          "output_type": "stream",
          "text": [
            "Ingrese el radio = 3\n",
            "El círculo de radio  3.0 , tiene un area de  28.27431\n"
          ],
          "name": "stdout"
        }
      ]
    },
    {
      "cell_type": "markdown",
      "metadata": {
        "id": "wY2aKYoDaD0T"
      },
      "source": [
        "### Nota\n",
        "Si se quiere determinar cuantos bits de memoria se están usando para almacenar una variable, pueden usarse el módulo `sys`. Para importarlo digitamos `import sys`, seguido de `print(sys.getsizeof(<nom_variable>))`. El comando `import`, permite instalar librerías adicionales para manejar comandos nuevos.\n",
        "Veamos algunos ejemplos."
      ]
    },
    {
      "cell_type": "code",
      "metadata": {
        "id": "MwEQAYFzdnQa",
        "colab": {
          "base_uri": "https://localhost:8080/",
          "height": 52
        },
        "outputId": "c1ccb249-3613-41d9-af63-6874f526f6fb"
      },
      "source": [
        "#enteros\n",
        "import sys \n",
        "a=2\n",
        "b=1234563342342342342342\n",
        "print(sys.getsizeof(a))\n",
        "print(sys.getsizeof(b))"
      ],
      "execution_count": null,
      "outputs": [
        {
          "output_type": "stream",
          "text": [
            "28\n",
            "36\n"
          ],
          "name": "stdout"
        }
      ]
    },
    {
      "cell_type": "code",
      "metadata": {
        "id": "tWaxAO-Xebxe",
        "colab": {
          "base_uri": "https://localhost:8080/",
          "height": 121
        },
        "outputId": "3217cd76-6552-4c14-bb64-1b28170c61a0"
      },
      "source": [
        "#float\n",
        "a=2.0\n",
        "b=2.141592\n",
        "c=1.234567891011121314151617\n",
        "print(sys.getsizeof(a))\n",
        "print(a)\n",
        "print(sys.getsizeof(b))\n",
        "b = b + c\n",
        "print(b)\n",
        "print(sys.getsizeof(c))\n",
        "print(c)"
      ],
      "execution_count": null,
      "outputs": [
        {
          "output_type": "stream",
          "text": [
            "24\n",
            "2.0\n",
            "24\n",
            "3.3761598910111212\n",
            "24\n",
            "1.2345678910111213\n"
          ],
          "name": "stdout"
        }
      ]
    },
    {
      "cell_type": "code",
      "metadata": {
        "id": "YmOex760fToM",
        "colab": {
          "base_uri": "https://localhost:8080/",
          "height": 35
        },
        "outputId": "e5bc3d5d-5d57-457a-fb50-71baa8178f30"
      },
      "source": [
        "#complex\n",
        "a=12+38j\n",
        "print(sys.getsizeof(a))"
      ],
      "execution_count": null,
      "outputs": [
        {
          "output_type": "stream",
          "text": [
            "32\n"
          ],
          "name": "stdout"
        }
      ]
    },
    {
      "cell_type": "markdown",
      "metadata": {
        "id": "1SEOfjIQwV6R"
      },
      "source": [
        "### 1.3.2 Tipo Texto\n",
        "Un dato es de tipo texto,  si corresponde a una cadena de caracteres o arreglo ordenado de caracteres (string en inglés). El comando `str` es un acronimo de la palabra \"string\". Para que una variable quede declarada como de tipo texto o string, basta igualar la variable a una cadena de símbolos colocados entre comillas dobles o  simples. \n",
        "\n",
        "Para crear una variable tipo texto, se usa la siguiente sintaxis:\n",
        "\n",
        "`<Variable> = \"<cadena_caracteres>\"`\n",
        "\n",
        "o usando comillas sencillas\n",
        "\n",
        "`<Variable> = '<cadena_caracteres>'`\n",
        "\n",
        "**Ejemplo 1.**"
      ]
    },
    {
      "cell_type": "code",
      "metadata": {
        "id": "_dytfM2vxItR",
        "colab": {
          "base_uri": "https://localhost:8080/"
        },
        "outputId": "1ed85cc5-ce37-432e-afb1-f85f05b2c3fc"
      },
      "source": [
        "x=\"Hoy es un día soleado\"\n",
        "print(x)"
      ],
      "execution_count": null,
      "outputs": [
        {
          "output_type": "stream",
          "name": "stdout",
          "text": [
            "Hoy es un dia soleado\n"
          ]
        }
      ]
    },
    {
      "cell_type": "code",
      "source": [
        "x='Hoy es un día lluvioso'\n",
        "print(x)"
      ],
      "metadata": {
        "colab": {
          "base_uri": "https://localhost:8080/"
        },
        "id": "VT7bZtFo6SyL",
        "outputId": "403c8dde-b7b9-4eb5-9e8a-6434425f9f0d"
      },
      "execution_count": null,
      "outputs": [
        {
          "output_type": "stream",
          "name": "stdout",
          "text": [
            "Hoy es un día lluvioso\n"
          ]
        }
      ]
    },
    {
      "cell_type": "markdown",
      "metadata": {
        "id": "MR9vdr7AOLmt"
      },
      "source": [
        "Si queremos que un valor numérico se considere como una cadena de símbolos \n",
        "\n",
        "usamos:\n",
        "\n",
        "`<Variable> = str(<cadena_caracteres_numéricos>)`\n",
        "\n",
        "Podemos concatenar o pegar dos variables tipo texto usando el comando `+`\n",
        "\n",
        "**Ejemplo 2.**\n",
        "\n",
        "Concatenar \"2.13\" considerado como string con el string \"abcd\"."
      ]
    },
    {
      "cell_type": "code",
      "metadata": {
        "id": "38u0_d-nKHrl",
        "colab": {
          "base_uri": "https://localhost:8080/",
          "height": 34
        },
        "outputId": "aa47345f-076e-422d-e4f3-596f8bf25139"
      },
      "source": [
        "x=str(2.13)\n",
        "y=\"mnpq\"\n",
        "print(x+y)"
      ],
      "execution_count": null,
      "outputs": [
        {
          "output_type": "stream",
          "text": [
            "2.13mnpq\n"
          ],
          "name": "stdout"
        }
      ]
    },
    {
      "cell_type": "markdown",
      "metadata": {
        "id": "aGMO9RkTPsJB"
      },
      "source": [
        "Toda cadena de caracteres se considera ordenada, esto quiere decir que cada uno de sus elementos puede accesarse por la posición que ocupe en la cadena, teniendo en cuenta que la primera posición corresponde a cero.\n",
        "\n",
        "**Ejemplo 3.**"
      ]
    },
    {
      "cell_type": "code",
      "metadata": {
        "id": "efWhzRy3QLq4",
        "colab": {
          "base_uri": "https://localhost:8080/",
          "height": 34
        },
        "outputId": "c1f7dc14-ad68-4c3d-e25b-30572263af84"
      },
      "source": [
        "x=\"Hola Mundo\"\n",
        "print(x[9])"
      ],
      "execution_count": null,
      "outputs": [
        {
          "output_type": "stream",
          "text": [
            "o\n"
          ],
          "name": "stdout"
        }
      ]
    },
    {
      "cell_type": "markdown",
      "metadata": {
        "id": "ry4Pj5gwljUt"
      },
      "source": [
        "### 1.3.3 Tipos de Secuencias\n",
        "\n",
        "\n",
        "1.   `list` es una colección ordenada objetos que puede cambiar de tamaño. Permite duplicación de miembros. Cada elemento de la lista puede accesarse mediante un índice que corresponde a su posición dentro de la lista, el primer elemento tiene asignado el índice cero. Para definir una variable tipo `list` con objetos de tipo texto se usa la siguiente sintaxis:\n",
        "\n",
        "     `<variable> = [\"<cadena_1>\",\"<cadena_2>\",...,\"<cadena_n>\"]`\n",
        "     tambien se pueden  usar comillas sencillas\n",
        "     `<variable> = ['<cadena_1>','<cadena_2>',...,'<cadena_n>']`\n",
        "\n",
        "  Para declarar una variable como tipo `list` con objetos de tipo numérico se usa la siguiente sintaxis:\n",
        "\n",
        "     `<variable> = [<valor_1>,<valor_2>,...,<valor_n>]`\n",
        "\n",
        "  Para declarar una lista vacía\n",
        "\n",
        "     `<variable> = []`\n",
        "\n",
        "\n",
        "2.   `tuple` es una colección ordenada de objetos que NO puede cambiar de tamaño. Cada elemento de la tupla puede accesarse mediante un índice que corresponde a su posición dentro de la tupla; el primer elemento tiene asignado el índice cero. Para crear una variable tipo `tuple` cuyos elementos son tipo string se usa la siguiente sintaxis:\n",
        "\n",
        "  `<variable> = (\"<cadena_1>\",\"<cadena_2>\",...,\"<cadena_n>\")`\n",
        "\n",
        "  Para crear una variable tipo `tuple` cuyos elementos son de tipo numérico se usa la siguiente sintaxis:\n",
        "\n",
        "   `<variable> = (\"<valor_1>\",\"<valor_2>\",...,\"<valor_n>\")`  \n",
        "\n",
        "3.  ` range(n,m,p)` permite difinir una función que retorna una secuencia de números que comienza en el valor `n`, va incrementando  en `p` cada valor, hasta llegar al valor `m-p`. `n`, `m` y `p`, son enteros no negativos con $n < m $.  Si el valor de `p` no se especifica, por defecto es 1. La sintaxis de uso es la siguiente:\n",
        "\n",
        "   `<variable> = range(<valor_1>,<valor_2>,<paso>)`\n",
        "\n",
        "**Ejemplo 1.**\n",
        "Veamos como definir e imprimir una lista con las palabras \"manzana\", \"naranja\" y \"fresa\", y otra con los valores numéricos 1, 2 ,3, y 4."
      ]
    },
    {
      "cell_type": "code",
      "metadata": {
        "id": "v9tPa5NHrVON",
        "colab": {
          "base_uri": "https://localhost:8080/",
          "height": 52
        },
        "outputId": "86a84d78-a360-4237-bd3f-dd62eb4d1eaf"
      },
      "source": [
        "x=[\"manzana\",\"naranja\",\"fresa\"]\n",
        "print (x)\n",
        "y=[1,2,3,4]\n",
        "print(y)"
      ],
      "execution_count": null,
      "outputs": [
        {
          "output_type": "stream",
          "text": [
            "['manzana', 'naranja', 'fresa']\n",
            "[1, 2, 3, 4]\n"
          ],
          "name": "stdout"
        }
      ]
    },
    {
      "cell_type": "markdown",
      "metadata": {
        "id": "9_bpmZM6h46S"
      },
      "source": [
        "**Ejemplo 2**\n",
        "\n",
        "Crear una tupla con las palabras \"manzana\", \"naranja\" y \"fresa\", y otra con los valores 1, 2, 3 y 4."
      ]
    },
    {
      "cell_type": "code",
      "metadata": {
        "id": "kBXb92SQiXix",
        "colab": {
          "base_uri": "https://localhost:8080/",
          "height": 52
        },
        "outputId": "d1336e78-9814-43a9-a39f-848b6dc5dd73"
      },
      "source": [
        "x = (\"manzana\",\"naranja\",\"fresa\")\n",
        "print(x)\n",
        "y = (1,2,3,4)\n",
        "print(y)"
      ],
      "execution_count": null,
      "outputs": [
        {
          "output_type": "stream",
          "text": [
            "('manzana', 'naranja', 'fresa')\n",
            "(1, 2, 3, 4)\n"
          ],
          "name": "stdout"
        }
      ]
    },
    {
      "cell_type": "markdown",
      "metadata": {
        "id": "EhcMShjUGzp9"
      },
      "source": [
        "Podemos referirnos a los elementos de la lista mediante índices."
      ]
    },
    {
      "cell_type": "code",
      "metadata": {
        "id": "HTea-jBysd6W",
        "colab": {
          "base_uri": "https://localhost:8080/",
          "height": 67
        },
        "outputId": "97c50604-f364-4268-c273-2d7ea3834344"
      },
      "source": [
        "x=[\"manzana\",\"naranja\",\"fresa\"]\n",
        "print (x[0])\n",
        "print (x[1])\n",
        "print (x[2])"
      ],
      "execution_count": null,
      "outputs": [
        {
          "output_type": "stream",
          "text": [
            "manzana\n",
            "naranja\n",
            "fresa\n"
          ],
          "name": "stdout"
        }
      ]
    },
    {
      "cell_type": "markdown",
      "metadata": {
        "id": "aAJeS60xOsFI"
      },
      "source": [
        "Podemos transformar una cadena de caracteres en una lista, usando el comando `list`. En este caso, la lista contendrá  cada una de las letras que componen la cadena de caracteres preservando el orden e incluyendo los espacios en blanco. \n",
        "\n",
        "**Ejemplo 3.**"
      ]
    },
    {
      "cell_type": "code",
      "metadata": {
        "id": "F7DDs0HAMkYx",
        "colab": {
          "base_uri": "https://localhost:8080/",
          "height": 34
        },
        "outputId": "a7346c3f-6df7-450d-aa9d-5aa01161fa83"
      },
      "source": [
        "x=\"Hola mundo\"\n",
        "y=list(x)\n",
        "print(y)"
      ],
      "execution_count": null,
      "outputs": [
        {
          "output_type": "stream",
          "text": [
            "['H', 'o', 'l', 'a', ' ', 'm', 'u', 'n', 'd', 'o']\n"
          ],
          "name": "stdout"
        }
      ]
    },
    {
      "cell_type": "markdown",
      "metadata": {
        "id": "kE0VNPlDPR5Z"
      },
      "source": [
        "### Operaciones con listas\n",
        "Con una lista podemos realizar las siguientes operaciones:\n",
        "\n",
        "\n",
        "* Agregar `append `\n",
        "* Insertar `insert`\n",
        "* Eliminar  `pop`\n",
        "* Concatenar `+`\n",
        "* Reversar `reverse`\n",
        "* List - Zip `list(zip())`\n"
      ]
    },
    {
      "cell_type": "markdown",
      "metadata": {
        "id": "zmAjoLSLuBut"
      },
      "source": [
        "Podemos agregar un elemento adicional a una lista mediante el comando` <lista>.append(\"<elemento>\")`\n",
        "\n",
        "\n"
      ]
    },
    {
      "cell_type": "code",
      "metadata": {
        "id": "AQPQpvtrssQ5",
        "colab": {
          "base_uri": "https://localhost:8080/",
          "height": 34
        },
        "outputId": "e23b5e4e-0821-4c71-9ac3-bcc1f79a0940"
      },
      "source": [
        "x=[\"manzana\",\"naranja\",\"fresa\"]\n",
        "x.append(\"mango\")\n",
        "print(x)"
      ],
      "execution_count": null,
      "outputs": [
        {
          "output_type": "stream",
          "text": [
            "['manzana', 'naranja', 'fresa', 'mango']\n"
          ],
          "name": "stdout"
        }
      ]
    },
    {
      "cell_type": "markdown",
      "metadata": {
        "id": "gcEQyWaLuPAS"
      },
      "source": [
        "Podemos isertar un nuevo elemento a una lista en la posición que elijamos, mediante el comando `<lista>.insert(<posición>, \"<elemento>\")`\n"
      ]
    },
    {
      "cell_type": "code",
      "metadata": {
        "id": "bnCGzHfVuaXF",
        "colab": {
          "base_uri": "https://localhost:8080/",
          "height": 34
        },
        "outputId": "14a1efa2-e18a-4e28-ca26-1de1c2d3f176"
      },
      "source": [
        "x=[\"a\",\"b\",\"d\",\"e\"]\n",
        "x.insert(-3,\"c\")\n",
        "print(x)"
      ],
      "execution_count": null,
      "outputs": [
        {
          "output_type": "stream",
          "text": [
            "['a', 'c', 'b', 'd', 'e']\n"
          ],
          "name": "stdout"
        }
      ]
    },
    {
      "cell_type": "markdown",
      "metadata": {
        "id": "94APQdJbuvOh"
      },
      "source": [
        "Podemos eliminar un elemento de la lista, mediante el comando `<lista>.pop(<indice>)`"
      ]
    },
    {
      "cell_type": "code",
      "metadata": {
        "id": "jaulTnmxuyHn",
        "colab": {
          "base_uri": "https://localhost:8080/",
          "height": 50
        },
        "outputId": "5a692d1b-b5ab-483c-f839-dc3caf1f92df"
      },
      "source": [
        "x=[\"manzana\",\"naranja\",\"fresa\"]\n",
        "x.pop(1)\n",
        "print(x)\n",
        "x.pop(1)\n",
        "print(x)"
      ],
      "execution_count": null,
      "outputs": [
        {
          "output_type": "stream",
          "text": [
            "['manzana', 'fresa']\n",
            "['manzana']\n"
          ],
          "name": "stdout"
        }
      ]
    },
    {
      "cell_type": "markdown",
      "metadata": {
        "id": "W9-Xc9XGv08C"
      },
      "source": [
        "Pueden concatenarse dos listas para conformar una nueva usando el operador suma `+`"
      ]
    },
    {
      "cell_type": "code",
      "metadata": {
        "id": "kBw4pT7gv3Z5",
        "colab": {
          "base_uri": "https://localhost:8080/",
          "height": 50
        },
        "outputId": "74780c35-1a99-4036-fbc6-bc7b39b41e32"
      },
      "source": [
        "x=[\"a\",\"b\",\"c\"]\n",
        "y=[2,3,5]\n",
        "print(x+y)\n",
        "print(y+x)"
      ],
      "execution_count": null,
      "outputs": [
        {
          "output_type": "stream",
          "text": [
            "['a', 'b', 'c', 2, 3, 5]\n",
            "[2, 3, 5, 'a', 'b', 'c']\n"
          ],
          "name": "stdout"
        }
      ]
    },
    {
      "cell_type": "markdown",
      "metadata": {
        "id": "YQmk7dSRwaUN"
      },
      "source": [
        "Podemos reversar una lista, usando el operador `<lista>.reverse()`"
      ]
    },
    {
      "cell_type": "code",
      "metadata": {
        "id": "B7X59eN0wdrR",
        "colab": {
          "base_uri": "https://localhost:8080/",
          "height": 35
        },
        "outputId": "67a8a356-0446-43c4-a34e-2251e9e9e1c9"
      },
      "source": [
        "x=[\"manzana\",\"naranja\",\"fresa\"]\n",
        "y=[2,3,5]\n",
        "z=x+y\n",
        "z.reverse()\n",
        "print(z)"
      ],
      "execution_count": null,
      "outputs": [
        {
          "output_type": "stream",
          "text": [
            "[5, 3, 2, 'fresa', 'naranja', 'manzana']\n"
          ],
          "name": "stdout"
        }
      ]
    },
    {
      "cell_type": "markdown",
      "source": [
        "Podemos crear una lista de tuplas ordenadas a partir de la composición de las funciones `list` y `zip` usando la sintaxis `list(zip(lista_1,lista_2, . . ., lista_n))`. "
      ],
      "metadata": {
        "id": "WqBCNJzG4AqM"
      }
    },
    {
      "cell_type": "code",
      "source": [
        "x=[\"manzana\",\"naranja\",\"fresa\"]\n",
        "y=[2,3,5]\n",
        "z=list(zip(x,y))\n",
        "print(z)"
      ],
      "metadata": {
        "colab": {
          "base_uri": "https://localhost:8080/"
        },
        "id": "vFCsqgZt4Wx4",
        "outputId": "94006dc9-7506-4841-c8be-87a60539c7fa"
      },
      "execution_count": null,
      "outputs": [
        {
          "output_type": "stream",
          "name": "stdout",
          "text": [
            "[('manzana', 2), ('naranja', 3), ('fresa', 5)]\n"
          ]
        }
      ]
    },
    {
      "cell_type": "markdown",
      "metadata": {
        "id": "aJ0RIiM4xXsg"
      },
      "source": [
        "### Ejemplo 3 ( `tuple`)"
      ]
    },
    {
      "cell_type": "code",
      "metadata": {
        "id": "awqaTDsaxoZ_",
        "colab": {
          "base_uri": "https://localhost:8080/",
          "height": 35
        },
        "outputId": "49a6e8fb-a0e2-4366-dc2e-2ffed267a118"
      },
      "source": [
        "x=(1,4,5,7)\n",
        "print(x)"
      ],
      "execution_count": null,
      "outputs": [
        {
          "output_type": "stream",
          "text": [
            "(1, 4, 5, 7)\n"
          ],
          "name": "stdout"
        }
      ]
    },
    {
      "cell_type": "markdown",
      "metadata": {
        "id": "sb2FC9lZylS5"
      },
      "source": [
        "La longitud de una tupla puede obtenerse mediante la función `len(<NombreTupla>)`"
      ]
    },
    {
      "cell_type": "code",
      "metadata": {
        "id": "83ke_FjUyufe",
        "colab": {
          "base_uri": "https://localhost:8080/",
          "height": 35
        },
        "outputId": "19bae744-d3df-40ae-9133-079dd82635c4"
      },
      "source": [
        "x=(1,4,5,7)\n",
        "print(len(x))"
      ],
      "execution_count": null,
      "outputs": [
        {
          "output_type": "stream",
          "text": [
            "4\n"
          ],
          "name": "stdout"
        }
      ]
    },
    {
      "cell_type": "markdown",
      "metadata": {
        "id": "NeoA9jio0Npr"
      },
      "source": [
        "### Ejemplo 4.\n",
        "Para imprimir los valores que genera la función `range(0,6,1)`."
      ]
    },
    {
      "cell_type": "code",
      "metadata": {
        "id": "2_5KKGeO0VT-",
        "colab": {
          "base_uri": "https://localhost:8080/",
          "height": 118
        },
        "outputId": "38785f12-0026-4b22-99b7-93ee69ad99be"
      },
      "source": [
        "x=range(0,6,1)\n",
        "print (x[0])\n",
        "print (x[1])\n",
        "print (x[2])\n",
        "print (x[3])\n",
        "print (x[4])\n",
        "print (x[5])"
      ],
      "execution_count": null,
      "outputs": [
        {
          "output_type": "stream",
          "text": [
            "0\n",
            "1\n",
            "2\n",
            "3\n",
            "4\n",
            "5\n"
          ],
          "name": "stdout"
        }
      ]
    },
    {
      "cell_type": "markdown",
      "metadata": {
        "id": "KS_LwZjAfhyi"
      },
      "source": [
        "Una forma más compacta de generar los mismos resultados consiste en usar el comando `for`, este comando permite repertir una instrucción tantas veces como se quiera. En una sección posterior veremos con más detalle este comando"
      ]
    },
    {
      "cell_type": "code",
      "metadata": {
        "id": "HHfPAvbTf-wu",
        "colab": {
          "base_uri": "https://localhost:8080/",
          "height": 118
        },
        "outputId": "8fa70b06-9d34-41d0-9797-c2a40d2bee94"
      },
      "source": [
        "x = range(0,6,1)\n",
        "for i in x:\n",
        "  print(x[i])"
      ],
      "execution_count": null,
      "outputs": [
        {
          "output_type": "stream",
          "text": [
            "0\n",
            "1\n",
            "2\n",
            "3\n",
            "4\n",
            "5\n"
          ],
          "name": "stdout"
        }
      ]
    },
    {
      "cell_type": "markdown",
      "metadata": {
        "id": "lflAoViw3eox"
      },
      "source": [
        "La función `range()` es útil cuando necesitamos  referenciar las entradas de una lista o una tupla."
      ]
    },
    {
      "cell_type": "code",
      "metadata": {
        "id": "tE9xVNAZ6cpq",
        "colab": {
          "base_uri": "https://localhost:8080/",
          "height": 118
        },
        "outputId": "3ef7a567-7718-4e26-f095-f9f74ed78b72"
      },
      "source": [
        " x=range(2,8) # por defecto el paso es 1.\n",
        "y=(23,5,-2,5,9,11,-9,50)\n",
        "for i in x:\n",
        "  print(y[i])"
      ],
      "execution_count": null,
      "outputs": [
        {
          "output_type": "stream",
          "text": [
            "-2\n",
            "5\n",
            "9\n",
            "11\n",
            "-9\n",
            "50\n"
          ],
          "name": "stdout"
        }
      ]
    },
    {
      "cell_type": "code",
      "metadata": {
        "id": "EUsUxFWvJ6lI",
        "colab": {
          "base_uri": "https://localhost:8080/",
          "height": 118
        },
        "outputId": "f6a1425c-8c60-4536-b17d-13799c8a394a"
      },
      "source": [
        "#También podemos usar la función len()\n",
        "#esta función calcula el número de elemento de una lista o tupla\n",
        "y=(1,0,-2,5,9,11)\n",
        "for i in range (len(y)): \n",
        "  print(y[i])"
      ],
      "execution_count": null,
      "outputs": [
        {
          "output_type": "stream",
          "text": [
            "1\n",
            "0\n",
            "-2\n",
            "5\n",
            "9\n",
            "11\n"
          ],
          "name": "stdout"
        }
      ]
    },
    {
      "cell_type": "markdown",
      "source": [
        "### Ejemplo 5\n",
        "\n",
        "Los grafos constituyen una de las estructuras más importantes de las matemáticas con multiples aplicaciones en las Ciencias de la Computación. Un grafo está constituido por una colección de  *nodos*  o *vértices* $V$ y una colección de  *arístas* $E$ que corresponden a duplas de vértices.\n",
        "\n",
        "Consideremos un grafo $G=(V,E)$, donde $$V = \\{a,b,c,d,e,f\\}$$ representa la colección de vértices y $$E = \\{ (a,b),(a,c),(b,d),(b,e), (c,d),(c,e),(d,f),(e,f)\\}$$ representa la colección de vértices  de la figura podemos representarlo como una lista de duplas, como se muestra a continuación.\n",
        "\n"
      ],
      "metadata": {
        "id": "iluDCWAcW4XD"
      }
    },
    {
      "cell_type": "code",
      "source": [
        "#@title Grafo de G\n",
        "\n",
        "from IPython.display import Image\n",
        "Image(\"/content/drive/MyDrive/Imagenes Introducción a Python/Grafo1.png\")"
      ],
      "metadata": {
        "colab": {
          "base_uri": "https://localhost:8080/",
          "height": 305
        },
        "cellView": "form",
        "id": "ATICgzMUkJyx",
        "outputId": "4de59661-8330-45aa-afd0-591afc06681a"
      },
      "execution_count": null,
      "outputs": [
        {
          "output_type": "execute_result",
          "data": {
            "image/png": "[encoded data removed]",
            "text/plain": [
              "<IPython.core.display.Image object>"
            ]
          },
          "metadata": {},
          "execution_count": 10
        }
      ]
    },
    {
      "cell_type": "code",
      "source": [
        "G = [('a','b'),('a','c'),('b','d'),('b','e'),('c','d'),('c','e'),('d','f'),('e','f')]\n",
        "G"
      ],
      "metadata": {
        "id": "6VLdpKHDcV6A",
        "colab": {
          "base_uri": "https://localhost:8080/"
        },
        "outputId": "a8f1b1a3-c32b-4461-d760-6c12e9466115"
      },
      "execution_count": null,
      "outputs": [
        {
          "output_type": "execute_result",
          "data": {
            "text/plain": [
              "[('a', 'b'),\n",
              " ('a', 'c'),\n",
              " ('b', 'd'),\n",
              " ('b', 'e'),\n",
              " ('c', 'd'),\n",
              " ('c', 'e'),\n",
              " ('d', 'f'),\n",
              " ('e', 'f')]"
            ]
          },
          "metadata": {},
          "execution_count": 8
        }
      ]
    },
    {
      "cell_type": "markdown",
      "metadata": {
        "id": "s6efV96D34rL"
      },
      "source": [
        "### 1.3.4 Tipo diccionario\n",
        "Un diccionario ` dict` , es una colección no ordenada de individuos o items que puede cambiar de tamaño. En un diccionario cada  item viene especificado por una ***clave*** o ***llave*** y un ***valor***. Llamaremos a un par `<clave i>:<valor i>` un ***item*** del diccionario.  La sintaxis para crear un diccionario es:\n",
        "\n",
        "`<nombre-diccionario>={\"<clave_1>\" : \"<valor_1>\", ..., \"<clave_n>\" : \"<valor_n>\" }`, \n",
        "\n",
        "también puede usarse:\n",
        "\n",
        " `dict(<clave_1>=\"<valor1>\", ..., <clave_n>=\"<valor_n>\" )`.\n",
        " \n",
        " **Nota**\n",
        "\n",
        "1.   Un diccionario vacío se declara mediante el par de corchetes `{}`.\n",
        "2.   El ***valor*** puede corresponder a una cadena de caracteres o a una lista.\n",
        "\n",
        "\n",
        "\n",
        "**Ejemplo 1.**\n",
        "\n",
        "Creamos una diccionario con nombre x, cuyas claves son: \"fruta\", \"color\" y \"estado\", y cuyos valores son: \"manzana\", \"rojo\" y \"regular\", respectivamente. "
      ]
    },
    {
      "cell_type": "code",
      "metadata": {
        "id": "4tWwfftO4e7R",
        "colab": {
          "base_uri": "https://localhost:8080/",
          "height": 34
        },
        "outputId": "299f6ed8-79bb-46b7-fa96-91f492327769"
      },
      "source": [
        "x={\"fruta\":\"naranaja\",\"color\":\"amarillo\",\"estado\":\"bueno\"}\n",
        "print(x)\n"
      ],
      "execution_count": null,
      "outputs": [
        {
          "output_type": "stream",
          "text": [
            "{'fruta': 'naranaja', 'color': 'amarillo', 'estado': 'bueno'}\n"
          ],
          "name": "stdout"
        }
      ]
    },
    {
      "cell_type": "markdown",
      "source": [
        "Creamos un diccionario con nombre `Digitos` conformado por digitos pares e impares."
      ],
      "metadata": {
        "id": "a29ldPGV8CM8"
      }
    },
    {
      "cell_type": "code",
      "source": [
        "Digitos = {\"pares\":['0','2','4','6','8'], \"impares\":['1','3','5','9']}\n",
        "print(Digitos)"
      ],
      "metadata": {
        "colab": {
          "base_uri": "https://localhost:8080/"
        },
        "id": "raVGrQhg8Q2s",
        "outputId": "c6c3ea6e-9f7e-4e87-969d-055f604f8dcc"
      },
      "execution_count": null,
      "outputs": [
        {
          "output_type": "stream",
          "name": "stdout",
          "text": [
            "{'pares': ['0', '2', '4', '6', '8'], 'impares': ['1', '3', '5', '9']}\n"
          ]
        }
      ]
    },
    {
      "cell_type": "markdown",
      "metadata": {
        "id": "v4jqpVoky3Gn"
      },
      "source": [
        "**Ejemplo 2.**\n",
        "En este ejemplo usamos el comando `dict() `para crear un diccionario. "
      ]
    },
    {
      "cell_type": "code",
      "metadata": {
        "id": "6FEhEhkOzWV5",
        "colab": {
          "base_uri": "https://localhost:8080/",
          "height": 34
        },
        "outputId": "906f91eb-15a8-4b1f-990c-7520ec877756"
      },
      "source": [
        "x = dict( fruta =\"manzana\",color = \"rojo\",estado = \"regular\")\n",
        "print(x)"
      ],
      "execution_count": null,
      "outputs": [
        {
          "output_type": "stream",
          "text": [
            "{'fruta': 'manzana', 'color': 'rojo', 'estado': 'regular'}\n"
          ],
          "name": "stdout"
        }
      ]
    },
    {
      "cell_type": "markdown",
      "metadata": {
        "id": "Xinxn80r5xVC"
      },
      "source": [
        "Podemos obtener un valor de un diccionario especificando la clave, mediante el comando `<nombre-lista>.get(<clave>)` o usando `<nombre-lista>[<clave>]`"
      ]
    },
    {
      "cell_type": "markdown",
      "metadata": {
        "id": "1r0aFZZX2I70"
      },
      "source": [
        "**Ejemplo 3**\n"
      ]
    },
    {
      "cell_type": "code",
      "metadata": {
        "id": "mdXDiU152uvx",
        "colab": {
          "base_uri": "https://localhost:8080/",
          "height": 50
        },
        "outputId": "73f95c8a-6b7a-49a5-d88e-650d4d7f2e70"
      },
      "source": [
        "x={\"fruta\":\"limon\",\"color\":\"verde\",\"estado\":\"regular\"}\n",
        "print(x.get(\"color\"))\n",
        "print(x[\"fruta\"])"
      ],
      "execution_count": null,
      "outputs": [
        {
          "output_type": "stream",
          "text": [
            "verde\n",
            "limon\n"
          ],
          "name": "stdout"
        }
      ]
    },
    {
      "cell_type": "markdown",
      "metadata": {
        "id": "KaRL769924P8"
      },
      "source": [
        "**Ejemplo 4**"
      ]
    },
    {
      "cell_type": "code",
      "metadata": {
        "id": "CD8yWRRGzz9T",
        "colab": {
          "base_uri": "https://localhost:8080/",
          "height": 50
        },
        "outputId": "287575b2-373e-4f91-9ec6-f0ef90c0f421"
      },
      "source": [
        "Mario_Rodriguez={\"edad\":\"18\",\"carrera\":\"Ciencias de la Computación\",\"papa\":\"3.5\"}\n",
        "print(Mario_Rodriguez.get(\"papa\"))\n",
        "print(Mario_Rodriguez[\"carrera\"])"
      ],
      "execution_count": null,
      "outputs": [
        {
          "output_type": "stream",
          "text": [
            "3.5\n",
            "Ciencias de la Computación\n"
          ],
          "name": "stdout"
        }
      ]
    },
    {
      "cell_type": "markdown",
      "metadata": {
        "id": "RDJbfNmiUJr6"
      },
      "source": [
        "\n",
        "\n",
        "\n",
        "\n",
        "\n",
        "\n",
        "\n",
        "\n",
        "### Operaciones con diccionarios\n",
        "Podemos realizar las siguientes operaciones con los diccionarios\n",
        "* Cambiar el valor de un item.\n",
        "* Agregar un item.\n",
        "* Remover o eliminar un item.\n",
        "* Vaciar el diccionario.\n",
        "\n",
        "**Ejemplo 5.**\n",
        "Definimos un diccionario con nombre vehículo y cambiamos el valor de la clave color por rojo."
      ]
    },
    {
      "cell_type": "code",
      "metadata": {
        "id": "jt1WBmCuYvZd",
        "colab": {
          "base_uri": "https://localhost:8080/",
          "height": 34
        },
        "outputId": "ef4de878-364e-49d6-f0b6-5e067716494d"
      },
      "source": [
        "vehiculo = {\"marca\":\"Toyota\", \"cilindraje\":\"3000\",\"color\":\"verde\"}\n",
        "vehiculo[\"marca\"]=\"Renault\"\n",
        "print(vehiculo)"
      ],
      "execution_count": null,
      "outputs": [
        {
          "output_type": "stream",
          "text": [
            "{'marca': 'Renault', 'cilindraje': '3000', 'color': 'verde'}\n"
          ],
          "name": "stdout"
        }
      ]
    },
    {
      "cell_type": "markdown",
      "metadata": {
        "id": "c2KPxqbns7hT"
      },
      "source": [
        "**Ejemplo 6.**\n",
        "Para agregar un item basta usar el comando \n",
        "\n",
        "`<nombre-diccionario>[\"claveNueva\"]=\"valorNuevo\"`"
      ]
    },
    {
      "cell_type": "code",
      "metadata": {
        "id": "VvEN7mDxtqCT",
        "colab": {
          "base_uri": "https://localhost:8080/",
          "height": 70
        },
        "outputId": "cc3df544-1df5-4653-854c-083eae2ffa00"
      },
      "source": [
        "vehiculo = {\"marca\":\"Toyota\", \"cilindraje\":\"3000\", \"color\":\"verde\"}\n",
        "vehiculo[\"modelo\"]=\"Fortuner\"\n",
        "print(vehiculo)\n",
        "vehiculo[\"año\"] = \"2020\"\n",
        "print(vehiculo)"
      ],
      "execution_count": null,
      "outputs": [
        {
          "output_type": "stream",
          "text": [
            "{'marca': 'Toyota', 'cilindraje': '3000', 'color': 'verde', 'modelo': 'Fortuner'}\n",
            "{'marca': 'Toyota', 'cilindraje': '3000', 'color': 'verde', 'modelo': 'Fortuner', 'año': '2020'}\n"
          ],
          "name": "stdout"
        }
      ]
    },
    {
      "cell_type": "markdown",
      "metadata": {
        "id": "L7sXrHfbt4sS"
      },
      "source": [
        "**Ejemplo 6.**\n",
        "Para remover un item se hace referencia a la clave del item que se desea remover mediante el siguiente comando `<nombre-dicionario>.pop(\"<clave>\")`"
      ]
    },
    {
      "cell_type": "code",
      "metadata": {
        "id": "5mo0SmhvuZ4S",
        "colab": {
          "base_uri": "https://localhost:8080/",
          "height": 34
        },
        "outputId": "018ed801-4981-44ac-dbc4-a641fcbf080c"
      },
      "source": [
        "vehiculo = {\"marca\":\"Toyota\", \"cilindraje\":\"3000\",\"color\":\"verde\"}\n",
        "vehiculo.pop(\"cilindraje\")\n",
        "print(vehiculo)"
      ],
      "execution_count": null,
      "outputs": [
        {
          "output_type": "stream",
          "text": [
            "{'marca': 'Toyota', 'color': 'verde'}\n"
          ],
          "name": "stdout"
        }
      ]
    },
    {
      "cell_type": "code",
      "source": [
        "Diccionario = {\"vocales\":['a','e','i','o','u'], \"consonantes\":['b','c','d','f','g']}\n",
        "Diccionario.pop(\"vocales\")\n",
        "print(Diccionario)"
      ],
      "metadata": {
        "colab": {
          "base_uri": "https://localhost:8080/"
        },
        "id": "WSx5Jvhq4Cu7",
        "outputId": "9ceb36dc-955e-4242-9bed-ac3eaad8b632"
      },
      "execution_count": null,
      "outputs": [
        {
          "output_type": "stream",
          "name": "stdout",
          "text": [
            "{'consonantes': ['b', 'c', 'd', 'f', 'g']}\n"
          ]
        }
      ]
    },
    {
      "cell_type": "markdown",
      "metadata": {
        "id": "ugv60y_-vfvj"
      },
      "source": [
        "\n",
        "**Ejemplo 7.**\n",
        "Para borrar un item, también puede usarse el comando `del <nombre-diccionario>[\"<clave>\"]`"
      ]
    },
    {
      "cell_type": "code",
      "metadata": {
        "id": "4TYojBctwMZh",
        "colab": {
          "base_uri": "https://localhost:8080/",
          "height": 34
        },
        "outputId": "74f6af23-4807-4408-bd17-bf7a6416df66"
      },
      "source": [
        "vehiculo = {\"marca\":\"Toyota\", \"cilindraje\":\"3000\",\"color\":\"\"}\n",
        "del vehiculo[\"marca\"]\n",
        "print(vehiculo)"
      ],
      "execution_count": null,
      "outputs": [
        {
          "output_type": "stream",
          "text": [
            "{'cilindraje': '3000', 'color': ''}\n"
          ],
          "name": "stdout"
        }
      ]
    },
    {
      "cell_type": "markdown",
      "metadata": {
        "id": "daYx2n2DwjZL"
      },
      "source": [
        "**Ejemplo 8.**\n",
        "`del ` también permite remover todos los item de una lista"
      ]
    },
    {
      "cell_type": "code",
      "metadata": {
        "id": "ZlCXYD7-w4zz",
        "colab": {
          "base_uri": "https://localhost:8080/",
          "height": 212
        },
        "outputId": "02c078b3-b0e0-49b4-965d-e53db721e9c3"
      },
      "source": [
        "vehiculo = {\"marca\":\"Toyota\", \"cilindraje\":\"3000\",\"color\":\"azul\"}\n",
        "del vehiculo\n",
        "print(vehiculo) # este print genera un error pues la lista vehículo es vacía y no contine items."
      ],
      "execution_count": null,
      "outputs": [
        {
          "output_type": "error",
          "ename": "NameError",
          "evalue": "ignored",
          "traceback": [
            "\u001b[0;31m---------------------------------------------------------------------------\u001b[0m",
            "\u001b[0;31mNameError\u001b[0m                                 Traceback (most recent call last)",
            "\u001b[0;32m<ipython-input-36-28d761717b7a>\u001b[0m in \u001b[0;36m<module>\u001b[0;34m()\u001b[0m\n\u001b[1;32m      1\u001b[0m \u001b[0mvehiculo\u001b[0m \u001b[0;34m=\u001b[0m \u001b[0;34m{\u001b[0m\u001b[0;34m\"marca\"\u001b[0m\u001b[0;34m:\u001b[0m\u001b[0;34m\"Toyota\"\u001b[0m\u001b[0;34m,\u001b[0m \u001b[0;34m\"cilindraje\"\u001b[0m\u001b[0;34m:\u001b[0m\u001b[0;34m\"3000\"\u001b[0m\u001b[0;34m,\u001b[0m\u001b[0;34m\"color\"\u001b[0m\u001b[0;34m:\u001b[0m\u001b[0;34m\"\"\u001b[0m\u001b[0;34m}\u001b[0m\u001b[0;34m\u001b[0m\u001b[0;34m\u001b[0m\u001b[0m\n\u001b[1;32m      2\u001b[0m \u001b[0;32mdel\u001b[0m \u001b[0mvehiculo\u001b[0m\u001b[0;34m\u001b[0m\u001b[0;34m\u001b[0m\u001b[0m\n\u001b[0;32m----> 3\u001b[0;31m \u001b[0mprint\u001b[0m\u001b[0;34m(\u001b[0m\u001b[0mvehiculo\u001b[0m\u001b[0;34m)\u001b[0m \u001b[0;31m# este print genera un error pues la lista vehículo es vacía y no contine items.\u001b[0m\u001b[0;34m\u001b[0m\u001b[0;34m\u001b[0m\u001b[0m\n\u001b[0m",
            "\u001b[0;31mNameError\u001b[0m: name 'vehiculo' is not defined"
          ]
        }
      ]
    },
    {
      "cell_type": "markdown",
      "metadata": {
        "id": "GOk10RXf3Wvq"
      },
      "source": [
        "Podemos usar los diccionarios para crear pequeñas bases de datos; en este caso los valores pueden ser otros tipos de datos. En el siguiente ejemplo, los valores corresponden a diccionarios.\n",
        "\n",
        "**Ejemplo 9**"
      ]
    },
    {
      "cell_type": "code",
      "metadata": {
        "id": "0F9s6nEg54bk",
        "colab": {
          "base_uri": "https://localhost:8080/",
          "height": 67
        },
        "outputId": "f5f1a9a2-9a30-459e-c515-18bf631c1b75"
      },
      "source": [
        "Estudiante_1={\"Nombre\":\"Mario Rodriguez\",\"edad\":\"18\",\"carrera\":\"Ciencias de la Computación\",\"papa\":\"3.5\"}\n",
        "Estudiante_2={\"Nombre\":\"Roberto Martinez\",\"edad\":\"20\",\"carrera\":\"Arquitectura\",\"papa\":\"4.0\"}\n",
        "Lista_Clase={\"ID2015\":Estudiante_1,\"ID2016\":Estudiante_2}\n",
        "print(Lista_Clase[\"ID2015\"])\n",
        "print(Lista_Clase[\"ID2016\"])\n",
        "print()"
      ],
      "execution_count": null,
      "outputs": [
        {
          "output_type": "stream",
          "text": [
            "{'Nombre': 'Mario Rodriguez', 'edad': '18', 'carrera': 'Ciencias de la Computación', 'papa': '3.5'}\n",
            "{'Nombre': 'Roberto Martinez', 'edad': '20', 'carrera': 'Arquitectura', 'papa': '4.0'}\n",
            "\n"
          ],
          "name": "stdout"
        }
      ]
    },
    {
      "cell_type": "markdown",
      "metadata": {
        "id": "dCg31a4K3cUi"
      },
      "source": [
        "### 1.3.5 Tipo conjunto\n",
        "Un conjunto `set` es una colección no ordenada  y no indexada de  individuos. Para generar un conjunto, usamos la siguiente sintaxis\n",
        "\n",
        "`<nombre-conjunto> = {\"<elemento1>\" , \"<elemento2>\" ,..., \"<elemento n>\"}`\n",
        "\n",
        "**Nota**\n",
        "\n",
        "El conjunto vacío se nota `set()`.  \n",
        "\n",
        "**Ejemplo 1.**"
      ]
    },
    {
      "cell_type": "code",
      "metadata": {
        "id": "vRzYJ_hb5XC9",
        "colab": {
          "base_uri": "https://localhost:8080/",
          "height": 34
        },
        "outputId": "21061bb8-8888-46f8-a655-2bcf45035936"
      },
      "source": [
        "vocales={\"a\",\"e\",\"i\",\"o\",\"u\"}\n",
        "print(vocales)\n"
      ],
      "execution_count": null,
      "outputs": [
        {
          "output_type": "stream",
          "text": [
            "{'e', 'a', 'i', 'u', 'o'}\n"
          ],
          "name": "stdout"
        }
      ]
    },
    {
      "cell_type": "markdown",
      "metadata": {
        "id": "aH_t3j46ecs9"
      },
      "source": [
        "### Operaciones con conjuntos\n",
        "Phyton también tiene implementado las operaciones usuales entre conjuntos\n",
        "*  `|` denota la unión.\n",
        "*  `&` denota la intersección.\n",
        "* `-`  denota diferencia.\n",
        "*  `^` denota diferencia simétrica.\n",
        "\n",
        "**Ejemplo 2.**\n"
      ]
    },
    {
      "cell_type": "code",
      "metadata": {
        "id": "k3ftj7I7hwwg",
        "colab": {
          "base_uri": "https://localhost:8080/",
          "height": 34
        },
        "outputId": "5a09d172-17f5-4fd5-c9c3-f8e4c7bd2469"
      },
      "source": [
        "x=set()\n",
        "y={4,5,6,7,8}\n",
        "z=x | y\n",
        "w=x&y\n",
        "v=x-y\n",
        "t=x^y\n",
        "print(f\"Union {z}, Interseccion {w}, Diferencia {v}, Dif. Simetrica {t} \")"
      ],
      "execution_count": null,
      "outputs": [
        {
          "output_type": "stream",
          "text": [
            "Union {4, 5, 6, 7, 8}, Interseccion set(), Diferencia set(), Dif. Simetrica {4, 5, 6, 7, 8} \n"
          ],
          "name": "stdout"
        }
      ]
    },
    {
      "cell_type": "markdown",
      "metadata": {
        "id": "Oo4ox5tq8prH"
      },
      "source": [
        "### 1.3.6 Tipo Booleano\n",
        "Una variable es de tipo booleano `bool`, si:\n",
        "\n",
        "*  Se le asigna alguno de los valores `True` o `False`.\n",
        "* Es una proposición matemática, es decir,  un computador puede decidir si es verdadera o falsa. En este caso la proposición toma el valor `True` si es verdadera, o el valor `False` si es falsa.\n",
        "* Se forma a partir de variables booleanas o proposiciones conectadas mediante partículas lógicos tales como `and`, `or` etc.\n",
        "\n",
        "**Ejemplo 1.**"
      ]
    },
    {
      "cell_type": "code",
      "metadata": {
        "id": "G5wqcjiiCYy1",
        "colab": {
          "base_uri": "https://localhost:8080/",
          "height": 118
        },
        "outputId": "60190fbd-c9d5-4546-8473-d709006fcf1f"
      },
      "source": [
        "x=True\n",
        "y=False\n",
        "p= x and y\n",
        "q= x or y\n",
        "print(p)\n",
        "print(q)\n",
        "print (x == y) # el signo == representa una igualdad y genera una proposición al comparar dos variables.\n",
        "print(x != y)  # el signo != representa una diferencia o distinción y genera una proposición al comparar dos variables.\n",
        "print(int(x))\n",
        "print(int(y))"
      ],
      "execution_count": null,
      "outputs": [
        {
          "output_type": "stream",
          "text": [
            "False\n",
            "True\n",
            "False\n",
            "True\n",
            "1\n",
            "0\n"
          ],
          "name": "stdout"
        }
      ]
    },
    {
      "cell_type": "markdown",
      "metadata": {
        "id": "BOtPCuCdWoa-"
      },
      "source": [
        "**Nota:**\n",
        "Si una variable toma cualquier valor numérico o alfabético, podemos generar una variable boolena usando la función `bool`. La variable resultante tomará el valor `True`, si la variable original contiene o bien  un string distinto a la palabra vacía o contiene un valor numérico diferente a cero. En cualquier otro caso el valor generado será `False`.\n",
        "\n",
        "**Ejemplo 2.**\n",
        "\n"
      ]
    },
    {
      "cell_type": "code",
      "metadata": {
        "id": "p0aMHB8qVvzu",
        "colab": {
          "base_uri": "https://localhost:8080/",
          "height": 34
        },
        "outputId": "0a821c74-5722-454f-9e6d-e27e7b61e5f8"
      },
      "source": [
        " x = \"\"\n",
        " y = \"  \" #palabra vacía, no confundir con espacio en blanco\n",
        " x1 =bool(x)\n",
        " y1= bool(y)\n",
        "print(x1,y1)"
      ],
      "execution_count": null,
      "outputs": [
        {
          "output_type": "stream",
          "text": [
            "False True\n"
          ],
          "name": "stdout"
        }
      ]
    },
    {
      "cell_type": "markdown",
      "metadata": {
        "id": "PJQdI9YtZhsx"
      },
      "source": [
        "**Ejemplo 3.**"
      ]
    },
    {
      "cell_type": "code",
      "metadata": {
        "id": "RtLQEbrAY3Ax",
        "colab": {
          "base_uri": "https://localhost:8080/",
          "height": 34
        },
        "outputId": "a7892710-adaa-42d8-ef4b-86c1c9b52b57"
      },
      "source": [
        " x = 0\n",
        " y = 120\n",
        " x1 =bool(x)\n",
        " y1= bool(y)\n",
        "print(x1,y1)"
      ],
      "execution_count": null,
      "outputs": [
        {
          "output_type": "stream",
          "text": [
            "False True\n"
          ],
          "name": "stdout"
        }
      ]
    },
    {
      "cell_type": "markdown",
      "metadata": {
        "id": "OPBEz-qvwkA8"
      },
      "source": [
        "#### Relaciones entre conjuntos\n",
        "Usando relaciones entre conjuntos es posible crear proposiciones y en consecuencia variables booleanas. A continuación enunciamos algunas de las relaciones que se pueden definir sobre conjuntos.\n",
        "* `in` denota pertenencia de un elemento a un conjunto.\n",
        "* `<=` denota ser subconjunto de otro conjunto.\n",
        "* `>=` denota contener a un subcojunto.\n"
      ]
    },
    {
      "cell_type": "markdown",
      "metadata": {
        "id": "stRGspv4sd3o"
      },
      "source": [
        "Veamos algunos ejemplos con las relaciones definidas en la sección anterior para conjuntos.\n",
        "\n",
        "**Ejemplo 4**"
      ]
    },
    {
      "cell_type": "code",
      "metadata": {
        "id": "h-G5J7XWsvlA",
        "colab": {
          "base_uri": "https://localhost:8080/",
          "height": 67
        },
        "outputId": "6baf0fd0-1fa6-4ce9-992c-fabed197dfc0"
      },
      "source": [
        "A={1,3,5,7}\n",
        "B={3,5}\n",
        "p = 1 in A\n",
        "q = (B <= A)\n",
        "r = (A >= B)\n",
        "print(p)\n",
        "print(q)\n",
        "print(r)\n"
      ],
      "execution_count": null,
      "outputs": [
        {
          "output_type": "stream",
          "text": [
            "True\n",
            "True\n",
            "True\n"
          ],
          "name": "stdout"
        }
      ]
    },
    {
      "cell_type": "markdown",
      "metadata": {
        "id": "KnwRzpID3_bf"
      },
      "source": [
        "**Nota**\n",
        "Dado que  es muy útil mostrar información y resultados mediante tablas, introducimos aquí algunos comandos que permiten mostrar este tipo de estructura.  Es importante de antemano importar el módulo  (la librería) de Python `plotly.graph_objects` que usaremos con el seudónimo corto `go`. Más adelnate haremos una introducción más amplia al uso de módulos.\n",
        "\n",
        "**Ejemplo 1. (Tablas)** \n",
        "Creamos una tabla de valores con dos columnas que contendrán los pesos en kilos levantados por dos pesistas durante una sesión de entrenamiento."
      ]
    },
    {
      "cell_type": "code",
      "metadata": {
        "id": "neOJl42YILqH",
        "colab": {
          "base_uri": "https://localhost:8080/",
          "height": 317
        },
        "outputId": "1416f8b1-b88a-453f-ac3b-a73024596392"
      },
      "source": [
        "import plotly.graph_objects as go\n",
        "\n",
        "Tabla1 = go.Figure(data=[go.Table(\n",
        "    header=dict(values=['Pesista A', 'Pesista B','Pesista C'],\n",
        "                ),\n",
        "    cells=dict(values=[[100, 95, 97, 100], \n",
        "                       [95, 98, 100, 97], [100,90,98,99]], \n",
        "               ))\n",
        "])\n",
        "\n",
        "Tabla1.update_layout(width=400, height=300)\n",
        "Tabla1.show()"
      ],
      "execution_count": null,
      "outputs": [
        {
          "output_type": "display_data",
          "data": {
            "text/html": [
              "<html>\n",
              "<head><meta charset=\"utf-8\" /></head>\n",
              "<body>\n",
              "    <div>\n",
              "            <script src=\"https://cdnjs.cloudflare.com/ajax/libs/mathjax/2.7.5/MathJax.js?config=TeX-AMS-MML_SVG\"></script><script type=\"text/javascript\">if (window.MathJax) {MathJax.Hub.Config({SVG: {font: \"STIX-Web\"}});}</script>\n",
              "                <script type=\"text/javascript\">window.PlotlyConfig = {MathJaxConfig: 'local'};</script>\n",
              "        <script src=\"https://cdn.plot.ly/plotly-latest.min.js\"></script>    \n",
              "            <div id=\"d0c8afdd-3752-465e-95f3-7ec46d081a57\" class=\"plotly-graph-div\" style=\"height:300px; width:400px;\"></div>\n",
              "            <script type=\"text/javascript\">\n",
              "                \n",
              "                    window.PLOTLYENV=window.PLOTLYENV || {};\n",
              "                    \n",
              "                if (document.getElementById(\"d0c8afdd-3752-465e-95f3-7ec46d081a57\")) {\n",
              "                    Plotly.newPlot(\n",
              "                        'd0c8afdd-3752-465e-95f3-7ec46d081a57',\n",
              "                        [{\"cells\": {\"values\": [[100, 95, 97, 100], [95, 98, 100, 97], [100, 90, 98, 99]]}, \"header\": {\"values\": [\"Pesista A\", \"Pesista B\", \"Pesista C\"]}, \"type\": \"table\"}],\n",
              "                        {\"height\": 300, \"template\": {\"data\": {\"bar\": [{\"error_x\": {\"color\": \"#2a3f5f\"}, \"error_y\": {\"color\": \"#2a3f5f\"}, \"marker\": {\"line\": {\"color\": \"#E5ECF6\", \"width\": 0.5}}, \"type\": \"bar\"}], \"barpolar\": [{\"marker\": {\"line\": {\"color\": \"#E5ECF6\", \"width\": 0.5}}, \"type\": \"barpolar\"}], \"carpet\": [{\"aaxis\": {\"endlinecolor\": \"#2a3f5f\", \"gridcolor\": \"white\", \"linecolor\": \"white\", \"minorgridcolor\": \"white\", \"startlinecolor\": \"#2a3f5f\"}, \"baxis\": {\"endlinecolor\": \"#2a3f5f\", \"gridcolor\": \"white\", \"linecolor\": \"white\", \"minorgridcolor\": \"white\", \"startlinecolor\": \"#2a3f5f\"}, \"type\": \"carpet\"}], \"choropleth\": [{\"colorbar\": {\"outlinewidth\": 0, \"ticks\": \"\"}, \"type\": \"choropleth\"}], \"contour\": [{\"colorbar\": {\"outlinewidth\": 0, \"ticks\": \"\"}, \"colorscale\": [[0.0, \"#0d0887\"], [0.1111111111111111, \"#46039f\"], [0.2222222222222222, \"#7201a8\"], [0.3333333333333333, \"#9c179e\"], [0.4444444444444444, \"#bd3786\"], [0.5555555555555556, \"#d8576b\"], [0.6666666666666666, \"#ed7953\"], [0.7777777777777778, \"#fb9f3a\"], [0.8888888888888888, \"#fdca26\"], [1.0, \"#f0f921\"]], \"type\": \"contour\"}], \"contourcarpet\": [{\"colorbar\": {\"outlinewidth\": 0, \"ticks\": \"\"}, \"type\": \"contourcarpet\"}], \"heatmap\": [{\"colorbar\": {\"outlinewidth\": 0, \"ticks\": \"\"}, \"colorscale\": [[0.0, \"#0d0887\"], [0.1111111111111111, \"#46039f\"], [0.2222222222222222, \"#7201a8\"], [0.3333333333333333, \"#9c179e\"], [0.4444444444444444, \"#bd3786\"], [0.5555555555555556, \"#d8576b\"], [0.6666666666666666, \"#ed7953\"], [0.7777777777777778, \"#fb9f3a\"], [0.8888888888888888, \"#fdca26\"], [1.0, \"#f0f921\"]], \"type\": \"heatmap\"}], \"heatmapgl\": [{\"colorbar\": {\"outlinewidth\": 0, \"ticks\": \"\"}, \"colorscale\": [[0.0, \"#0d0887\"], [0.1111111111111111, \"#46039f\"], [0.2222222222222222, \"#7201a8\"], [0.3333333333333333, \"#9c179e\"], [0.4444444444444444, \"#bd3786\"], [0.5555555555555556, \"#d8576b\"], [0.6666666666666666, \"#ed7953\"], [0.7777777777777778, \"#fb9f3a\"], [0.8888888888888888, \"#fdca26\"], [1.0, \"#f0f921\"]], \"type\": \"heatmapgl\"}], \"histogram\": [{\"marker\": {\"colorbar\": {\"outlinewidth\": 0, \"ticks\": \"\"}}, \"type\": \"histogram\"}], \"histogram2d\": [{\"colorbar\": {\"outlinewidth\": 0, \"ticks\": \"\"}, \"colorscale\": [[0.0, \"#0d0887\"], [0.1111111111111111, \"#46039f\"], [0.2222222222222222, \"#7201a8\"], [0.3333333333333333, \"#9c179e\"], [0.4444444444444444, \"#bd3786\"], [0.5555555555555556, \"#d8576b\"], [0.6666666666666666, \"#ed7953\"], [0.7777777777777778, \"#fb9f3a\"], [0.8888888888888888, \"#fdca26\"], [1.0, \"#f0f921\"]], \"type\": \"histogram2d\"}], \"histogram2dcontour\": [{\"colorbar\": {\"outlinewidth\": 0, \"ticks\": \"\"}, \"colorscale\": [[0.0, \"#0d0887\"], [0.1111111111111111, \"#46039f\"], [0.2222222222222222, \"#7201a8\"], [0.3333333333333333, \"#9c179e\"], [0.4444444444444444, \"#bd3786\"], [0.5555555555555556, \"#d8576b\"], [0.6666666666666666, \"#ed7953\"], [0.7777777777777778, \"#fb9f3a\"], [0.8888888888888888, \"#fdca26\"], [1.0, \"#f0f921\"]], \"type\": \"histogram2dcontour\"}], \"mesh3d\": [{\"colorbar\": {\"outlinewidth\": 0, \"ticks\": \"\"}, \"type\": \"mesh3d\"}], \"parcoords\": [{\"line\": {\"colorbar\": {\"outlinewidth\": 0, \"ticks\": \"\"}}, \"type\": \"parcoords\"}], \"pie\": [{\"automargin\": true, \"type\": \"pie\"}], \"scatter\": [{\"marker\": {\"colorbar\": {\"outlinewidth\": 0, \"ticks\": \"\"}}, \"type\": \"scatter\"}], \"scatter3d\": [{\"line\": {\"colorbar\": {\"outlinewidth\": 0, \"ticks\": \"\"}}, \"marker\": {\"colorbar\": {\"outlinewidth\": 0, \"ticks\": \"\"}}, \"type\": \"scatter3d\"}], \"scattercarpet\": [{\"marker\": {\"colorbar\": {\"outlinewidth\": 0, \"ticks\": \"\"}}, \"type\": \"scattercarpet\"}], \"scattergeo\": [{\"marker\": {\"colorbar\": {\"outlinewidth\": 0, \"ticks\": \"\"}}, \"type\": \"scattergeo\"}], \"scattergl\": [{\"marker\": {\"colorbar\": {\"outlinewidth\": 0, \"ticks\": \"\"}}, \"type\": \"scattergl\"}], \"scattermapbox\": [{\"marker\": {\"colorbar\": {\"outlinewidth\": 0, \"ticks\": \"\"}}, \"type\": \"scattermapbox\"}], \"scatterpolar\": [{\"marker\": {\"colorbar\": {\"outlinewidth\": 0, \"ticks\": \"\"}}, \"type\": \"scatterpolar\"}], \"scatterpolargl\": [{\"marker\": {\"colorbar\": {\"outlinewidth\": 0, \"ticks\": \"\"}}, \"type\": \"scatterpolargl\"}], \"scatterternary\": [{\"marker\": {\"colorbar\": {\"outlinewidth\": 0, \"ticks\": \"\"}}, \"type\": \"scatterternary\"}], \"surface\": [{\"colorbar\": {\"outlinewidth\": 0, \"ticks\": \"\"}, \"colorscale\": [[0.0, \"#0d0887\"], [0.1111111111111111, \"#46039f\"], [0.2222222222222222, \"#7201a8\"], [0.3333333333333333, \"#9c179e\"], [0.4444444444444444, \"#bd3786\"], [0.5555555555555556, \"#d8576b\"], [0.6666666666666666, \"#ed7953\"], [0.7777777777777778, \"#fb9f3a\"], [0.8888888888888888, \"#fdca26\"], [1.0, \"#f0f921\"]], \"type\": \"surface\"}], \"table\": [{\"cells\": {\"fill\": {\"color\": \"#EBF0F8\"}, \"line\": {\"color\": \"white\"}}, \"header\": {\"fill\": {\"color\": \"#C8D4E3\"}, \"line\": {\"color\": \"white\"}}, \"type\": \"table\"}]}, \"layout\": {\"annotationdefaults\": {\"arrowcolor\": \"#2a3f5f\", \"arrowhead\": 0, \"arrowwidth\": 1}, \"coloraxis\": {\"colorbar\": {\"outlinewidth\": 0, \"ticks\": \"\"}}, \"colorscale\": {\"diverging\": [[0, \"#8e0152\"], [0.1, \"#c51b7d\"], [0.2, \"#de77ae\"], [0.3, \"#f1b6da\"], [0.4, \"#fde0ef\"], [0.5, \"#f7f7f7\"], [0.6, \"#e6f5d0\"], [0.7, \"#b8e186\"], [0.8, \"#7fbc41\"], [0.9, \"#4d9221\"], [1, \"#276419\"]], \"sequential\": [[0.0, \"#0d0887\"], [0.1111111111111111, \"#46039f\"], [0.2222222222222222, \"#7201a8\"], [0.3333333333333333, \"#9c179e\"], [0.4444444444444444, \"#bd3786\"], [0.5555555555555556, \"#d8576b\"], [0.6666666666666666, \"#ed7953\"], [0.7777777777777778, \"#fb9f3a\"], [0.8888888888888888, \"#fdca26\"], [1.0, \"#f0f921\"]], \"sequentialminus\": [[0.0, \"#0d0887\"], [0.1111111111111111, \"#46039f\"], [0.2222222222222222, \"#7201a8\"], [0.3333333333333333, \"#9c179e\"], [0.4444444444444444, \"#bd3786\"], [0.5555555555555556, \"#d8576b\"], [0.6666666666666666, \"#ed7953\"], [0.7777777777777778, \"#fb9f3a\"], [0.8888888888888888, \"#fdca26\"], [1.0, \"#f0f921\"]]}, \"colorway\": [\"#636efa\", \"#EF553B\", \"#00cc96\", \"#ab63fa\", \"#FFA15A\", \"#19d3f3\", \"#FF6692\", \"#B6E880\", \"#FF97FF\", \"#FECB52\"], \"font\": {\"color\": \"#2a3f5f\"}, \"geo\": {\"bgcolor\": \"white\", \"lakecolor\": \"white\", \"landcolor\": \"#E5ECF6\", \"showlakes\": true, \"showland\": true, \"subunitcolor\": \"white\"}, \"hoverlabel\": {\"align\": \"left\"}, \"hovermode\": \"closest\", \"mapbox\": {\"style\": \"light\"}, \"paper_bgcolor\": \"white\", \"plot_bgcolor\": \"#E5ECF6\", \"polar\": {\"angularaxis\": {\"gridcolor\": \"white\", \"linecolor\": \"white\", \"ticks\": \"\"}, \"bgcolor\": \"#E5ECF6\", \"radialaxis\": {\"gridcolor\": \"white\", \"linecolor\": \"white\", \"ticks\": \"\"}}, \"scene\": {\"xaxis\": {\"backgroundcolor\": \"#E5ECF6\", \"gridcolor\": \"white\", \"gridwidth\": 2, \"linecolor\": \"white\", \"showbackground\": true, \"ticks\": \"\", \"zerolinecolor\": \"white\"}, \"yaxis\": {\"backgroundcolor\": \"#E5ECF6\", \"gridcolor\": \"white\", \"gridwidth\": 2, \"linecolor\": \"white\", \"showbackground\": true, \"ticks\": \"\", \"zerolinecolor\": \"white\"}, \"zaxis\": {\"backgroundcolor\": \"#E5ECF6\", \"gridcolor\": \"white\", \"gridwidth\": 2, \"linecolor\": \"white\", \"showbackground\": true, \"ticks\": \"\", \"zerolinecolor\": \"white\"}}, \"shapedefaults\": {\"line\": {\"color\": \"#2a3f5f\"}}, \"ternary\": {\"aaxis\": {\"gridcolor\": \"white\", \"linecolor\": \"white\", \"ticks\": \"\"}, \"baxis\": {\"gridcolor\": \"white\", \"linecolor\": \"white\", \"ticks\": \"\"}, \"bgcolor\": \"#E5ECF6\", \"caxis\": {\"gridcolor\": \"white\", \"linecolor\": \"white\", \"ticks\": \"\"}}, \"title\": {\"x\": 0.05}, \"xaxis\": {\"automargin\": true, \"gridcolor\": \"white\", \"linecolor\": \"white\", \"ticks\": \"\", \"title\": {\"standoff\": 15}, \"zerolinecolor\": \"white\", \"zerolinewidth\": 2}, \"yaxis\": {\"automargin\": true, \"gridcolor\": \"white\", \"linecolor\": \"white\", \"ticks\": \"\", \"title\": {\"standoff\": 15}, \"zerolinecolor\": \"white\", \"zerolinewidth\": 2}}}, \"width\": 400},\n",
              "                        {\"responsive\": true}\n",
              "                    ).then(function(){\n",
              "                            \n",
              "var gd = document.getElementById('d0c8afdd-3752-465e-95f3-7ec46d081a57');\n",
              "var x = new MutationObserver(function (mutations, observer) {{\n",
              "        var display = window.getComputedStyle(gd).display;\n",
              "        if (!display || display === 'none') {{\n",
              "            console.log([gd, 'removed!']);\n",
              "            Plotly.purge(gd);\n",
              "            observer.disconnect();\n",
              "        }}\n",
              "}});\n",
              "\n",
              "// Listen for the removal of the full notebook cells\n",
              "var notebookContainer = gd.closest('#notebook-container');\n",
              "if (notebookContainer) {{\n",
              "    x.observe(notebookContainer, {childList: true});\n",
              "}}\n",
              "\n",
              "// Listen for the clearing of the current output cell\n",
              "var outputEl = gd.closest('.output');\n",
              "if (outputEl) {{\n",
              "    x.observe(outputEl, {childList: true});\n",
              "}}\n",
              "\n",
              "                        })\n",
              "                };\n",
              "                \n",
              "            </script>\n",
              "        </div>\n",
              "</body>\n",
              "</html>"
            ]
          },
          "metadata": {
            "tags": []
          }
        }
      ]
    },
    {
      "cell_type": "markdown",
      "metadata": {
        "id": "6XcKAlPeh24_"
      },
      "source": [
        "**Ejemplo 2.**\n",
        "Podemos presentar una tabla más vistosa introduciendo comandos de color para las filas de la tabla. Observe las tres líneas agregadas en \"header\" y en \"cells\" "
      ]
    },
    {
      "cell_type": "code",
      "metadata": {
        "id": "D829rb3dkuy1",
        "colab": {
          "base_uri": "https://localhost:8080/",
          "height": 317
        },
        "outputId": "d14f3723-566d-43ea-ec37-a3e5d57f4eb3"
      },
      "source": [
        "import plotly.graph_objects as go\n",
        "\n",
        "Tabla2 = go.Figure(data=[go.Table(\n",
        "    header=dict(values=['Pesista A', 'Pesista B'],\n",
        "                line_color='darkslategray',\n",
        "                fill_color='lightskyblue',\n",
        "                align='center'),\n",
        "    cells=dict(values=[[100, 95, 97, 100], \n",
        "                       [95, 98, 100, 97]], \n",
        "               line_color='darkslategray',\n",
        "               fill_color='lightcyan',\n",
        "               align='center'))\n",
        "])\n",
        "\n",
        "Tabla2.update_layout(width=400, height=300)\n",
        "Tabla2.show()"
      ],
      "execution_count": null,
      "outputs": [
        {
          "output_type": "display_data",
          "data": {
            "text/html": [
              "<html>\n",
              "<head><meta charset=\"utf-8\" /></head>\n",
              "<body>\n",
              "    <div>\n",
              "            <script src=\"https://cdnjs.cloudflare.com/ajax/libs/mathjax/2.7.5/MathJax.js?config=TeX-AMS-MML_SVG\"></script><script type=\"text/javascript\">if (window.MathJax) {MathJax.Hub.Config({SVG: {font: \"STIX-Web\"}});}</script>\n",
              "                <script type=\"text/javascript\">window.PlotlyConfig = {MathJaxConfig: 'local'};</script>\n",
              "        <script src=\"https://cdn.plot.ly/plotly-latest.min.js\"></script>    \n",
              "            <div id=\"fc94d163-5dc5-43fc-8e64-b1cb79facebe\" class=\"plotly-graph-div\" style=\"height:300px; width:400px;\"></div>\n",
              "            <script type=\"text/javascript\">\n",
              "                \n",
              "                    window.PLOTLYENV=window.PLOTLYENV || {};\n",
              "                    \n",
              "                if (document.getElementById(\"fc94d163-5dc5-43fc-8e64-b1cb79facebe\")) {\n",
              "                    Plotly.newPlot(\n",
              "                        'fc94d163-5dc5-43fc-8e64-b1cb79facebe',\n",
              "                        [{\"cells\": {\"align\": \"center\", \"fill\": {\"color\": \"lightcyan\"}, \"line\": {\"color\": \"darkslategray\"}, \"values\": [[100, 95, 97, 100], [95, 98, 100, 97]]}, \"header\": {\"align\": \"center\", \"fill\": {\"color\": \"lightskyblue\"}, \"line\": {\"color\": \"darkslategray\"}, \"values\": [\"Pesista A\", \"Pesista B\"]}, \"type\": \"table\"}],\n",
              "                        {\"height\": 300, \"template\": {\"data\": {\"bar\": [{\"error_x\": {\"color\": \"#2a3f5f\"}, \"error_y\": {\"color\": \"#2a3f5f\"}, \"marker\": {\"line\": {\"color\": \"#E5ECF6\", \"width\": 0.5}}, \"type\": \"bar\"}], \"barpolar\": [{\"marker\": {\"line\": {\"color\": \"#E5ECF6\", \"width\": 0.5}}, \"type\": \"barpolar\"}], \"carpet\": [{\"aaxis\": {\"endlinecolor\": \"#2a3f5f\", \"gridcolor\": \"white\", \"linecolor\": \"white\", \"minorgridcolor\": \"white\", \"startlinecolor\": \"#2a3f5f\"}, \"baxis\": {\"endlinecolor\": \"#2a3f5f\", \"gridcolor\": \"white\", \"linecolor\": \"white\", \"minorgridcolor\": \"white\", \"startlinecolor\": \"#2a3f5f\"}, \"type\": \"carpet\"}], \"choropleth\": [{\"colorbar\": {\"outlinewidth\": 0, \"ticks\": \"\"}, \"type\": \"choropleth\"}], \"contour\": [{\"colorbar\": {\"outlinewidth\": 0, \"ticks\": \"\"}, \"colorscale\": [[0.0, \"#0d0887\"], [0.1111111111111111, \"#46039f\"], [0.2222222222222222, \"#7201a8\"], [0.3333333333333333, \"#9c179e\"], [0.4444444444444444, \"#bd3786\"], [0.5555555555555556, \"#d8576b\"], [0.6666666666666666, \"#ed7953\"], [0.7777777777777778, \"#fb9f3a\"], [0.8888888888888888, \"#fdca26\"], [1.0, \"#f0f921\"]], \"type\": \"contour\"}], \"contourcarpet\": [{\"colorbar\": {\"outlinewidth\": 0, \"ticks\": \"\"}, \"type\": \"contourcarpet\"}], \"heatmap\": [{\"colorbar\": {\"outlinewidth\": 0, \"ticks\": \"\"}, \"colorscale\": [[0.0, \"#0d0887\"], [0.1111111111111111, \"#46039f\"], [0.2222222222222222, \"#7201a8\"], [0.3333333333333333, \"#9c179e\"], [0.4444444444444444, \"#bd3786\"], [0.5555555555555556, \"#d8576b\"], [0.6666666666666666, \"#ed7953\"], [0.7777777777777778, \"#fb9f3a\"], [0.8888888888888888, \"#fdca26\"], [1.0, \"#f0f921\"]], \"type\": \"heatmap\"}], \"heatmapgl\": [{\"colorbar\": {\"outlinewidth\": 0, \"ticks\": \"\"}, \"colorscale\": [[0.0, \"#0d0887\"], [0.1111111111111111, \"#46039f\"], [0.2222222222222222, \"#7201a8\"], [0.3333333333333333, \"#9c179e\"], [0.4444444444444444, \"#bd3786\"], [0.5555555555555556, \"#d8576b\"], [0.6666666666666666, \"#ed7953\"], [0.7777777777777778, \"#fb9f3a\"], [0.8888888888888888, \"#fdca26\"], [1.0, \"#f0f921\"]], \"type\": \"heatmapgl\"}], \"histogram\": [{\"marker\": {\"colorbar\": {\"outlinewidth\": 0, \"ticks\": \"\"}}, \"type\": \"histogram\"}], \"histogram2d\": [{\"colorbar\": {\"outlinewidth\": 0, \"ticks\": \"\"}, \"colorscale\": [[0.0, \"#0d0887\"], [0.1111111111111111, \"#46039f\"], [0.2222222222222222, \"#7201a8\"], [0.3333333333333333, \"#9c179e\"], [0.4444444444444444, \"#bd3786\"], [0.5555555555555556, \"#d8576b\"], [0.6666666666666666, \"#ed7953\"], [0.7777777777777778, \"#fb9f3a\"], [0.8888888888888888, \"#fdca26\"], [1.0, \"#f0f921\"]], \"type\": \"histogram2d\"}], \"histogram2dcontour\": [{\"colorbar\": {\"outlinewidth\": 0, \"ticks\": \"\"}, \"colorscale\": [[0.0, \"#0d0887\"], [0.1111111111111111, \"#46039f\"], [0.2222222222222222, \"#7201a8\"], [0.3333333333333333, \"#9c179e\"], [0.4444444444444444, \"#bd3786\"], [0.5555555555555556, \"#d8576b\"], [0.6666666666666666, \"#ed7953\"], [0.7777777777777778, \"#fb9f3a\"], [0.8888888888888888, \"#fdca26\"], [1.0, \"#f0f921\"]], \"type\": \"histogram2dcontour\"}], \"mesh3d\": [{\"colorbar\": {\"outlinewidth\": 0, \"ticks\": \"\"}, \"type\": \"mesh3d\"}], \"parcoords\": [{\"line\": {\"colorbar\": {\"outlinewidth\": 0, \"ticks\": \"\"}}, \"type\": \"parcoords\"}], \"pie\": [{\"automargin\": true, \"type\": \"pie\"}], \"scatter\": [{\"marker\": {\"colorbar\": {\"outlinewidth\": 0, \"ticks\": \"\"}}, \"type\": \"scatter\"}], \"scatter3d\": [{\"line\": {\"colorbar\": {\"outlinewidth\": 0, \"ticks\": \"\"}}, \"marker\": {\"colorbar\": {\"outlinewidth\": 0, \"ticks\": \"\"}}, \"type\": \"scatter3d\"}], \"scattercarpet\": [{\"marker\": {\"colorbar\": {\"outlinewidth\": 0, \"ticks\": \"\"}}, \"type\": \"scattercarpet\"}], \"scattergeo\": [{\"marker\": {\"colorbar\": {\"outlinewidth\": 0, \"ticks\": \"\"}}, \"type\": \"scattergeo\"}], \"scattergl\": [{\"marker\": {\"colorbar\": {\"outlinewidth\": 0, \"ticks\": \"\"}}, \"type\": \"scattergl\"}], \"scattermapbox\": [{\"marker\": {\"colorbar\": {\"outlinewidth\": 0, \"ticks\": \"\"}}, \"type\": \"scattermapbox\"}], \"scatterpolar\": [{\"marker\": {\"colorbar\": {\"outlinewidth\": 0, \"ticks\": \"\"}}, \"type\": \"scatterpolar\"}], \"scatterpolargl\": [{\"marker\": {\"colorbar\": {\"outlinewidth\": 0, \"ticks\": \"\"}}, \"type\": \"scatterpolargl\"}], \"scatterternary\": [{\"marker\": {\"colorbar\": {\"outlinewidth\": 0, \"ticks\": \"\"}}, \"type\": \"scatterternary\"}], \"surface\": [{\"colorbar\": {\"outlinewidth\": 0, \"ticks\": \"\"}, \"colorscale\": [[0.0, \"#0d0887\"], [0.1111111111111111, \"#46039f\"], [0.2222222222222222, \"#7201a8\"], [0.3333333333333333, \"#9c179e\"], [0.4444444444444444, \"#bd3786\"], [0.5555555555555556, \"#d8576b\"], [0.6666666666666666, \"#ed7953\"], [0.7777777777777778, \"#fb9f3a\"], [0.8888888888888888, \"#fdca26\"], [1.0, \"#f0f921\"]], \"type\": \"surface\"}], \"table\": [{\"cells\": {\"fill\": {\"color\": \"#EBF0F8\"}, \"line\": {\"color\": \"white\"}}, \"header\": {\"fill\": {\"color\": \"#C8D4E3\"}, \"line\": {\"color\": \"white\"}}, \"type\": \"table\"}]}, \"layout\": {\"annotationdefaults\": {\"arrowcolor\": \"#2a3f5f\", \"arrowhead\": 0, \"arrowwidth\": 1}, \"coloraxis\": {\"colorbar\": {\"outlinewidth\": 0, \"ticks\": \"\"}}, \"colorscale\": {\"diverging\": [[0, \"#8e0152\"], [0.1, \"#c51b7d\"], [0.2, \"#de77ae\"], [0.3, \"#f1b6da\"], [0.4, \"#fde0ef\"], [0.5, \"#f7f7f7\"], [0.6, \"#e6f5d0\"], [0.7, \"#b8e186\"], [0.8, \"#7fbc41\"], [0.9, \"#4d9221\"], [1, \"#276419\"]], \"sequential\": [[0.0, \"#0d0887\"], [0.1111111111111111, \"#46039f\"], [0.2222222222222222, \"#7201a8\"], [0.3333333333333333, \"#9c179e\"], [0.4444444444444444, \"#bd3786\"], [0.5555555555555556, \"#d8576b\"], [0.6666666666666666, \"#ed7953\"], [0.7777777777777778, \"#fb9f3a\"], [0.8888888888888888, \"#fdca26\"], [1.0, \"#f0f921\"]], \"sequentialminus\": [[0.0, \"#0d0887\"], [0.1111111111111111, \"#46039f\"], [0.2222222222222222, \"#7201a8\"], [0.3333333333333333, \"#9c179e\"], [0.4444444444444444, \"#bd3786\"], [0.5555555555555556, \"#d8576b\"], [0.6666666666666666, \"#ed7953\"], [0.7777777777777778, \"#fb9f3a\"], [0.8888888888888888, \"#fdca26\"], [1.0, \"#f0f921\"]]}, \"colorway\": [\"#636efa\", \"#EF553B\", \"#00cc96\", \"#ab63fa\", \"#FFA15A\", \"#19d3f3\", \"#FF6692\", \"#B6E880\", \"#FF97FF\", \"#FECB52\"], \"font\": {\"color\": \"#2a3f5f\"}, \"geo\": {\"bgcolor\": \"white\", \"lakecolor\": \"white\", \"landcolor\": \"#E5ECF6\", \"showlakes\": true, \"showland\": true, \"subunitcolor\": \"white\"}, \"hoverlabel\": {\"align\": \"left\"}, \"hovermode\": \"closest\", \"mapbox\": {\"style\": \"light\"}, \"paper_bgcolor\": \"white\", \"plot_bgcolor\": \"#E5ECF6\", \"polar\": {\"angularaxis\": {\"gridcolor\": \"white\", \"linecolor\": \"white\", \"ticks\": \"\"}, \"bgcolor\": \"#E5ECF6\", \"radialaxis\": {\"gridcolor\": \"white\", \"linecolor\": \"white\", \"ticks\": \"\"}}, \"scene\": {\"xaxis\": {\"backgroundcolor\": \"#E5ECF6\", \"gridcolor\": \"white\", \"gridwidth\": 2, \"linecolor\": \"white\", \"showbackground\": true, \"ticks\": \"\", \"zerolinecolor\": \"white\"}, \"yaxis\": {\"backgroundcolor\": \"#E5ECF6\", \"gridcolor\": \"white\", \"gridwidth\": 2, \"linecolor\": \"white\", \"showbackground\": true, \"ticks\": \"\", \"zerolinecolor\": \"white\"}, \"zaxis\": {\"backgroundcolor\": \"#E5ECF6\", \"gridcolor\": \"white\", \"gridwidth\": 2, \"linecolor\": \"white\", \"showbackground\": true, \"ticks\": \"\", \"zerolinecolor\": \"white\"}}, \"shapedefaults\": {\"line\": {\"color\": \"#2a3f5f\"}}, \"ternary\": {\"aaxis\": {\"gridcolor\": \"white\", \"linecolor\": \"white\", \"ticks\": \"\"}, \"baxis\": {\"gridcolor\": \"white\", \"linecolor\": \"white\", \"ticks\": \"\"}, \"bgcolor\": \"#E5ECF6\", \"caxis\": {\"gridcolor\": \"white\", \"linecolor\": \"white\", \"ticks\": \"\"}}, \"title\": {\"x\": 0.05}, \"xaxis\": {\"automargin\": true, \"gridcolor\": \"white\", \"linecolor\": \"white\", \"ticks\": \"\", \"title\": {\"standoff\": 15}, \"zerolinecolor\": \"white\", \"zerolinewidth\": 2}, \"yaxis\": {\"automargin\": true, \"gridcolor\": \"white\", \"linecolor\": \"white\", \"ticks\": \"\", \"title\": {\"standoff\": 15}, \"zerolinecolor\": \"white\", \"zerolinewidth\": 2}}}, \"width\": 400},\n",
              "                        {\"responsive\": true}\n",
              "                    ).then(function(){\n",
              "                            \n",
              "var gd = document.getElementById('fc94d163-5dc5-43fc-8e64-b1cb79facebe');\n",
              "var x = new MutationObserver(function (mutations, observer) {{\n",
              "        var display = window.getComputedStyle(gd).display;\n",
              "        if (!display || display === 'none') {{\n",
              "            console.log([gd, 'removed!']);\n",
              "            Plotly.purge(gd);\n",
              "            observer.disconnect();\n",
              "        }}\n",
              "}});\n",
              "\n",
              "// Listen for the removal of the full notebook cells\n",
              "var notebookContainer = gd.closest('#notebook-container');\n",
              "if (notebookContainer) {{\n",
              "    x.observe(notebookContainer, {childList: true});\n",
              "}}\n",
              "\n",
              "// Listen for the clearing of the current output cell\n",
              "var outputEl = gd.closest('.output');\n",
              "if (outputEl) {{\n",
              "    x.observe(outputEl, {childList: true});\n",
              "}}\n",
              "\n",
              "                        })\n",
              "                };\n",
              "                \n",
              "            </script>\n",
              "        </div>\n",
              "</body>\n",
              "</html>"
            ]
          },
          "metadata": {
            "tags": []
          }
        }
      ]
    },
    {
      "cell_type": "markdown",
      "metadata": {
        "id": "fV5shCsKWBvh"
      },
      "source": [
        "### 1.3.7  Ejercicios de Repaso\n",
        "Para resolver los ejercicios que se presentan a continuación, sólo use los comandos e instrucciones que se han dado en esta sección.\n",
        "1. Diseñe un programa que permita:  \n",
        "*   Construir una lista de 10 palabras dadas por un usuario.\n",
        "*   Imprimir las palabras presentes en las posiciones pares de la lista.\n",
        "2. Dadas las listas A = ['a' , 'b' , 'c' , 'd' , 'e'] y B = ['1' , '2' , '3' , '4' , '5'], diseñe un código que intercale en una lista C los elementos de A y B.\n",
        "\n",
        "3. Diseñe un diccionario que contenga como valores, tres listas; la primera debe contener tres nombres de frutas, la segunda debe contener tres nombres de vegetales y la tercera tres nombres de granos.\n",
        "4. Dos usarios escogen  cada uno y en forma independientemente, un conjunto tres números enteros distintos de un sólo dígito. Diseñe un algoritmo que determine cuales son los números comunes escogidos por los usuarios.\n",
        "5. Sean, $p$, $q$ y $r$ una tripla de variables booleanas. Diseñe un programa que muestre sobre una tabla los posibles valores de verdad de las proposiciones $p   \\text { or } (q \\text { and } r)$,  $p  \\text { and } ( q \\text { or } r ) $.\n",
        "\n",
        "Para resolver los ejercicios 6. y 7. es necesario usar comandos de control de flujo que se verán en la sección 2. \n",
        "\n",
        "6. En una cadena de caracteres, una palabra corresponde a la subcadena que esta limitada por uno o dos espacios en blanco. \n",
        "\n",
        "  (a) Diseñe un programa que haga una lista con las palabras de una cadena de caracteres.\n",
        "\n",
        "  (b) Diseñe un programa que escoja las palabras que tengan la letra \"a\" dentro de su escritura.\n",
        "  \n",
        "  (c) Diseñe un programa que ordene las palabras de una cadena de caracteres en orden alfabético (Dificil con las herramientas que tenemos hasta ahora).\n",
        "\n",
        "7. Diseñe un diccionario que permita guardar 5 items de un libro que escoja el usuario.\n"
      ]
    },
    {
      "cell_type": "markdown",
      "metadata": {
        "id": "ffPe0wf4m144"
      },
      "source": [
        "## 1.4 Operadores en Python\n",
        "Listamos a continuación los distinto tipos de operadores ariméticos y lógicos que se usan en Phyton:\n",
        "\n",
        "1.   Operadores aritméticos.\n",
        "2.   Operadores de asignación.\n",
        "3.   Operadores de comparación.\n",
        "4.   Operadores lógicos.\n",
        "5.   Operadores de identidad.\n",
        "6.   Operadores de pertencia.\n",
        "7.   Operadores binarios.\n"
      ]
    },
    {
      "cell_type": "markdown",
      "metadata": {
        "id": "3D8__uC-laXe"
      },
      "source": [
        "### 1.4.1 Operadores aritméticos\n",
        "\n",
        "\n",
        "*   `+`   Suma                $ m + n $.\n",
        "*   `-`   Resta               $ m - n $.\n",
        "*   `*`   Multiplicación      $ m * n $.  \n",
        "*   `/`   División            $ m / n $.  \n",
        "*   `**`  Exponenciación      $ m ** n$.\n",
        "*   `%`   Módulo.             $ m \\% n $.\n",
        "*   `//`  División piso       $ m // n$.\n",
        "\n",
        "\n",
        "**Ejemplo 1.**"
      ]
    },
    {
      "cell_type": "code",
      "metadata": {
        "id": "IPNEdQry8oBU",
        "colab": {
          "base_uri": "https://localhost:8080/",
          "height": 101
        },
        "outputId": "8fa18df4-b174-448e-c838-12f2e8d2ffb0"
      },
      "source": [
        "m = 16\n",
        "n = 3\n",
        "print (f\"Suma {m+n}\")\n",
        "print (f\"Resta {m-n}\")\n",
        "print (f\"Multiplicación {m*n}\")\n",
        "print (f\"División {m/n}\")\n",
        "print (f\"Exponenciación {m**n}\")\n"
      ],
      "execution_count": null,
      "outputs": [
        {
          "output_type": "stream",
          "text": [
            "Suma 19\n",
            "Resta 13\n",
            "Multiplicación 48\n",
            "División 5.333333333333333\n",
            "Exponenciación 4096\n"
          ],
          "name": "stdout"
        }
      ]
    },
    {
      "cell_type": "markdown",
      "metadata": {
        "id": "EwAdyhL3-eE0"
      },
      "source": [
        "**Nota**\n",
        "\n",
        "1. El operador módulo `%`, retorna el resto que resulta al aplicar el algoritmo de la división a un par de enteros. Recordemos que, si tenemos dos números enteros  $m$ y $n$, con $n \\neq 0$ y se efectua el algoritmo de la división, pueden enconstrarse dos enteros $q$ y $r$, tales que $$m = qn+r $$ en donde $0 \\leq r < n$. En esta división, $q$ se denomina *cociente* y $r$ *resto*. Por lo tanto, si efectuamos $m \\% n$ obtendremos $r$. Observemos que $5 = 1*3 +2$, por lo tanto `5 % 3 = 2`, $6 = 2*3 + 0$ de donde `6 % 3 = 0`.\n",
        "2. El operador división piso `//`, retorna la parte entera que resulta de realizar una división entre dos enteros. Por lo tanto, si tenemos dos números enteros $m$ y $n$, con $n \\neq 0$ y efectuamos el algoritmo de la división,  entonces el resultado de efectuar $m // n$ es $q$. Observemos que $5 = 1*3 +2$, por lo tanto `5 // 3 = 1`, de manera similar $6 = 2*3 + 0$ entonces`6 // 3 = 2`.\n",
        "\n",
        "**Ejemplo**"
      ]
    },
    {
      "cell_type": "code",
      "metadata": {
        "id": "tTjRSI3MDNDD",
        "colab": {
          "base_uri": "https://localhost:8080/",
          "height": 50
        },
        "outputId": "9a64ed50-05cb-4a77-ed48-e1762aa5eaa5"
      },
      "source": [
        "m = -3\n",
        "n = 5\n",
        "print (f\"El resto de dividir {m} entre {n} es  {m%n}. \")\n",
        "m = 6\n",
        "n = 3\n",
        "print (f\"El resto de dividir {m} entre {n} es  {m%n}. \")"
      ],
      "execution_count": null,
      "outputs": [
        {
          "output_type": "stream",
          "text": [
            "El resto de dividir -3 entre 5 es  2. \n",
            "El resto de dividir 6 entre 3 es  0. \n"
          ],
          "name": "stdout"
        }
      ]
    },
    {
      "cell_type": "markdown",
      "metadata": {
        "id": "oNSyDe0oKPPp"
      },
      "source": [
        "**Ejemplo**"
      ]
    },
    {
      "cell_type": "code",
      "metadata": {
        "id": "aKpFXwe_KSh4",
        "colab": {
          "base_uri": "https://localhost:8080/",
          "height": 50
        },
        "outputId": "0c78f909-38c8-44d1-c8f0-4cc97b5ec92e"
      },
      "source": [
        "m = 13\n",
        "n = 3\n",
        "print (f\"El cociente de dividir {m} entre {n} es  {m//n}. \")\n",
        "m = 6\n",
        "n = 3\n",
        "print (f\"El cociente de dividir {m} entre {n} es  {m//n}. \")"
      ],
      "execution_count": null,
      "outputs": [
        {
          "output_type": "stream",
          "text": [
            "El cociente de dividir 13 entre 3 es  4. \n",
            "El cociente de dividir 6 entre 3 es  2. \n"
          ],
          "name": "stdout"
        }
      ]
    },
    {
      "cell_type": "markdown",
      "metadata": {
        "id": "7jnsQUATK-A7"
      },
      "source": [
        "### 1.4.2 Operadores de asignación\n",
        "\n",
        "\n",
        "*   `=`  Asignación. Ej.        $x = 5$.\n",
        "*   `+=` Asignación por adición. Ej.  $x$ +=$ 5$, equivale a $x=x+5$.\n",
        "*   `-=` Asignación por sustración. Ej. $x$ -= $5$, equivale a $x=x-5$.\n",
        "*   `*=` Asignación por multiplicación. Ej.  $x$ *= $5$, equivale a $x=x*5$.\n",
        "*   `/=` Asignación por división. Ej.  $x$ /= $5$, equivale a $x=x/5$.\n",
        "*   `**=` Asignación por exponenciación. Ej.  $x$  **= $5$, equivale a $x =x{**}5$.\n",
        "*   `%=` Asignación modular. Ej.  $x$ %$= 5$, equivale a $x=x$%$5$.\n",
        "*   `%=` Asignación por división piso. Ej.  $x$ //$= 5$, equivale a $x=x$//$5$.\n"
      ]
    },
    {
      "cell_type": "markdown",
      "metadata": {
        "id": "28Y9OOrmmEDr"
      },
      "source": [
        "\n",
        "### 1.4.3 Operadores de comparación\n",
        "\n",
        "Los operadores de comparación generan una proposición que toma cualquiera de los valores `True` o `False`. Este tipo de operadores permiten comparar los valores que han tomado un par de variables.\n",
        "\n",
        "* `==` Igualdad. Ej. $x==y$.\n",
        "* `!=` Distinto de. Ej. $x!=y$.\n",
        "* `>`  Mayor que. Ej. $x>y$.\n",
        "* `<`  Menor que.  Ej. $x<y$.\n",
        "* `>=`  Mayor o igual que. Ej. $x>=y$.\n",
        "* `<=`  Menor o igual que.  Ej. $x<=y$.\n",
        "\n",
        "\n"
      ]
    },
    {
      "cell_type": "code",
      "metadata": {
        "id": "AkABoeXDZz8H",
        "colab": {
          "base_uri": "https://localhost:8080/",
          "height": 50
        },
        "outputId": "1759672e-8c28-406c-8690-16940645068e"
      },
      "source": [
        "x = 5\n",
        "y = 6\n",
        "z = x < y\n",
        "w = x != y\n",
        "print(z)\n",
        "print(w)"
      ],
      "execution_count": null,
      "outputs": [
        {
          "output_type": "stream",
          "text": [
            "True\n",
            "True\n"
          ],
          "name": "stdout"
        }
      ]
    },
    {
      "cell_type": "markdown",
      "metadata": {
        "id": "zTXdHdONm8AO"
      },
      "source": [
        "### 1.4.4 Operadores lógicos\n",
        "\n",
        "Introdugimos los operadores lógicos cuando estudiamos las variables booleanas. Recordamos que estos operadores permiten construir proposiciones matemáticas a partir de otras previamente construidas.\n",
        "\n",
        "* `and` retorna `True`, si las proposiciones que conecta son ambas `True`, en cualquier otro caso retorna `False`.\n",
        "* `or` retorna `True`, si al menos una de las proposiciones que conecta es  `True`, en cualquier otro caso retorna `False`.\n",
        "* `not` cambia el valor de verdad de una proposición; si ésta es `True`la transforma a `False`y si es `False` la transforma en `True`.\n",
        "\n",
        "**Ejemplo**"
      ]
    },
    {
      "cell_type": "code",
      "metadata": {
        "id": "3iFYsly-E3m0",
        "colab": {
          "base_uri": "https://localhost:8080/",
          "height": 84
        },
        "outputId": "df1616cf-29b5-4d94-c6de-8cc3b50809c4"
      },
      "source": [
        "p = 5 != 3 # p toma el valor True\n",
        "q = 1 != 1 # q toma el valor False\n",
        "r = p and q \n",
        "s = p or q \n",
        "t = not r\n",
        "v = not s\n",
        "print (f\" r es {r}\")\n",
        "print (f\" s es {s}\")\n",
        "print (f\" t es {t}\")\n",
        "print (f\" v es {v}\")\n"
      ],
      "execution_count": null,
      "outputs": [
        {
          "output_type": "stream",
          "text": [
            " r es False\n",
            " s es True\n",
            " t es True\n",
            " v es False\n"
          ],
          "name": "stdout"
        }
      ]
    },
    {
      "cell_type": "code",
      "metadata": {
        "id": "9j-pbTojDo2P",
        "colab": {
          "base_uri": "https://localhost:8080/",
          "height": 50
        },
        "outputId": "498a54ee-cb46-4e50-de11-859d370541bf"
      },
      "source": [
        "x=0\n",
        "y=1\n",
        "z=x and y \n",
        "print(z)\n",
        "print(x or y)"
      ],
      "execution_count": null,
      "outputs": [
        {
          "output_type": "stream",
          "text": [
            "0\n",
            "1\n"
          ],
          "name": "stdout"
        }
      ]
    },
    {
      "cell_type": "markdown",
      "metadata": {
        "id": "vGpV1QOKf7pt"
      },
      "source": [
        "**Nota**\n",
        "\n",
        "Los operadores lógicos también pueden usarse para conectar variables binarias, es decir, aquellas que toman los valores `0 `y `1`. En estos casos, retornan `1` o `0` según el conectivo lógico que se esté usando."
      ]
    },
    {
      "cell_type": "markdown",
      "metadata": {
        "id": "5MT8V5JSG3Qj"
      },
      "source": [
        "### 1.4.5 Operadores de identidad\n",
        "Un operador de identidad es de utilidad, cuando se quiere determinar si dos variables describen un mismo objeto.\n",
        "\n",
        "* `is` retorna `True`, si las variables comparadas son iguales como objetos. Ej. $x$ `is` $y$.\n",
        "* `is not`retorna `True`, si un par de variables no son el mismo objeto. Ej. $x$ `is not` $y$.\n",
        "\n",
        "**Ejemplo 1.**"
      ]
    },
    {
      "cell_type": "code",
      "metadata": {
        "id": "puNa7FmEWp2l",
        "colab": {
          "base_uri": "https://localhost:8080/",
          "height": 50
        },
        "outputId": "af3e4abb-6372-44cf-b51a-0730be22b243"
      },
      "source": [
        "x={1,2,3,4,5}\n",
        "y={1,2,3}\n",
        "z=x is y \n",
        "w=x is not y\n",
        "print(z)\n",
        "print(w)"
      ],
      "execution_count": null,
      "outputs": [
        {
          "output_type": "stream",
          "text": [
            "False\n",
            "True\n"
          ],
          "name": "stdout"
        }
      ]
    },
    {
      "cell_type": "markdown",
      "metadata": {
        "id": "Df_GhfWZhKZJ"
      },
      "source": [
        "**Ejemplo 2**\n",
        "\n",
        "Observe que los operadores de identidad generar resultados equivalentes a los operadores `==`  y  `!=` ."
      ]
    },
    {
      "cell_type": "code",
      "metadata": {
        "id": "1w_Y3bF-g7JP",
        "colab": {
          "base_uri": "https://localhost:8080/",
          "height": 50
        },
        "outputId": "13fe9237-09f6-4e03-e1c0-07d63b71db0e"
      },
      "source": [
        "x={1,2,3,4,5}\n",
        "y={1,2,3}\n",
        "z=x == y \n",
        "w=x != y\n",
        "print(z)\n",
        "print(w)"
      ],
      "execution_count": null,
      "outputs": [
        {
          "output_type": "stream",
          "text": [
            "False\n",
            "True\n"
          ],
          "name": "stdout"
        }
      ]
    },
    {
      "cell_type": "markdown",
      "metadata": {
        "id": "5OFRSvYbXKog"
      },
      "source": [
        "### 1.4.6 Operadores de pertenencia\n",
        "\n",
        "Los operadores de pertenencia son útiles cuando se quiere determinar si el valor de una variable está o no presente en un objeto.\n",
        "\n",
        "**Ejemplo 1.**\n"
      ]
    },
    {
      "cell_type": "code",
      "metadata": {
        "id": "zRrV58mHYENW",
        "colab": {
          "base_uri": "https://localhost:8080/",
          "height": 50
        },
        "outputId": "6b24126f-df69-4e3d-82e3-d3735013c044"
      },
      "source": [
        "A={1,3,5,7,9}\n",
        "x=2\n",
        "print(x in A)\n",
        "print(x not in A)"
      ],
      "execution_count": null,
      "outputs": [
        {
          "output_type": "stream",
          "text": [
            "False\n",
            "True\n"
          ],
          "name": "stdout"
        }
      ]
    },
    {
      "cell_type": "markdown",
      "metadata": {
        "id": "2VlJybKpaZma"
      },
      "source": [
        "### 1.4.7 Operadores Binarios\n",
        "\n",
        "Los operadores binarios son equivalentes a los operadores lógicos; ellos operan variables binarias, es decir aquellas que toman los valores 0 y 1, sin embargo, también pueden operar variables boolenas es decir aquellas que toman los valores `True` o `False`. Si operan sobre variables binarias retornan un `1` o un `0`, si operan sobre variables booleanas retornan un  `True` o un `False`, si \n",
        "\n",
        "A continuación presentamos las equivalencias entre operadores binarios y lógicos.\n",
        "\n",
        "* `&` es equivalente a `and`.\n",
        "* `|` es equivalente a `or`.\n",
        "* `^` reporta un `1`, si y sólo si, solamente una de las variables toma el valor `1`. En otro caso reporta `0`. A este operador también se le denomina o exclusivo.\n",
        "\n",
        "**Ejercicio 1.**\n"
      ]
    },
    {
      "cell_type": "code",
      "metadata": {
        "id": "xYUy_gf0bVqy",
        "colab": {
          "base_uri": "https://localhost:8080/",
          "height": 67
        },
        "outputId": "94fac44c-f877-405f-c9af-3157894d835a"
      },
      "source": [
        "x = 1\n",
        "y = 0\n",
        "print(x & y)\n",
        "print(x | y)\n",
        "print(x ^ y)"
      ],
      "execution_count": null,
      "outputs": [
        {
          "output_type": "stream",
          "text": [
            "0\n",
            "1\n",
            "1\n"
          ],
          "name": "stdout"
        }
      ]
    },
    {
      "cell_type": "markdown",
      "metadata": {
        "id": "pHZID5MXn9sK"
      },
      "source": [
        "## 1.5 Orden de Ejecución de Expresiones Aritméticas\n",
        "\n",
        "El orden de la ejecución de una expresión aritmética en Python es el siguiente: \n",
        "1. Parentesis; primero los más internos. Entre los parentesis que están a un mismo nivel, se ejecutan de izquierda a derecha.\n",
        "2. Exponenciaciones, se ejecutan siguiendo el orden de izquierda a derecha.\n",
        "3. Productos y divisiones, se ejecutan siguiendo el orden de izquierda a derecha.\n",
        "4. Funciones trigonométricas, logarítmicas y en general todo tipo de funciones.\n",
        "5. Sumas y restas, se ejecutan siguiendo el orden de izquierda a derecha."
      ]
    },
    {
      "cell_type": "markdown",
      "metadata": {
        "id": "7wkhyR3ktm91"
      },
      "source": [
        "**Ejemplo 1**\n",
        "\n",
        "Efectúe las siguientes expresiones aritméticas siguiendo el orden de ejecución dado anteriormente.\n",
        "\n",
        "a. $6^2 \\div 3-18\\div 3*5 $\n",
        "\n",
        "b. $12 \\div (12-14)\\div 3*5^2  $\n",
        "\n",
        "c. $45 \\div ((3-18\\div 3)*5)$\n",
        "\n",
        "**Solución**\n",
        "\n",
        "a. \n",
        "$$\\begin{equation*}\n",
        "      \\begin{split}\n",
        "            6^2 \\div 3-18\\div 3*5 & = 36/3-18\\div 3*5\\\\\n",
        "                                  & = 12 - 18\\div 3*5\\\\\n",
        "                                  & = 12 - 6*5\\\\\n",
        "                                  & = 12 - 30\\\\\n",
        "                                  & = -18\n",
        "   \\end{split}\n",
        "\\end{equation*}$$\n",
        "\n",
        "b. \n",
        "$$\\begin{equation*}\n",
        "      \\begin{split}\n",
        "            12 \\div (12-14)\\div 3*5^2   & = 12\\div(-2)\\div 3*5^2\\\\\n",
        "                                        & = 12\\div(-2)\\div 3*25\\\\\n",
        "                                        & = -6\\div3*25\\\\\n",
        "                                        & = -2*25\\\\\n",
        "                                        & = -50\n",
        "   \\end{split}\n",
        "\\end{equation*}$$\n",
        "\n",
        "c. \n",
        "$$\\begin{equation*}\n",
        "      \\begin{split}\n",
        "            45 \\div ((3-18\\div 3)*5) & = 45 \\div ((3-6)*5)\\\\\n",
        "                                    & =  45 \\div ((-3)*5)\\\\\n",
        "                                    & =  45 \\div (-15)\\\\\n",
        "                                    & = -3\n",
        "   \\end{split}\n",
        "\\end{equation*}$$\n",
        "\n"
      ]
    },
    {
      "cell_type": "markdown",
      "metadata": {
        "id": "QNptH9XuKFP5"
      },
      "source": [
        "**Ejemplo 1**"
      ]
    },
    {
      "cell_type": "code",
      "metadata": {
        "id": "EHSR_pidJNZf",
        "colab": {
          "base_uri": "https://localhost:8080/",
          "height": 84
        },
        "outputId": "6ead04e3-657e-449d-aee0-dbb112b43872"
      },
      "source": [
        "import math\n",
        "print(6**2/3-18/3*5)\n",
        "print(12/(12-14)/3*5**2)\n",
        "print(45/((3-18/3)*5))\n",
        "c = (math.cos(3.1415/2))**2 + 2*math.sin(3.1415/2)\n",
        "print(c)"
      ],
      "execution_count": null,
      "outputs": [
        {
          "output_type": "stream",
          "text": [
            "-18.0\n",
            "-50.0\n",
            "-3.0\n",
            "2.0\n"
          ],
          "name": "stdout"
        }
      ]
    },
    {
      "cell_type": "markdown",
      "metadata": {
        "id": "qHeWYQT8iByk"
      },
      "source": [
        "# 2. Control de Flujo\n",
        "En esta sección, veremos una colección de *sentencias* o *instrucciones condicionales*, que  permiten efectuar un bloque de instrucciones, si cumple una condición previamente definida. Este tipo comandos, facilita el manejo del flujo lógico de las tareas o instrucciones que se realizan en un programa en Python.\n",
        "## 2.1 Sentencia `if`\n",
        "La declaración `if` permite trabajar en forma restringida un bloque de instrucciones, siempre y cuando una condición inicial se satisga o tome el valor `True`.\n",
        "\n",
        "**Sintaxis**\n",
        "\n",
        "`if` <**condición A**> `:`\n",
        "\n",
        "         <instruccion 1>\n",
        "\n",
        "         <instruccion 2>\n",
        "\n",
        "         ...............\n",
        "\n",
        "         <instruccion n>\n",
        "**Nota**\n",
        "\n",
        "Obsérvese que las instrucciones van indentadas respecto a la sentencia `if`,  esta indentación o pequeño espacio es importante, pues le indica al computador cuales instrucciones conforman el bloque de instrucciones que deben realizarse, si la *condición A* toma el valor `True`. **Esta misma regla debe tenerse en cuenta para cualquier otra sentencia que se use**.\n",
        "\n",
        "**Ejemplo 1.**\n",
        "\n",
        "En el siguiente ejemplo, se le solicita al usario el nombre, si se llama \"Juan\" se  le saluda con un \"Hola Juan\", en otro caso se le ignora."
      ]
    },
    {
      "cell_type": "code",
      "metadata": {
        "id": "YA4TGBpkL1Nx",
        "colab": {
          "base_uri": "https://localhost:8080/",
          "height": 50
        },
        "outputId": "04b48b1e-f3c4-4d8f-8530-6506400ff96c"
      },
      "source": [
        "n = input(\"Cuál es su nombre ?\")\n",
        "if n == \"Juan\":\n",
        "   print(\"Hola Juan !\")"
      ],
      "execution_count": null,
      "outputs": [
        {
          "output_type": "stream",
          "text": [
            "Cuál es su nombre ?Juan\n",
            "Hola Juan !\n"
          ],
          "name": "stdout"
        }
      ]
    },
    {
      "cell_type": "markdown",
      "metadata": {
        "id": "0y0IjX9HS15f"
      },
      "source": [
        "##2.2 Sentencia `if else`\n",
        "Esta sentencia, permite realizar dos bloques de instrucciones distintos, un primer bloque de instrucciones se realizará si la condición que acompaña al if es `True`. Si la condición toma el valor `False` se efectúa el segundo bloque de instrucciones. \n",
        "**Sintaxis**\n",
        "\n",
        "`if` <**condición A**> **:**\n",
        "\n",
        "        <bloque de instrucciones 1>\n",
        "\n",
        "`else`**:**\n",
        "\n",
        "        <bloque de instrucciones 2>\n",
        "\n",
        "\n",
        "**Ejemplo 1**\n",
        "\n",
        "En este ejemplo, al usurio se le solicita el nombre, si  se llama \"Juan\" se le saluda con un \" Hola Juan!\". Si el usuario tiene otro nombre, se le enviarán saludes a Juan."
      ]
    },
    {
      "cell_type": "code",
      "metadata": {
        "id": "4drRuheyUWDO",
        "colab": {
          "base_uri": "https://localhost:8080/",
          "height": 50
        },
        "outputId": "0abae24f-d9b0-4cef-f34f-fb31d94e392c"
      },
      "source": [
        "n=input(\"Cuál es su nombre? \")\n",
        "if n==\"Juan\":\n",
        "  print (\"Hoja Juan\")\n",
        "else:\n",
        "  print (f\"Hola {n} por favor saludeme a Juan.\")"
      ],
      "execution_count": null,
      "outputs": [
        {
          "output_type": "stream",
          "text": [
            "Cuál es su nombre? Juan\n",
            "Hoja Juan\n"
          ],
          "name": "stdout"
        }
      ]
    },
    {
      "cell_type": "markdown",
      "metadata": {
        "id": "wenSOAGASmg8"
      },
      "source": [
        "**Ejemplo 2.**\n",
        "\n",
        "El siguiente código determina, si un entero es par o impar."
      ]
    },
    {
      "cell_type": "code",
      "metadata": {
        "id": "xPJU-GO_TFQ5",
        "colab": {
          "base_uri": "https://localhost:8080/",
          "height": 50
        },
        "outputId": "e1769e26-5e2c-43f3-cdfe-b21a16a0d050"
      },
      "source": [
        "n = int (input(\"Ingrese un entero\"))\n",
        "r = n%2\n",
        "if r == 0:\n",
        "   print(f\"{n} es un entero par\")\n",
        "else:\n",
        "   print(f\"{n} es un entero impar\")"
      ],
      "execution_count": null,
      "outputs": [
        {
          "output_type": "stream",
          "text": [
            "Ingrese un entero-18\n",
            "-18 es un entero par\n"
          ],
          "name": "stdout"
        }
      ]
    },
    {
      "cell_type": "markdown",
      "metadata": {
        "id": "ggdAOYWBwzqO"
      },
      "source": [
        "## 2.3 Sentencia `if-elif-else`\n",
        "\n",
        "Esta sentencia permite anidar dos sentencia `if-else`. Usaremos este comando cuando se tienen tres bloques de instrucciones y por lo menos dos condiciones a evaluar.\n",
        "\n",
        "**Sintaxis**\n",
        "\n",
        "`if`   <**condición A**> **:**\n",
        "\n",
        "        <bloque de instrucciones 1>\n",
        "\n",
        "`elif` <**condición B**>  **:**\n",
        "\n",
        "        <bloque de instrucciones 2>\n",
        "`else` **:**\n",
        "\n",
        "        <bloque de instrucciones 3>\n",
        "\n",
        "\n",
        "\n",
        "**Ejemplo 1.**\n",
        "\n",
        "El siguiente código determina, si un entero es nulo, positivo  o negativo.\n",
        "\n"
      ]
    },
    {
      "cell_type": "code",
      "metadata": {
        "id": "vmHtA_ro01u9",
        "colab": {
          "base_uri": "https://localhost:8080/",
          "height": 50
        },
        "outputId": "75d641ef-479f-4586-ce24-921862de221d"
      },
      "source": [
        "n =int (input(\"Ingrese un número entero = \"))\n",
        "if n==0:\n",
        "  print (\"El número ingresado es cero\")\n",
        "elif n > 0:\n",
        "  print(f\" {n} es un número positivo\")\n",
        "else:\n",
        "  print(f\"{n} es un número negativo\")"
      ],
      "execution_count": null,
      "outputs": [
        {
          "output_type": "stream",
          "text": [
            "Ingrese un número entero = -100\n",
            "-100 es un número negativo\n"
          ],
          "name": "stdout"
        }
      ]
    },
    {
      "cell_type": "markdown",
      "metadata": {
        "id": "ganGgN253XZw"
      },
      "source": [
        "**Ejemplo 2.**\n",
        "\n",
        "Diseñar un programa que permita determinar, si un número es divisible por 2 y 3 simultaneamente, por 2 pero no por 3, por 3 pero no por 2 o ni por 2 y ni  por 3. En este caso es necesario anidar dos sentencias if-elif-else"
      ]
    },
    {
      "cell_type": "code",
      "metadata": {
        "id": "LlVvVTEq4CiB",
        "colab": {
          "base_uri": "https://localhost:8080/",
          "height": 50
        },
        "outputId": "06207439-6c98-4814-f7c0-832f1316a15f"
      },
      "source": [
        "n= int(input(\"Ingrese un número entero \"))\n",
        "r1 = n%2\n",
        "r2 = n%3\n",
        "if r1==0 and r2==0 :\n",
        "   print(f\"{n} es divisible por 2 y 3.\")\n",
        "elif (r1==0):\n",
        "   print(f\"{n} es divisible por 2, pero no por 3.\")\n",
        "elif (r2==0):\n",
        "   print(f\"{n} es divisible por 3, pero no por 2.\") \n",
        "else:\n",
        "   print(f\"{n} no es divisible ni por 2 ni por 3.\")   "
      ],
      "execution_count": null,
      "outputs": [
        {
          "output_type": "stream",
          "text": [
            "Ingrese un número entero 18\n",
            "18 es divisible por 2 y 3.\n"
          ],
          "name": "stdout"
        }
      ]
    },
    {
      "cell_type": "markdown",
      "metadata": {
        "id": "GIfis_zuVl_5"
      },
      "source": [
        "## 2.4 Sentencia `for`\n",
        "\n",
        "La sentencia `for` permite ejecutar un número fijo de veces un bloque de instrucciones. Dicha sentencia se controla mediante una *variable* que toma valores de manera ordenada y comenzando por el primer valor  de una secuencia o colección ordenada. Cada vez que toma un valor la variable, se ejecuta el bloque de instrucciones. Una vez que ha tomado el último valor y ejecutado el bloque de instrucciones, el proceso pasa a la siguiente instrucción que sigue al ciclo `for`.\n",
        "\n",
        "**Sintaxis**\n",
        "\n",
        "for `<variable>` in `<secuencia>`:\n",
        "\n",
        "       `<instrucción 1>`\n",
        "\n",
        "       `<instrucción 2>`\n",
        "\n",
        "        `..............`\n",
        "\n",
        "       `<instrucción n>`\n",
        "\n",
        "**Ejemplo 1.**\n",
        "\n",
        "Supongamos que  se quiere calcular la suma de los valores que componen una tupla x. "
      ]
    },
    {
      "cell_type": "code",
      "metadata": {
        "id": "e-W9_M3piNyw",
        "colab": {
          "base_uri": "https://localhost:8080/",
          "height": 34
        },
        "outputId": "ad80f814-3e0e-41e4-cdc9-258b61cab449"
      },
      "source": [
        "x=(2,4,6,8,10,12,14)\n",
        "total=0\n",
        "for i in x:\n",
        "  total +=i \n",
        "print (total)"
      ],
      "execution_count": null,
      "outputs": [
        {
          "output_type": "stream",
          "text": [
            "56\n"
          ],
          "name": "stdout"
        }
      ]
    },
    {
      "cell_type": "markdown",
      "metadata": {
        "id": "PsDGZ4zrsU2V"
      },
      "source": [
        "**Ejercicio 2.**\n",
        "\n",
        "Imprimir los elementos de una lista, uno a uno."
      ]
    },
    {
      "cell_type": "code",
      "metadata": {
        "id": "kQwYg18osg8w",
        "colab": {
          "base_uri": "https://localhost:8080/",
          "height": 101
        },
        "outputId": "aca3e3c3-ec4b-4f1a-df1c-c05715876741"
      },
      "source": [
        "L=[\"Raul\",\"Maria\",\"Liliana\",\"Luis\",\"Dario\"]\n",
        "for elemento in L:\n",
        "   print(elemento)"
      ],
      "execution_count": null,
      "outputs": [
        {
          "output_type": "stream",
          "text": [
            "Raul\n",
            "Maria\n",
            "Liliana\n",
            "Luis\n",
            "Dario\n"
          ],
          "name": "stdout"
        }
      ]
    },
    {
      "cell_type": "markdown",
      "source": [
        "**Ejercicio 3**\n",
        "\n",
        "En este ejemplo, usaremos un ciclo `for` para mostrar la perdida de precisión  en cálculos iterativos debido a las aproximaciones que hace una máquina. Primero invitamos al lector a efectuar el cálculo \"a mano\" y en forma exacta  de los primeros 60 términos de la sucesión definida por: \n",
        "$x_0 = 1.0/10$\n",
        "\n",
        "$$x_{n+1} = \\left\\{\n",
        "  \\begin{array}{lr}\n",
        "    2x_n & : \\hbox{si } x_n\\in (0,\\frac{1}{2}]\\\\\n",
        "    2x_n - 1 & :  \\hbox{si } x_n\\in (\\frac{1}{2},1].\n",
        "  \\end{array}\n",
        "\\right.\n",
        "$$\n",
        "\n",
        "Compare los resultados de su cálculo con los resultados del algoritmo siguiente."
      ],
      "metadata": {
        "id": "Zge8WXmjSqnX"
      }
    },
    {
      "cell_type": "code",
      "source": [
        "x = 1.0/10\n",
        "for n in range(60):\n",
        "    if x<= 0.5:\n",
        "        x = 2*x\n",
        "    else:\n",
        "        x = 2*x-1\n",
        "    print(x)"
      ],
      "metadata": {
        "id": "N9YCmS0mVriu",
        "colab": {
          "base_uri": "https://localhost:8080/"
        },
        "outputId": "42daef6f-8fe4-45e4-ab0a-9df1b71b891b"
      },
      "execution_count": null,
      "outputs": [
        {
          "output_type": "stream",
          "name": "stdout",
          "text": [
            "0.2\n",
            "0.4\n",
            "0.8\n",
            "0.6000000000000001\n",
            "0.20000000000000018\n",
            "0.40000000000000036\n",
            "0.8000000000000007\n",
            "0.6000000000000014\n",
            "0.20000000000000284\n",
            "0.4000000000000057\n",
            "0.8000000000000114\n",
            "0.6000000000000227\n",
            "0.20000000000004547\n",
            "0.40000000000009095\n",
            "0.8000000000001819\n",
            "0.6000000000003638\n",
            "0.2000000000007276\n",
            "0.4000000000014552\n",
            "0.8000000000029104\n",
            "0.6000000000058208\n",
            "0.20000000001164153\n",
            "0.40000000002328306\n",
            "0.8000000000465661\n",
            "0.6000000000931323\n",
            "0.20000000018626451\n",
            "0.40000000037252903\n",
            "0.8000000007450581\n",
            "0.6000000014901161\n",
            "0.20000000298023224\n",
            "0.4000000059604645\n",
            "0.800000011920929\n",
            "0.6000000238418579\n",
            "0.20000004768371582\n",
            "0.40000009536743164\n",
            "0.8000001907348633\n",
            "0.6000003814697266\n",
            "0.20000076293945312\n",
            "0.40000152587890625\n",
            "0.8000030517578125\n",
            "0.600006103515625\n",
            "0.20001220703125\n",
            "0.4000244140625\n",
            "0.800048828125\n",
            "0.60009765625\n",
            "0.2001953125\n",
            "0.400390625\n",
            "0.80078125\n",
            "0.6015625\n",
            "0.203125\n",
            "0.40625\n",
            "0.8125\n",
            "0.625\n",
            "0.25\n",
            "0.5\n",
            "1.0\n",
            "1.0\n",
            "1.0\n",
            "1.0\n",
            "1.0\n",
            "1.0\n"
          ]
        }
      ]
    },
    {
      "cell_type": "markdown",
      "source": [
        "Mas adelante estudiaremos por qué se da esta imprecisión."
      ],
      "metadata": {
        "id": "75ip1VXsUV-P"
      }
    },
    {
      "cell_type": "markdown",
      "source": [
        "**Ejercicio 4**\n",
        "\n",
        "Diseñe un programa que cree y pinte un grafo. El programa debe permitirle al usuario ingresar los nodos de partida y llegada de cada arista del grafo."
      ],
      "metadata": {
        "id": "arntw3uK6iwi"
      }
    },
    {
      "cell_type": "code",
      "source": [
        "import networkx as nx # Módulo para crear grafos\n",
        "import matplotlib.pyplot as plt # Módulo para pintar figuras\n",
        "# Creamos una clase de tipo grafo   \n",
        "G = nx.Graph()\n",
        "# Construimos el grafo agregando, una a una, las aristas de la lista Aristas.\n",
        "n= int(input(\"Ingrese el número de vértices del grafo =  \"))\n",
        "print(\"\\n \")\n",
        "for i in range(n):\n",
        "   print(\"Vértice número = \",i+1)\n",
        "   u =  int(input(\"Ingrese  nodo de partida = \"))\n",
        "   v =  int(input(\"Ingrese nodo de llegada =  \"))\n",
        "   print(\"\\n \")\n",
        "   G.add_edge(u,v) \n",
        "# Pintamos el grafo en pantalla\n",
        "nx.draw_networkx(G)\n",
        "print(G)  "
      ],
      "metadata": {
        "colab": {
          "base_uri": "https://localhost:8080/",
          "height": 456
        },
        "id": "OZAqMlwC66ug",
        "outputId": "aa8990ec-07e0-4d28-b545-3dcaa9cc3893"
      },
      "execution_count": null,
      "outputs": [
        {
          "output_type": "stream",
          "name": "stdout",
          "text": [
            "Ingrese el número de vértices del grafo =  2\n",
            "Vértice número =  1\n",
            "Ingrese  nodo de partida = 0\n",
            "Ingrese nodo de llegada =  1\n",
            "\n",
            " \n",
            "Vértice número =  2\n",
            "Ingrese  nodo de partida = 1\n",
            "Ingrese nodo de llegada =  2\n",
            "\n",
            " \n",
            "Graph with 3 nodes and 2 edges\n"
          ]
        },
        {
          "output_type": "display_data",
          "data": {
            "image/png": "[encoded data removed]",
            "text/plain": [
              "<Figure size 432x288 with 1 Axes>"
            ]
          },
          "metadata": {}
        }
      ]
    },
    {
      "cell_type": "markdown",
      "metadata": {
        "id": "YsO8AdFm2zhY"
      },
      "source": [
        "## 2.5 Sentencia `while`\n",
        "\n",
        "Esta sentencia permite efectuar un bloque de instrucciones, siempre y cuando una condición se cumpla.\n",
        "\n",
        "**Sintaxis**\n",
        "\n",
        "`while <condicion>:`\n",
        "    \n",
        "    <instruccion 1>\n",
        "    <instruccion 2>\n",
        "     ............\n",
        "    <instruccion n>\n",
        "\n",
        "**Ejemplo 1**\n",
        "\n",
        "Calcular la suma de todos los números menores o iguales que un cierto valor entero $n$ dado por el usuario.\n",
        "\n"
      ]
    },
    {
      "cell_type": "code",
      "metadata": {
        "id": "sr8M3qEG-zPb",
        "colab": {
          "base_uri": "https://localhost:8080/",
          "height": 50
        },
        "outputId": "304d98bd-475f-4570-c50b-26da3529d9bc"
      },
      "source": [
        "n = int(input (\"Ingrese un entero positivo = \"))\n",
        "i=1\n",
        "total = 0\n",
        "while i <= n:\n",
        "  total +=i\n",
        "  i+=1\n",
        "print(total)"
      ],
      "execution_count": null,
      "outputs": [
        {
          "output_type": "stream",
          "text": [
            "Ingrese un entero positivo = 1000\n",
            "500500\n"
          ],
          "name": "stdout"
        }
      ]
    },
    {
      "cell_type": "code",
      "metadata": {
        "id": "DLJA30ihTyzc",
        "colab": {
          "base_uri": "https://localhost:8080/",
          "height": 50
        },
        "outputId": "e13a8054-5b03-4b9b-ea2d-91203441ae0c"
      },
      "source": [
        "n = int(input (\"Ingrese un entero positivo = \"))\n",
        "total = 0\n",
        "for i in range(n+1):\n",
        "  total +=i\n",
        "print(total)"
      ],
      "execution_count": null,
      "outputs": [
        {
          "output_type": "stream",
          "text": [
            "Ingrese un entero positivo = 100\n",
            "5050\n"
          ],
          "name": "stdout"
        }
      ]
    },
    {
      "cell_type": "markdown",
      "metadata": {
        "id": "hU7GHQ47W83Q"
      },
      "source": [
        "**Ejemplo 2**\n",
        "\n",
        "Diseñe un programa que simule el lanzamiento de un par de dados y que permita realizar lazamientos tantas veces como se quiera."
      ]
    },
    {
      "cell_type": "code",
      "metadata": {
        "id": "qOKSNKuSX0FA",
        "colab": {
          "base_uri": "https://localhost:8080/",
          "height": 218
        },
        "outputId": "ed7fb235-93d5-4d9b-caeb-34920e000f98"
      },
      "source": [
        "#La librería random permite usar funciones que generan números randomicos\n",
        "import random \n",
        "print (\"\\t \\t ESTE PROGRAMA SIMULA EL LANZAMIENTO DE UN PAR DE DADOS \\n\")\n",
        "respuesta = input (\"Desea lanzar los dados ? s(si), n(no) \")\n",
        "x=(1,2,3,4,5,6)\n",
        "while respuesta in ['s','S']:\n",
        "    Dado1 = random.choice(x)  # random.choice escoge un número al azar de la tupla x\n",
        "    Dado2 = random.choice(x)\n",
        "    print (f\"Lanzamiento = ( {Dado1},  {Dado2})\")\n",
        "    respuesta = input (\"\\n Desea continuar jugando ? s(si), n(no)\")\n",
        "print(\"\\n ***     EL JUEGO TERMINÓ     *** \\n \")    \n",
        "   "
      ],
      "execution_count": null,
      "outputs": [
        {
          "output_type": "stream",
          "text": [
            "\t \t ESTE PROGRAMA SIMULA EL LANZAMIENTO DE UN PAR DE DADOS \n",
            "\n",
            "Desea lanzar los dados ? s(si), n(no) s\n",
            "Lanzamiento = ( 4,  5)\n",
            "\n",
            " Desea continuar jugando ? s(si), n(no)si\n",
            "Lanzamiento = ( 2,  1)\n",
            "\n",
            " Desea continuar jugando ? s(si), n(no)n\n",
            "\n",
            " ***     EL JUEGO TERMINÓ     *** \n",
            " \n"
          ],
          "name": "stdout"
        }
      ]
    },
    {
      "cell_type": "markdown",
      "metadata": {
        "id": "thSu0c0T_9Z1"
      },
      "source": [
        "**Ejercicio 3.**\n",
        "Formar una lista con números enteros. Construir un código que imprima la lista y calcule la suma de los número pares presentes en la lista."
      ]
    },
    {
      "cell_type": "code",
      "metadata": {
        "id": "38wP8InOAOuS",
        "colab": {
          "base_uri": "https://localhost:8080/",
          "height": 84
        },
        "outputId": "04ebdd94-87c6-45b1-b694-78b89f620f0f"
      },
      "source": [
        "n=int (input(\"Ingrese el número de elementos de la lista de numeros \"))\n",
        "x=[]   \n",
        "i=0    \n",
        "total=0\n",
        "while i<n:\n",
        "  a=int (input(\"Ingrese un entero \"))\n",
        "  x.append(a)\n",
        "  num = x[i]\n",
        "  if num % 2 == 0:\n",
        "     total += num\n",
        "  i+=1\n",
        "print(x)\n",
        "print(total)"
      ],
      "execution_count": null,
      "outputs": [
        {
          "output_type": "stream",
          "text": [
            "Ingrese el número de elementos de la lista de numeros 1\n",
            "Ingrese un entero 2\n",
            "[2]\n",
            "2\n"
          ],
          "name": "stdout"
        }
      ]
    },
    {
      "cell_type": "markdown",
      "metadata": {
        "id": "iCglj4DlyVzL"
      },
      "source": [
        "## 2.6 Ejercicios de Repaso\n",
        "\n",
        "Para los siguientes ejercicios se pide diseñar un programa en Python que:\n",
        "\n",
        "1. Calcule el resto y el cociente de dos enteros no nulos dados.\n",
        "\n",
        "2. Determine si un entero positivo dado es un número primo.\n",
        "\n",
        "3. Calcule la suma de los números divisibles por 2 o por 3, menores o iguales que un valor $n$ dado.\n",
        "\n",
        "4. Haga una lista de los números primos menores que un entero dado.\n",
        "\n",
        "5. Calcule las raices (exactas incluyendo casos complejos) de un polinomio $p(x)=ax^2+bx+c$ donde $a,b,c \\in \\mathbb{R}$  dados.\n",
        "\n",
        "6. Determine si dos rectas dadas son paralelas, coinciden en todos sus puntos o se cortan en un único punto. En este último caso debe calcularse el punto de corte de manera exacta.\n",
        " El programa debe imprimir un mensaje que diga:  Las rectas $a_1x + b_1y = c_1 $  y $a_2x + b_2y = c_2  $\n",
        " son paralelas, coinciden en todos sus puntos o se cortan en el punto $(x,y)$, según sea el caso.\n",
        "\n",
        "7. Cuente el número de vocales y de consonantes \n",
        "presentes en una oración dada por el usuario.\n",
        "\n",
        "8. Solicite una oración (cadena de caracteres) e imprima las palabras de la oración en orden reverso, separando cada palabra resultante con un espacio.\n",
        "\n",
        "9. Determine si con tres medidas dadas se puede construir un triángulo en el que  sus lados tengan dichas medidas.\n",
        "\n",
        "10. Calcule el mínimo común múltiplo (m.c.m) y el máximo común divisor (M.C.D) de dos números dados.\n",
        "\n",
        "11. Pinte usando asteriscos `*`, un triángulo isósceles (no rectangulo) tal que en la base tenga una cantidad de `*`'s igual a un valor entero dado por el usuario.\n",
        "\n",
        "12. Cree un grafo, de acuerdo a los siguientes pasos:\n",
        "\n",
        "*   El usario indica en número de vértices, e ingresa uno a uno los vértices que deben guardarse en una lista.\n",
        "*   Pinte el grafo, de manera iterativa colocando una arista a la vez y siguiendo el orden como han sido ingresadas las arístas.\n",
        "\n",
        "13. Diseñe una algoritmo que lea una colección de enteros no negativos dados por el usuario, y que separe la colección en dos subcolecciones de pares e impares.\n",
        "\n",
        "\n"
      ]
    },
    {
      "cell_type": "markdown",
      "metadata": {
        "id": "rHkq1TggfrgF"
      },
      "source": [
        "#3. Funciones en Python\n",
        "\n",
        "Las funciones en Python, son subrutines o subprogramas que se diseñan con el fin de estructurar un programa en pequeñas tareas o cálculos. Una vez diseñadas las funciones, pueden llamarse desde cualquier punto dentro del flujo lógico de un programa. Los valores con los que trabaja una función se denominan *argumentos*. Una función puede tener una colección de argumentos vacía.\n",
        "\n",
        "**Sintaxis**\n",
        "\n",
        "`def <nombre_funcion>(<argumento 1>, ..., <argumento p>)`**:**\n",
        "\n",
        "      `<instruccion 1>`\n",
        "\n",
        "      `..............`\n",
        "\n",
        "      `<instruccion n>`\n",
        "      return  <valor>\n",
        "\n",
        "**Nota**\n",
        "\n",
        "*   El comando `return` es opcional; se usa, si la función efectúa un cálculo y  reporta un valor.\n",
        "*   El llamado a una función se realiza usando la siguiente sintaxis.\n",
        "\n",
        "    `<nombre_funcion>(valor_1, ... ,valor_n)`\n",
        "\n",
        "    donde `valor_1, ... ,valor_`n son los valores que toman los argumentos `<argumento 1>, ..., <argumento p> `, respectivamente.\n",
        "\n",
        "\n",
        "**Ejemplo 1.**\n",
        "\n",
        "La serie de Fibonacci está definida por la fórmula recursiva\n",
        "$F(0)=1$ y $F(1)=1$ y $F(i)=F(i-2)+F(i-1)$ para $i=2,3,\\ldots$. De esta manera obtenemos la colección de números $$1 , 1 , 2 , 3 , 5 , 8 , 13, \\ldots$$.\n",
        "\n",
        "Diseñar una función que permita calcular la serie de Fibonaci, hasta un valor $n$ dado."
      ]
    },
    {
      "cell_type": "code",
      "metadata": {
        "id": "tWjql7fnkguJ",
        "colab": {
          "base_uri": "https://localhost:8080/",
          "height": 34
        },
        "outputId": "b7e79114-bd7d-409e-f972-3cf4057c483c"
      },
      "source": [
        "# Definición de la función\n",
        "def Fibo(n):\n",
        "   a=1\n",
        "   b=1\n",
        "   print(a,\", \", b, end =\"\") # el comando \"end =\" NO permite el salto de línea\n",
        "   for i in range(2,n):\n",
        "     F = a + b\n",
        "     a = b \n",
        "     b = F \n",
        "     print(\", \", F,end=\"\" )\n",
        "# llamado de la función    \n",
        "Fibo(5)"
      ],
      "execution_count": null,
      "outputs": [
        {
          "output_type": "stream",
          "text": [
            "1 ,  1,  2,  3,  5"
          ],
          "name": "stdout"
        }
      ]
    },
    {
      "cell_type": "markdown",
      "source": [
        "Presentamos una segunda versión de la función de Fibonacci"
      ],
      "metadata": {
        "id": "LybPGmRMM2Xv"
      }
    },
    {
      "cell_type": "code",
      "source": [
        "# Definición de la función\n",
        "def Fibo1(n):   \n",
        "    a, b = 1, 1\n",
        "    while a < n:\n",
        "        print(a, end=' ')\n",
        "        a, b = b, a+b\n",
        "    print()\n",
        "Fibo1(1000)    "
      ],
      "metadata": {
        "colab": {
          "base_uri": "https://localhost:8080/"
        },
        "id": "T482O0xvNNPS",
        "outputId": "f2bdafa3-6336-4e08-8376-00bfb03b9a6d"
      },
      "execution_count": null,
      "outputs": [
        {
          "output_type": "stream",
          "name": "stdout",
          "text": [
            "1 1 2 3 5 8 13 21 34 55 89 144 233 377 610 987 \n"
          ]
        }
      ]
    },
    {
      "cell_type": "markdown",
      "source": [
        "Una tercero versión de esta función que hace un uso interesante de listas.\n"
      ],
      "metadata": {
        "id": "NweKwd_wOjU7"
      }
    },
    {
      "cell_type": "code",
      "source": [
        "# Definición de la función\n",
        "def Fibo3(n): \n",
        "    Fibonacci = []\n",
        "    a, b = 0, 1\n",
        "    while a < n:\n",
        "        Fibonacci.append(a)\n",
        "        a, b = b, a+b\n",
        "    return Fibonacci\n",
        "Fibo3(100)"
      ],
      "metadata": {
        "colab": {
          "base_uri": "https://localhost:8080/"
        },
        "id": "BEMbJQo5OzeZ",
        "outputId": "6c3d6d6f-e4e5-4bef-8855-badf0845ee5a"
      },
      "execution_count": null,
      "outputs": [
        {
          "output_type": "execute_result",
          "data": {
            "text/plain": [
              "[0, 1, 1, 2, 3, 5, 8, 13, 21, 34, 55, 89]"
            ]
          },
          "metadata": {},
          "execution_count": 24
        }
      ]
    },
    {
      "cell_type": "markdown",
      "metadata": {
        "id": "unmiOEdap6Gv"
      },
      "source": [
        "**Ejemplo 2.**\n",
        "\n",
        "Diseñar una función que permita calcular el factorial de un número $n$ dado."
      ]
    },
    {
      "cell_type": "code",
      "metadata": {
        "id": "CnVtxh9GqO9f",
        "colab": {
          "base_uri": "https://localhost:8080/",
          "height": 34
        },
        "outputId": "bf3a872f-3e02-42d8-ecbc-a3ef9efab199"
      },
      "source": [
        "# Definicion de la función\n",
        "def Fact(n):\n",
        "  if n==0 or n==1:\n",
        "    F = 1\n",
        "  else:\n",
        "     F = 1\n",
        "     for i in range(1,n+1):\n",
        "        F *=i\n",
        "  print(f\"{n}!={F}\")\n",
        "# llamado de la función    \n",
        "Fact(10)  "
      ],
      "execution_count": null,
      "outputs": [
        {
          "output_type": "stream",
          "text": [
            "10!=3628800\n"
          ],
          "name": "stdout"
        }
      ]
    },
    {
      "cell_type": "markdown",
      "metadata": {
        "id": "aSxAVMCNfXiT"
      },
      "source": [
        "**Ejemplo 3**\n",
        "\n",
        "En el siguiente ejemplo introducimos una función y un comando que permiten formar una lista que contenga las claves de un diccionario. En este caso el argumento de la función es un diccionario."
      ]
    },
    {
      "cell_type": "code",
      "metadata": {
        "id": "OivtfH3Yfns2",
        "colab": {
          "base_uri": "https://localhost:8080/",
          "height": 34
        },
        "outputId": "a7b9a100-a80d-42d7-92ea-ab7e47fb998a"
      },
      "source": [
        "# Definición de la función\n",
        "def Claves(D):          # D es el nombre del diccionario\n",
        "       C = D.keys()     # .keys() Permite obtener las claves del diccionario D\n",
        "       return C\n",
        "# Llamado de la función\n",
        "E = dict(fruta=\"Manzana\",color=\"Rojo\",estado=\"Bueno\",vencimiento=\"2-02-2020\" )\n",
        "print(Claves(E))"
      ],
      "execution_count": null,
      "outputs": [
        {
          "output_type": "stream",
          "text": [
            "dict_keys(['fruta', 'color', 'estado', 'vencimiento'])\n"
          ],
          "name": "stdout"
        }
      ]
    },
    {
      "cell_type": "markdown",
      "metadata": {
        "id": "V58_AzA79bTW"
      },
      "source": [
        "## 3.1 Argumentos o parámetros\n",
        "\n",
        "El número de argumentos de una función puede ser cero, determinado o no determinado. Veamos un ejemplo de cada uno de estos casos.\n",
        "\n",
        "**Ejemplo 1**\n",
        "\n",
        "En este ejemplo, diseñamos una función cuyo número de argumentos es cero. Este tipo de funciones sirve para realizar una tarea que no efectúa una tarea fija, como por ejemplo imprimir un título."
      ]
    },
    {
      "cell_type": "code",
      "metadata": {
        "id": "cQJfAaZqF_qV",
        "colab": {
          "base_uri": "https://localhost:8080/",
          "height": 101
        },
        "outputId": "4fab9cdf-fbb9-42e1-e7b9-c9cff11a6aed"
      },
      "source": [
        "def Asteriscos():\n",
        "    print(\"**********************************************\")\n",
        "    print(\"**********************************************\")\n",
        "# La declaración de la función termina en el segundo print\n",
        "# A continuación usaremos dos veces la función Asteriscos() \n",
        "#  para enmarcar un título\n",
        "Asteriscos()\n",
        "print(\"           kfjsdjfsjldfjlsjfdljslj               \")\n",
        "Asteriscos()"
      ],
      "execution_count": null,
      "outputs": [
        {
          "output_type": "stream",
          "text": [
            "**********************************************\n",
            "**********************************************\n",
            "           kfjsdjfsjldfjlsjfdljslj               \n",
            "**********************************************\n",
            "**********************************************\n"
          ],
          "name": "stdout"
        }
      ]
    },
    {
      "cell_type": "markdown",
      "metadata": {
        "id": "ViyWG271Qpp7"
      },
      "source": [
        "  **Ejemplo 2**\n",
        "\n",
        "Una vez definida una función, los valores de sus argumentos pueden pasarse como se muestra en el siguiente ejemplo.\n"
      ]
    },
    {
      "cell_type": "code",
      "metadata": {
        "id": "apwoykfyXYG6",
        "colab": {
          "base_uri": "https://localhost:8080/",
          "height": 50
        },
        "outputId": "e0a3f7ae-e8df-4562-b2c1-f85f16496679"
      },
      "source": [
        "def InfAcademica(nombre,semestre,carrera,edad):\n",
        "     print(\"El alumno\", nombre, \"tiene\",edad,\".\")\n",
        "# Llamado de la función  \n",
        "# Primera forma\n",
        "InfAcademica(semestre=\"9\",nombre=\"Pedro Gomez\",carrera=\"Ciencias de la Computacion\",edad=\"23 años\") \n",
        "# Segunda forma\n",
        "InfAcademica(\"Pedro Gomez\",\"9\",\"Ciencias de la Computacion\",\"23 años\")     "
      ],
      "execution_count": null,
      "outputs": [
        {
          "output_type": "stream",
          "text": [
            "El alumno Pedro Gomez tiene 23 años .\n",
            "El alumno Pedro Gomez tiene 23 años .\n"
          ],
          "name": "stdout"
        }
      ]
    },
    {
      "cell_type": "markdown",
      "metadata": {
        "id": "Gke9vFIUTA5F"
      },
      "source": [
        "**Ejemplo 3**\n",
        "\n",
        "A continuación diseñamos la función polinomial $f(x,y) = 2x^2-3y +1.$ Nótese que  pasamos los valores con los que debe trabajar la función, justo cuando llamamos la función."
      ]
    },
    {
      "cell_type": "code",
      "metadata": {
        "id": "MjhPZ2ylTbVt",
        "colab": {
          "base_uri": "https://localhost:8080/",
          "height": 34
        },
        "outputId": "29e32625-8ec6-40a7-f0c0-b3efb3e2a14d"
      },
      "source": [
        "def f(x,y):\n",
        "   F = 2*x**2 - 3*y + 1\n",
        "   return F\n",
        "print(f\"{f(x=1,y=3)}\")\n"
      ],
      "execution_count": null,
      "outputs": [
        {
          "output_type": "stream",
          "text": [
            "-6\n"
          ],
          "name": "stdout"
        }
      ]
    },
    {
      "cell_type": "markdown",
      "metadata": {
        "id": "zr6XcH0-zMxX"
      },
      "source": [
        "**Ejemplo 4**\n",
        "\n",
        "Se define una función que permite determinar los valores de un diccionario."
      ]
    },
    {
      "cell_type": "code",
      "metadata": {
        "id": "Ye01Avv8cNWc",
        "colab": {
          "base_uri": "https://localhost:8080/",
          "height": 84
        },
        "outputId": "e710ad87-2e7e-41ee-b9c6-a60e25289902"
      },
      "source": [
        "\n",
        "def Valores(D):\n",
        "     C = D.keys() # El operador .keys() permite obtener una lista \n",
        "                  # conformada con las claves del diccionario\n",
        "     V = []       # V es una lista que contiene los valores del diccionario\n",
        "     for c in C:\n",
        "         V.append(D[c])\n",
        "     return(V)\n",
        "#############################     \n",
        "## Ahora usamos la función ## \n",
        "#############################        \n",
        "D = dict(fruta=\"Manzana\",color=\"Rojo\",estado=\"Bueno\",vencimiento=\"2/03/2020\")\n",
        "E = dict(nombre=\"Pedro Gomez\",semestre=\"9\",carrera=\"Ciencias de la Computacion\",edad=\"23 años\")\n",
        "print(Valores(D))         \n",
        "print(Valores(E))        "
      ],
      "execution_count": null,
      "outputs": [
        {
          "output_type": "stream",
          "text": [
            "dict_values(['Manzana', 'Rojo', 'Bueno', '2/03/2020'])\n",
            "['Manzana', 'Rojo', 'Bueno', '2/03/2020']\n",
            "dict_values(['Pedro Gomez', '9', 'Ciencias de la Computacion', '23 años'])\n",
            "['Pedro Gomez', '9', 'Ciencias de la Computacion', '23 años']\n"
          ],
          "name": "stdout"
        }
      ]
    },
    {
      "cell_type": "code",
      "metadata": {
        "id": "lwivx3h0eyr2",
        "colab": {
          "base_uri": "https://localhost:8080/",
          "height": 50
        },
        "outputId": "01a39b57-b59c-4ab8-a251-41f6fa670eae"
      },
      "source": [
        "def Valores(D):\n",
        "     V=list (D.values()) # El operador .keys() permite obtener una lista \n",
        "                  # conformada con las claves del diccionario\n",
        "     return(V)\n",
        "#############################     \n",
        "## Ahora usamos la función ## \n",
        "#############################        \n",
        "D = dict(fruta=\"Manzana\",color=\"Rojo\",estado=\"Bueno\",vencimiento=\"2/03/2020\")\n",
        "E = dict(nombre=\"Pedro Gomez\",semestre=\"9\",carrera=\"Ciencias de la Computacion\",edad=\"23 años\")\n",
        "print(Valores(D))         \n",
        "print(Valores(E))        "
      ],
      "execution_count": null,
      "outputs": [
        {
          "output_type": "stream",
          "text": [
            "['Manzana', 'Rojo', 'Bueno', '2/03/2020']\n",
            "['Pedro Gomez', '9', 'Ciencias de la Computacion', '23 años']\n"
          ],
          "name": "stdout"
        }
      ]
    },
    {
      "cell_type": "markdown",
      "metadata": {
        "id": "Mfs-Eqo3Lwss"
      },
      "source": [
        "## 3.2  Utilidad de las Funciones\n",
        "\n",
        "En algunas ocasiones resulta útil definir una función por cada tarea o cálculo que realice un programa, con el fin de estructurar mejor el diseño de éste. Por lo tanto, se recomienda como una buena práctica de programación,  asignar a cada tarea que se realize, una función que la efectúe. Posteriormente, se estructura el cuerpo del programa mediante llamadas a las distintas funciones previamente definidas.\n",
        "\n",
        "**Ejemplo 1**\n",
        "\n",
        "En el siguiente ejemplo, se implementan dos funciones: LeerLista y Promedio. El programa le solita al usuario \n",
        "una colección de datos, una vez son ingresados, el programa calcula el promedio de los datos ingresados."
      ]
    },
    {
      "cell_type": "code",
      "metadata": {
        "id": "K8NxhPHgM7UX",
        "colab": {
          "base_uri": "https://localhost:8080/",
          "height": 202
        },
        "outputId": "6e64fbdd-1677-4607-b48a-a1635d06d53a"
      },
      "source": [
        "# Definición de la función LeerLista\n",
        "\n",
        "def LeerLista(x,n): # x corresponde a la Lista y n al número de datos \n",
        "    for i in range(n):\n",
        "       print(f\"Ingrese el dato {i+1} = \",end =\" \") # El comando end = permite que el resultado aparezca en frente del mensaje impreso.\n",
        "       x.append(float(input()))\n",
        "\n",
        "# Definición de la función Promedio\n",
        "\n",
        "def Promedio(x):\n",
        "    l=len(x)\n",
        "    Prom =0.0\n",
        "    for i in range(l):\n",
        "       Prom +=x[i]\n",
        "    Prom /= l\n",
        "    return Prom\n",
        "\n",
        "# Programa principal\n",
        "print(\"\\n ***  CÁLCULO DEL PROMEDIO DE UNA COLECCIÓN DE VALORES *** \\n\")\n",
        "n = int(input(\"Ingrese el número de valores a promediar = \"))\n",
        "x = []\n",
        "LeerLista(x,n)       # Llamado a la función LeerTupla\n",
        "P = Promedio(x)      # Llamado a la función Promedio\n",
        "print(f\"\\n El promedio de los números ingresados es {P}\")   "
      ],
      "execution_count": null,
      "outputs": [
        {
          "output_type": "stream",
          "text": [
            "\n",
            " ***  CÁLCULO DEL PROMEDIO DE UNA COLECCIÓN DE VALORES *** \n",
            "\n",
            "Ingrese el número de valores a promediar = 5\n",
            "Ingrese el dato 1 =  4\n",
            "Ingrese el dato 2 =  45\n",
            "Ingrese el dato 3 =  10\n",
            "Ingrese el dato 4 =  20\n",
            "Ingrese el dato 5 =  10\n",
            "\n",
            " El promedio de los números ingresados es 17.8\n"
          ],
          "name": "stdout"
        }
      ]
    },
    {
      "cell_type": "markdown",
      "metadata": {
        "id": "mtdhMOqhbi7Z"
      },
      "source": [
        "**Ejemplo 2.**\n",
        "\n",
        "Diseñar una función que permita imprimir  a partir de una lista de clase, el nombre de cada estudiante y su edad."
      ]
    },
    {
      "cell_type": "code",
      "metadata": {
        "id": "CTUaKNTufSbQ",
        "colab": {
          "base_uri": "https://localhost:8080/",
          "height": 67
        },
        "outputId": "634602cd-76af-4266-b89c-c8fc28d35c29"
      },
      "source": [
        "def ListaClase(L,n):\n",
        "   for i in range(n):\n",
        "      print(L[i][\"nombre\"], \"  \", L[i][\"edad\"])\n",
        "#  Definimos por cada alumno un diccionario\n",
        "Alumno1 = dict( nombre =\"Juan Ardila\",semestre = \"2\", carrera = \"Arquitectura\",edad=\"19 años\")\n",
        "Alumno2 = dict( nombre =\"Maria Martinez\",semestre = \"4\", carrera = \"Ingenieria Civil\",edad=\"20 años\")\n",
        "Alumno3 = dict( nombre =\"Andrés Hurtado\",semestre = \"10\", carrera = \"Ciencias de la Computación\",edad=\"25 años\")\n",
        "# Conformamos una lista tal que cada elemento sea un diccionario\n",
        "L = [Alumno1, Alumno2,Alumno3]\n",
        "ListaClase(L,len(L))"
      ],
      "execution_count": null,
      "outputs": [
        {
          "output_type": "stream",
          "text": [
            "Juan Ardila    19 años\n",
            "Maria Martinez    20 años\n",
            "Andrés Hurtado    25 años\n"
          ],
          "name": "stdout"
        }
      ]
    },
    {
      "cell_type": "markdown",
      "metadata": {
        "id": "jYQUkpfAuQnq"
      },
      "source": [
        "## 3.1 Funciones Recursivas\n",
        "Una función es recursiva, si para efectuar su cálculo hace un llamado a sí misma.\n",
        "\n",
        "**Nota**\n",
        "\n",
        "Aun cuando el uso de funciones recursivas, puede simplificar la programación, la ejecución de un código recursivo, puede generar una sobre saturación de la memoria a causa de los llamados sucesivos a la función misma.\n",
        "\n",
        "**Ejemplo 1**\n",
        "\n",
        "Diseñe una función recursiva que calcule el factorial de un número $n\\in \\mathbb {N}$."
      ]
    },
    {
      "cell_type": "code",
      "metadata": {
        "id": "fqvdnfzAVDJD",
        "colab": {
          "base_uri": "https://localhost:8080/",
          "height": 34
        },
        "outputId": "26206e21-1995-45be-975b-e4991e0e953f"
      },
      "source": [
        "def Fact(n):\n",
        "  if n == 0 or n == 1:\n",
        "    return 1\n",
        "  else:\n",
        "    return Fact(n-1)*n\n",
        "# Llamado a la función Fact    \n",
        "Fact(8)      "
      ],
      "execution_count": null,
      "outputs": [
        {
          "output_type": "execute_result",
          "data": {
            "text/plain": [
              "40320"
            ]
          },
          "metadata": {
            "tags": []
          },
          "execution_count": 8
        }
      ]
    },
    {
      "cell_type": "markdown",
      "metadata": {
        "id": "Zmn5B_JTWuEC"
      },
      "source": [
        "**Ejemplo 2**\n",
        "\n",
        "Diseñar una función que calcule el término $n$-ésimo de la sucesión de Fibonacci. Dada por \n",
        "$$Fibo(n) = \\left\\{\n",
        "  \\begin{array}{lr}\n",
        "    1 & : \\hbox{si } n = 0.\\\\\n",
        "    1 & :  \\hbox{si } n = 1.\\\\\n",
        "    Fibo(n-2)+Fibo(n-1) & : n > 1\n",
        "  \\end{array}\n",
        "\\right.\n",
        "$$"
      ]
    },
    {
      "cell_type": "code",
      "metadata": {
        "id": "sfHGcmA7Ysfk",
        "colab": {
          "base_uri": "https://localhost:8080/",
          "height": 34
        },
        "outputId": "340591d5-60ae-4a9a-bcac-3b8cac2381dd"
      },
      "source": [
        "def Fibo(n):\n",
        "  if n == 0:\n",
        "     return 1\n",
        "  elif n == 1:\n",
        "     return 1\n",
        "  else:\n",
        "     return Fibo(n-2)+Fibo(n-1)\n",
        "Fibo(10)        "
      ],
      "execution_count": null,
      "outputs": [
        {
          "output_type": "execute_result",
          "data": {
            "text/plain": [
              "89"
            ]
          },
          "metadata": {
            "tags": []
          },
          "execution_count": 5
        }
      ]
    },
    {
      "cell_type": "markdown",
      "metadata": {
        "id": "gIxjRInkZZv9"
      },
      "source": [
        "**Ejemplo 3**\n",
        "\n",
        "La siguiente función la diseñó el matemático alemán Wilhelm Friedrich Ackermann.\n",
        "$$A(0,n) = n+1 \\hbox{,   si }  n > 0.$$\n",
        "$$A(m,0) = A(m-1,1) \\hbox{,   si }  m > 0.$$\n",
        "$$A(m,n) = A(m-1,A(m,n-1) \\hbox{,   si }n > 0 , m > 0.$$\n",
        "donde $m,n\\in \\mathbb N$."
      ]
    },
    {
      "cell_type": "code",
      "metadata": {
        "id": "efAJitKGgELq",
        "colab": {
          "base_uri": "https://localhost:8080/",
          "height": 34
        },
        "outputId": "33ea03d5-2bb5-4a71-f4a5-ff232c08a307"
      },
      "source": [
        "def Ackermann(m,n):\n",
        "   if m == 0:\n",
        "     return n+1\n",
        "   elif m > 0 and n == 0:\n",
        "     return Ackermann(m-1,1) \n",
        "   else:\n",
        "     return Ackermann(m-1,Ackermann(m,n-1))\n",
        "\n",
        "Ackermann(3,4)\n",
        "# Observe que para valores de m,n>3 el programa se bloquea debido a la sobre\n",
        "# saturacion de la memoria generada por las autollamadas de la función."
      ],
      "execution_count": null,
      "outputs": [
        {
          "output_type": "execute_result",
          "data": {
            "text/plain": [
              "125"
            ]
          },
          "metadata": {
            "tags": []
          },
          "execution_count": 3
        }
      ]
    },
    {
      "cell_type": "markdown",
      "metadata": {
        "id": "3kxS1lEklhfV"
      },
      "source": [
        "## 3.3 Phyton Lambda\n",
        "\n",
        "La función Lambda de Python, tiene dos usos:\n",
        "\n",
        "1. Para crear una función con uno o varios argumentos y una **única sentencia** en su cuerpo de instrucciones.\n",
        "\n",
        "2. Para crear una función que genera funciones con una o más variables libres. En este caso **no se retorna un valor**, sino una expresión o función cuyos argumentos corresponden a los parámetros  libres.\n",
        "\n",
        "**Sintaxis**\n",
        "\n",
        "1. Para crear una función:\n",
        "\n",
        "`<nombre-funcion> = lambda <argumento1>, <argumento2>, ..., <argumenton> : <sentencia>`\n",
        "\n",
        "Para evaluar la función definida por lambda:\n",
        "\n",
        "`<nombre-funcion> (<argumento1>, <argumento2>, ..., <argumenton>)`\n",
        "\n",
        "2. Para crear una función que genera funciones:\n",
        "\n",
        "`def <nombre-funcion> (<argumento1>, <argumento2>, ..., <argumenton>)`\n",
        "      \n",
        "      `return lambda <v.libre 1>, <v.libre 2>, ..., <v.libre m> : <sentencia>`\n",
        "\n",
        "Para evaluar las funciones definidas por lambda:\n",
        "\n",
        "`<nombre-funcion> (<v.libre 1>, <v.libre 2>, ..., <v.libre m>)`\n",
        "\n",
        "en este caso retorna un valor.\n",
        "\n",
        "**Ejemplo 1**\n",
        "\n",
        "\n",
        "Crear una función con tres argumentos, que retorne la longitud de un vector $v=(a,b,c) $ con tres componentes.\n"
      ]
    },
    {
      "cell_type": "code",
      "metadata": {
        "id": "7IcRGa5aqhgq",
        "colab": {
          "base_uri": "https://localhost:8080/",
          "height": 34
        },
        "outputId": "b33b66d2-5781-4769-eb6b-51cedf79071e"
      },
      "source": [
        "x = lambda  a,b,c : (a**2+b**2+c**2)**(1/2)\n",
        "x(1,1,1)"
      ],
      "execution_count": null,
      "outputs": [
        {
          "output_type": "execute_result",
          "data": {
            "text/plain": [
              "1.7320508075688772"
            ]
          },
          "metadata": {
            "tags": []
          },
          "execution_count": 4
        }
      ]
    },
    {
      "cell_type": "markdown",
      "metadata": {
        "id": "7AhxnBZHSLpJ"
      },
      "source": [
        "**Ejemplo 2**\n",
        "\n",
        "Diseñar una función que genere  funciones afines (ecuaciones de rectas) que dependan de la pendiente $m$ y el corte $b$ con el eje Y. Luego use la función definida con el fin de evaluarla en distintos valores de su variable libre $x$."
      ]
    },
    {
      "cell_type": "code",
      "metadata": {
        "id": "dyezhAwhTJIi",
        "colab": {
          "base_uri": "https://localhost:8080/",
          "height": 50
        },
        "outputId": "6d9d5e68-fda0-4a17-a6d3-649110cf041e"
      },
      "source": [
        "def recta(m,b):\n",
        "   return lambda  x : m*x + b # x es el argumento propio y, m y b son los argumentos libres\n",
        "y1 = recta(2,3)\n",
        "y2 = recta(0.5,2)\n",
        "print(y1(-2/3) )# Valor de la ordenada Y para X=0 de una recta con pendiente 1 que pasa por el origen.\n",
        "print(y2(-2/3)) # Valor de la ordenada Y para X=1 de una recta con pendiente 1/2 que corta a Y en 2."
      ],
      "execution_count": null,
      "outputs": [
        {
          "output_type": "stream",
          "text": [
            "1.6666666666666667\n",
            "1.6666666666666667\n"
          ],
          "name": "stdout"
        }
      ]
    },
    {
      "cell_type": "markdown",
      "metadata": {
        "id": "8IKC2IA0XuHO"
      },
      "source": [
        "### 3.3.1 Uso de Lambda junto con los comandos  `filter`, `map` y `reduce`\n",
        "\n",
        "Podemos trabajar conjuntamente con la función lambda y listas, junto con las funciones `filter`, `map` y `reduce`, esto permite un diseño de códigos bastante versatil y compacto.\n",
        "\n",
        "* `filter` toma como argumentos,  una **condición** y una **lista**, y reporta una sublista con los elementos de la lista, que satisfacen la condición. La sintaxis es:\n",
        "     \n",
        "     `<nombre-lista> = list(filter(lambda <variable>: (<condicion>),<lista1>))`\n",
        "* `map ` toma como argumento una función que define `lambda` mediante una **expresión matemática**, y una **lista**, y retorna una nueva lista con las evaluaciones de la función sobre cada elemento de la lista dada. La sintaxis es:\n",
        "     \n",
        "     `<nombre-variable> = list(map(lambda <variable>: <expresión>,<lista1>))`\n",
        "* `reduce` toma como argumento una función  que define `lambda`  mediante una **expresión matemática**,  y una **lista**, y retorna un valor que se calcula sobre parejas consecutivas de elementos de la lista, tomadas de izquierda a derecha. En este caso debe usarse la librería `functools` e importar el comando `reduce`. La sintaxis es:\n",
        "\n",
        "     `from functools import reduce`\n",
        "     \n",
        "     `<nombre-lista> = reduce(lambda <variable>: <expresión>,<lista1>)`\n",
        "\n",
        "**Ejemplo 1**\n",
        "\n",
        "Determinar todos los números de una lista que son divisible por 2 o por 3.\n"
      ]
    },
    {
      "cell_type": "code",
      "metadata": {
        "id": "96t0cX3WasQ0",
        "colab": {
          "base_uri": "https://localhost:8080/",
          "height": 34
        },
        "outputId": "9544b857-7f25-441f-e251-2052a507560c"
      },
      "source": [
        "L = [1,2,23,24,16,32,1101]\n",
        "L23 = list(filter(lambda x : x%2 == 0 or x%3 == 0,L))\n",
        "print(L23)\n"
      ],
      "execution_count": null,
      "outputs": [
        {
          "output_type": "stream",
          "text": [
            "[2, 24, 16, 32, 1101]\n"
          ],
          "name": "stdout"
        }
      ]
    },
    {
      "cell_type": "markdown",
      "metadata": {
        "id": "B3tq4HAk-DEW"
      },
      "source": [
        "**Ejemplo 2**\n",
        "\n",
        "Evaluar la función lineal $f(x) = 2x^2-x+1$ para los valores $x= 0.0,0.2,0.4,0.6,0.8, 1.0$."
      ]
    },
    {
      "cell_type": "code",
      "metadata": {
        "id": "b9CZ0qM8XHVe",
        "colab": {
          "base_uri": "https://localhost:8080/",
          "height": 34
        },
        "outputId": "d5e96537-f222-4bb5-a012-b585132c6478"
      },
      "source": [
        "L =[0.0,0.2,0.4,0.6,0.8,1.0]\n",
        "def f(x):\n",
        "  return 2*x**2-x+1\n",
        "Resultados = list(map(f,L))\n",
        "print(Resultados)"
      ],
      "execution_count": null,
      "outputs": [
        {
          "output_type": "stream",
          "text": [
            "[1.0, 0.88, 0.92, 1.12, 1.4800000000000002, 2.0]\n"
          ],
          "name": "stdout"
        }
      ]
    },
    {
      "cell_type": "markdown",
      "metadata": {
        "id": "aHpIxirRAcEh"
      },
      "source": [
        "**Ejemplo 3**\n",
        "\n",
        "Calcular la suma de los valores en una lista. El cálculo de este proceso se realiza de manera iterativa; primero se toman los dos primeros elementos de la lista y se suman, este resultado se suma con el tercer elemento de la lista, luego este resultado se suma con el cuarto, y así sucesivamente hasta terminar los  elementos de la lista. Finalmente se retorna el aculado total."
      ]
    },
    {
      "cell_type": "code",
      "metadata": {
        "id": "OUpUoa0HFY2v",
        "colab": {
          "base_uri": "https://localhost:8080/",
          "height": 34
        },
        "outputId": "5fa96d1e-eeb2-477f-af7c-4f309b7e135d"
      },
      "source": [
        "from functools import reduce\n",
        "L = [1,2,3,4,5,6,]\n",
        "Suma = reduce(lambda x,y : x + y,L)\n",
        "print(f\"La suma de los elementos en la lista es = {Suma}\")"
      ],
      "execution_count": null,
      "outputs": [
        {
          "output_type": "stream",
          "text": [
            "La suma de los elementos en la lista es = 21\n"
          ],
          "name": "stdout"
        }
      ]
    },
    {
      "cell_type": "markdown",
      "metadata": {
        "id": "9FlSGU51Flrw"
      },
      "source": [
        "**Ejercicio 4**\n",
        "\n",
        "Determinar la interseción y la unión de los cojuntos presentes en una lista."
      ]
    },
    {
      "cell_type": "code",
      "metadata": {
        "id": "u2IYAC1sApth",
        "colab": {
          "base_uri": "https://localhost:8080/",
          "height": 50
        },
        "outputId": "173aea1b-593d-48e1-938f-2fd3cf68e6d9"
      },
      "source": [
        "from functools import reduce\n",
        "L = [ {1,2},{1,3},{2,4}]\n",
        "Union = reduce(lambda x,y : x | y,L)\n",
        "Interseccion = reduce(lambda x,y : x & y,L)\n",
        "print(f\"La unión de los elementos en la lista es = {Union}\")\n",
        "print(f\"La interseccion de los elementos en la lista es = {Interseccion}\")"
      ],
      "execution_count": null,
      "outputs": [
        {
          "output_type": "stream",
          "text": [
            "La unión de los elementos en la lista es = {1, 2, 3, 4}\n",
            "La interseccion de los elementos en la lista es = set()\n"
          ],
          "name": "stdout"
        }
      ]
    },
    {
      "cell_type": "markdown",
      "metadata": {
        "id": "9lHYjkQnk1-X"
      },
      "source": [
        "## 3.4 Variables Locales y Globales\n",
        "\n",
        "Cuando se crea una función en Phyton,  se separa simultaneamente un espacio de la memoria para la función; esta área es de uso restringido de la función. En este caso, las variables definidas sobre el cuerpo de instruciones de la función se denominan **variables locales**, y se dice que su **alcance** está restringido a la función.\n",
        "En algunos casos es útil definir una variable del programa principal como global para una función, en este caso dicha variable puede ser manipulada o cambiada por la función. Para que una variable en Phyton sea una variable global, es necesario que:\n",
        "\n",
        "* Esté declarada como variable global dentro del cuerpo de instrucciones de alguna función. En este caso, sólo las funciones que tienen la variable definida como global, podrán manipular dicha variable.\n",
        "\n",
        "**Ejemplo 1**\n",
        "\n",
        "El siguiente ejemplo muestra el uso de las variables locales y globales, y el alcance de cada una de ellas. Nótese que la variable $c$ es local para las funciones $f2$ y $f3$, pero global para $f1$."
      ]
    },
    {
      "cell_type": "code",
      "metadata": {
        "id": "EUIOmYnIk19n",
        "colab": {
          "base_uri": "https://localhost:8080/",
          "height": 286
        },
        "outputId": "f5eb59df-0a03-41cc-93c5-3c42f60d077d"
      },
      "source": [
        "# variables locales y globales\n",
        "def f1():\n",
        "      global c\n",
        "      c = 13\n",
        "      return(c)\n",
        "def f2():\n",
        "      \n",
        "      c = 12\n",
        "      return(c)\n",
        "def f3():\n",
        "      global c\n",
        "      return(c)\n",
        "# FIN DE LA FUNCIONES      \n",
        "# Intrucciones y variables externas a las funciones f1, f2 y f3.    \n",
        "\n",
        "\n",
        "c =8      \n",
        "print (\"\\n Valor de la variable local c de la función f1 = \", f1())\n",
        "print (\"\\n Valor de la variable local c de la función f2 = \", f2())\n",
        "print (\"\\n Valor de la variable local c de la función f3 = \", f3())    \n",
        "print (\"\\n Valor de la variable exterior c = \", c)\n",
        "## Ahora active las lineas precedidas con # en el código .... Verifique que sucede!!!!!\n",
        "c = 10\n",
        "print (\"\\n Valor de la variable local c de la función f1 = \", f1())\n",
        "print (\"\\n Valor de la variable local c de la función f2 = \", f2())\n",
        "print (\"\\n Valor de la variable local c de la función f3 = \", f3())    \n",
        "print (\"\\n Valor de la variable exterior c = \", c)"
      ],
      "execution_count": null,
      "outputs": [
        {
          "output_type": "stream",
          "text": [
            "\n",
            " Valor de la variable local c de la función f1 =  13\n",
            "\n",
            " Valor de la variable local c de la función f2 =  12\n",
            "\n",
            " Valor de la variable local c de la función f3 =  13\n",
            "\n",
            " Valor de la variable exterior c =  13\n",
            "\n",
            " Valor de la variable local c de la función f1 =  13\n",
            "\n",
            " Valor de la variable local c de la función f2 =  12\n",
            "\n",
            " Valor de la variable local c de la función f3 =  13\n",
            "\n",
            " Valor de la variable exterior c =  13\n"
          ],
          "name": "stdout"
        }
      ]
    },
    {
      "cell_type": "markdown",
      "metadata": {
        "id": "lq20WpOzsZ8z"
      },
      "source": [
        "## 3.4 Ejercicios de Repaso\n",
        "\n",
        "1. Diseñe una función que permita calcular la combinatoria \n",
        "$C(n,k)=\\frac{n!}{k!(n-k)!}$. Entre otras aplicaciones este valor cuenta el número de subconjuntos con $k$ elementos que se puede construir a partir de un conjunto con $n$ elementos, obviamente aplica, si $k \\leq n$.\n",
        "\n",
        "2. Diseñe un programa que use una función con dos argumentos $x$ y $y$ de tipo tupla de igual longitud y que permita calcular el producto punto de los vectores, es decir, si $x=(x_1,x_2,\\ldots,x_n)$ y $y=(y_1,y_2,\\ldots,y_n)$, entonces el producto punto de las tuplas es el valor\n",
        "$$ProdPunto(x,y)= \\sum_{i=1}^{n}x_iy_i.$$\n",
        "\n",
        "3. Para este ejercicio, tome de referencia el ejemplo 2 de la sección 3.2. Cree una pequeña base de datos con por lo menos cuatro alumnos, es decir, cree por lo menos cuatro diccionarios con la información de los alumnos. Diseñe una función que le permita a un usuario imprimir los alumnos que satisfacen una o varias claves. Por ejemplo, aquellos que estudian \"Ciencias de la Computación\" y están en \"4\" semestre, o que están en \"9\" semestre y tienen \"20 años\". Si puede diseñar una función más sofisticada intentelo, por ejemplo, diseñe una que permita escoger estudiantes en cierto intervalo de semestres y con cierto intervalo de años.\n",
        "\n",
        "4. Resuelva el problema de las torres de Hanoi descrito en la sección 1, usando funciones recursivas. Trate de que su solución sea lo más general posible, es decir, permita que el usuario pueda trabajar con el número de discos que  desee.\n",
        "\n",
        "5. Haga uso de la función lambda para diseñar un código que retorne expresiones de la forma $f(x,y) = ax +by +c$ donde $a$, $b$ y $c$ son constantes. Luego use su código para calcular $f(1,-1)$ y $f(1,2)$.\n",
        "\n",
        "6. Use la función lambda para diseñar un código que determine que palabras de una lista tienen longitud mayor a 4.\n",
        "\n",
        "7. Use la función lambda para diseñar un código que determine de una lista de números cuales de ellos no son divisibles por 5 o por 7. Diseñe otro código que permita determinar cuales no son múltiplos de 5 y 7, simultaneamente.\n",
        "\n",
        "8. Use la función lambda para diseñar un código que permita calcular el producto de los números en una lista y el promedio de los valores en dicha lista.\n",
        "\n",
        "9. Diseñe una función denominada `incremento(n)` que modifique  el valor de una variable $a$ externa a la función, por un valor igual a $n$.\n",
        "\n",
        "10. Diseñe una función llamada Goldbach(n) que permita verificar la conjetura de Goldbach ( https://es.wikipedia.org/wiki/Conjetura_de_Goldbach) para $n=1020302$."
      ]
    },
    {
      "cell_type": "markdown",
      "metadata": {
        "id": "XG2CczT0zI0I"
      },
      "source": [
        "## 3.5 Anexo I: Practicando funciones con  Processing y Turtle\n",
        "\n",
        "Processing es un paquete de código abierto, que permite el diseño y procesamiento de gráficos, imágenes y videos. Haremos una introducción muy básica a este paquete. \n",
        "En esta sección, presentaremos algunos códigos en Processing, sin embargo aclaramos, que estos códigos NO pueden ejecutarse en el ambiente de las presentes Notas de Clase, debe descargarse la versión 3.5.4 (la versión 4.0 beta 6 a la fecha no trabaja en Python; sólo trabaja en Java) de la pagina https://processing.org/download,  para poder ejecutar los códigos que presentamos. Processing puede trabajarse en Python o Java, en esta sección haremos uso de la versión en Python.\n",
        "\n",
        "### 3.5.1 Introducción\n",
        "\n",
        "Todo programa en Processing comienza con la definición de la función setup(). La primera instrucción de esta función es `size()`, con esta función podemos  diseñar una ventana de trabajo. Para indicar las dimensiones de la ventana, usamos la sintaxis `size(m,n)`, donde `m` y `n` corresponden al número de pixeles que tendrá el ancho y alto de la ventana, respectivamente. \n",
        "\n",
        "**Nota** Un pixel corresponde a la unidad mínima de \"color homogeneo\" que conforma una imagen digital. Si se coloca una gota de agua sobre la pantalla de un computador, esta gota acturá como una lupa y podrán distinguirse los pixeles que conforman la pantalla.\n",
        "\n",
        "**Ejemplo 1**\n",
        "\n",
        "Diseñe una ventana de 500 pixeles de ancho por 250 pixeles de alto.\n"
      ]
    },
    {
      "cell_type": "code",
      "metadata": {
        "id": "T116YpDLJ_La"
      },
      "source": [
        "# NO EJECUTAR EL PROGRAMA SOBRE ESTA PLATAFORMA, HACERLO SOBRE PROCESSING !!!!!!\n",
        "def setup():\n",
        "    size(500,250)"
      ],
      "execution_count": null,
      "outputs": []
    },
    {
      "cell_type": "markdown",
      "metadata": {
        "id": "OMHoqC0VuIPd"
      },
      "source": [
        "**Puntos, Segmentos, Rectángulos y Elipses**\n",
        "\n",
        "Para pintar puntos, segmentos, rectángulos y elipses, usamos los siguientes comandos:\n",
        "*  `point(x,y)` permite pintar un punto sobre la ventana, siendo $x$ y $y$ sus  coordenadas.\n",
        "*  `line(x,y,z,w)` permite pintar un segmento de recta, siendo $A(x,y)$ y $B(w,z)$ las coordenadas de los extremos del segmento.\n",
        "* `rect(x,y,a,h)` permite pintar un rectángulo, siendo $A(x,y)$ las coordendadas del vértices superior izquierdo, $a$ el ancho y $h$ la altura.\n",
        "* `ellipse(x,y,a,h)` permite pintar una elipse, siendo $C(x,y)$ las coordendadas del centro de la elipse, $l$ el ancho y $h$ la altura.\n",
        "\n",
        "**Ejemplo 2**\n",
        "Sobre una ventana de 500x500, pintar :\n",
        "* un punto de coordenadas $A(250,250)$.\n",
        "* un segmento que pase por los puntos de coordenadas $A(100,0)$ y  $B(250,150) $.\n",
        "* un rectángulo con vértice superior izquierdo en el punto $A(300,50)$ de ancho y altura 100.\n",
        "* una elipse con centro en $C(300,50)$ ancho 100 y altura 200.\n"
      ]
    },
    {
      "cell_type": "code",
      "metadata": {
        "id": "4zYvqnouv3ON"
      },
      "source": [
        "# NO EJECUTAR EL PROGRAMA SOBRE ESTA PLATAFORMA, HACERLO SOBRE PROCESSING !!!!!!\n",
        "def setup():\n",
        "  size(500,500)\n",
        "  line(100,0,250,150)\n",
        "  point(250,250)\n",
        "  rect(300,50,100,100)\n",
        "  ellipse(100,300,100,200)\n",
        "    "
      ],
      "execution_count": null,
      "outputs": []
    },
    {
      "cell_type": "markdown",
      "metadata": {
        "id": "x-XxS1d9EvMp"
      },
      "source": [
        "**Ejemplo 3**\n",
        "\n",
        "Pinte una serie de segmentos de recta con extremos sobre los puntos de coordenadas $A(500-i,0)$ $B(0,i)$ y , para $i=0,10,20\\ldots,500$. "
      ]
    },
    {
      "cell_type": "code",
      "metadata": {
        "id": "LrvoV0TqGI-K"
      },
      "source": [
        "# NO EJECUTAR EL PROGRAMA SOBRE ESTA PLATAFORMA, HACERLO SOBRE PROCESSING !!!!!!\n",
        "def setup():\n",
        "    size(500,500)    \n",
        "    for i in range(0,510,10):\n",
        "        line(500-i,0,0,i)"
      ],
      "execution_count": null,
      "outputs": []
    },
    {
      "cell_type": "markdown",
      "metadata": {
        "id": "qJXDg2ECLrhO"
      },
      "source": [
        "### 3.5.2 Configuración de Ventanas\n",
        "\n",
        "En la introducción vimos que el comando `size()`, permite mostrar y definir el tamaño de una ventana, además `size()` debe ser la primera instrucción de la función `setup()`. \n",
        "\n",
        "*  `background(v1,v2,v3)` permite escoger el color del fondo de la ventana.  v1,v2 y v3 son valores numéricos enteros entre 0 y 255, y corresponden a tonalidades de los colores básicos: **rojo, verde y azul**, respectivamente. Se usa como intrucción de las funciones `setup()` y `draw()`. Este comando también puede trabajarse para que reporte tonalidades de grises, en este caso el argumento es un único valor, siendo el valor 0 el correspondiente a negro y el valor 255 a blanco.\n",
        "\n",
        "* `stroke(v1,v2,v3)` permite determinar el color de los bordes de una figura.\n",
        "\n",
        "* `strokeWeight(<valor>) ` permite pintar los bordes de una figura con mayor espesor. El espesor está dado por `<valor>` en pixeles.\n",
        " \n",
        "**Nota** Por defecto el color de toda ventana es gris claro.\n",
        "\n",
        "**Ejemplo 1**\n",
        "\n",
        "Diseñe el color de fondo de una ventana, con una combinación de tonalidades de orden 200, 100 y 50, para  los colores  rojo, verde y azul, respectivamente.\n"
      ]
    },
    {
      "cell_type": "code",
      "metadata": {
        "id": "7zk2dklWU3zO"
      },
      "source": [
        "# NO EJECUTAR EL PROGRAMA SOBRE ESTA PLATAFORMA, HACERLO SOBRE PROCESSING !!!!!!\n",
        "def setup():\n",
        "       size(400, 400)     \n",
        "       background(200, 100, 50)"
      ],
      "execution_count": null,
      "outputs": []
    },
    {
      "cell_type": "markdown",
      "metadata": {
        "id": "-HWQ_pf4khJc"
      },
      "source": [
        "**Ejemplo 2**\n",
        "\n",
        "Pinte el borde de un rectángulo de rojo, el de una elipse verde y un punto azul."
      ]
    },
    {
      "cell_type": "code",
      "metadata": {
        "id": "5oxFSo5Ykuk7"
      },
      "source": [
        "# NO CORRER EL PROGRAMA SOBRE ESTA PLATAFORMA, HACERLO SOBRE PROCESSING !!!!!!\n",
        "def setup():\n",
        "    size(500,500)    \n",
        "    stroke(255,0,0)\n",
        "    rect(200,200,100,100)\n",
        "    stroke(0,255,0)\n",
        "    ellipse(250,250,80,40)\n",
        "    stroke(0,0,255)        \n",
        "    point(250,250)    "
      ],
      "execution_count": null,
      "outputs": []
    },
    {
      "cell_type": "markdown",
      "metadata": {
        "id": "_g4OIMu7dD-D"
      },
      "source": [
        "## 3.5.3 Imágenes Dinámicas\n",
        "\n",
        "Processing tiene una gran variedad de funciones y comandos que permiten mostrar imágenes de manera dinámica. A continuación describiremos sólo unas pocas herramientas, para mayor información consultar un libro de referencia en Processing.\n",
        "\n",
        "* `draw()` esta función se  ejecuta de manera ciclica después del `setup()`, con el fin de detener el proceso cíclico se puede usar el comando  `noloop()` o los comandos `mouseX` y `mouseY`.\n",
        "\n",
        "* `noloop()` detiene los ciclos de la función `draw()`.\n",
        "\n",
        "* `loop()` activa la función `draw()`, si ésta ha sido desactivada.\n",
        "\n",
        "* `mouseX` y `mouseY` retornan un valor entero correspondiente a las posiciones horizontal y vertical del mouse, dentro de la ventana de trabajo.\n",
        "\n",
        "* `millis()` retorna el tiempo en milisegundos  desde que inicia un código en `Processing`. En algunos algoritmos dinámicos puede incluirse esta función con el fin de retrasar el proceso, de esta manera un gráfico iterativo adquiere un aspecto dinámico o de movimiento.\n",
        "* `delay(<valor>)` permite detener un proceso un tiempo determinado por `<valor>` medido en milisegundos. Puede usarse para dar a los gráficos secuenciales un aspecto dinámico.\n",
        "\n",
        "**Ejemplo 1**\n",
        "\n",
        "Pintar una ellipse de centro en $(200,200)$ y ancho y largo determinado por la posición del mouse. No se anexa imagen."
      ]
    },
    {
      "cell_type": "code",
      "metadata": {
        "id": "5vXN0NmVdD92"
      },
      "source": [
        "# NO CORRER EL PROGRAMA SOBRE ESTA PLATAFORMA, HACERLO SOBRE PROCESSING !!!!!!\n",
        "def setup():\n",
        "    size(400,400)\n",
        "def draw():\n",
        "    background(200, 100, 50)\n",
        "    ellipse(200,200,mouseX,mouseY)  "
      ],
      "execution_count": null,
      "outputs": []
    },
    {
      "cell_type": "markdown",
      "metadata": {
        "id": "RQdkzUyWdD9x"
      },
      "source": [
        "Responda las siguientes preguntas respecto al ejemplo anterior.\n",
        "\n",
        "Qué sucede, si:\n",
        "* Deja el mouse por fuera del recuadro de 400x400. Explique su respuesta. \n",
        "* Mueva el mouse sobre la recta Y = X. Qué se obtiene?\n",
        "* Cambia la instrucción `background(200, 100, 50)` de posición y la deja como instrucción de la función `setup()`.\n",
        "\n",
        "**Ejemplo 2**\n",
        "\n",
        "En el siguiente programa se pinta sobre una ventana de 400x400 puntos de color rojo de manera aleatoria. En este caso se puede ver el proceso debido a que la función `millis()`  retraza un poco el proceso.\n"
      ]
    },
    {
      "cell_type": "code",
      "metadata": {
        "id": "Hu1nFBXNdD9k"
      },
      "source": [
        "# NO EJECUTE EL PROGRAMA SOBRE ESTA PLATAFORMA, HACERLO SOBRE PROCESSING !!!!!!\n",
        "contador = 1 # Variable global cambia de valores según la función PuntosRandom()\n",
        "def setup():\n",
        "    size(400, 400)\n",
        "    background(255) # Blanco para el fondo de la ventana\n",
        "def draw():\n",
        "    PuntosRandom()  \n",
        " \n",
        "def PuntosRandom():\n",
        "        global contador #Para que la función PuntosRandom pueda trabajar con la \n",
        "                        #variable contador es necesario indicar que la variable\n",
        "                        #es global\n",
        "        stroke(255,0,0) #Permite pintar los puntos con color rojo\n",
        "        if contador  <= 1000:            \n",
        "             X=random(20,380)\n",
        "             Y=random(20,380)\n",
        "             temporizador=millis()\n",
        "             point(X, Y)\n",
        "             contador +=1\n",
        "        else:\n",
        "             print(\"Proceso Terminado...\\n\");\n",
        "             noLoop();              "
      ],
      "execution_count": null,
      "outputs": []
    },
    {
      "cell_type": "markdown",
      "metadata": {
        "id": "B6A1tLWtdD9g"
      },
      "source": [
        "![texto alternativo](https://drive.google.com/uc?id=1WRkUygVqVMumipSr12q7i6rlHs12D6Gt)"
      ]
    },
    {
      "cell_type": "markdown",
      "metadata": {
        "id": "NEl-bR7idD9d"
      },
      "source": [
        "**Ejemplo 3**\n",
        "\n",
        "Pintar puntos de distintos colores de manera aleatoria sobre una ventana de 500x500."
      ]
    },
    {
      "cell_type": "code",
      "metadata": {
        "id": "D5mzRPKedD9P"
      },
      "source": [
        "# NO EJECUTADOR EL PROGRAMA SOBRE ESTA PLATAFORMA, HACERLO SOBRE PROCESSING !!!!!!\n",
        "contador = 1 # Funciona como variable global\n",
        "def setup():\n",
        "    size(400, 400)\n",
        "    background(255) # Blanco para el fondo de la ventana\n",
        "def draw():\n",
        "    PuntosRandom()  \n",
        " \n",
        "def PuntosRandom():\n",
        "        global contador #Para que la función PuntosRandom pueda trabajar con la \n",
        "                        #variable contador es necesario indicar que la variable\n",
        "                        #es global\n",
        "        strokeWeight(10) #aumenta el diametro del punto pintado en 10 pixels\n",
        "        if contador  <= 1000:\n",
        "             Rojo = random(0,255)  # Se elijen los colores rojo, verde y azul de manera aleatoria.\n",
        "             Verde = random(0,255) \n",
        "             Azul = random(0,255)\n",
        "             stroke(Rojo,Verde,Azul)            \n",
        "             X=random(20,380)\n",
        "             Y=random(20,380)\n",
        "             temporizador=millis()\n",
        "             point(X, Y)\n",
        "             contador +=1\n",
        "        else:\n",
        "             print(\"Proceso Terminado...\\n\");\n",
        "             noLoop();       "
      ],
      "execution_count": null,
      "outputs": []
    },
    {
      "cell_type": "markdown",
      "metadata": {
        "id": "nTbVjeNUY-3C"
      },
      "source": [
        "![texto alternativo](https://drive.google.com/uc?id=15nIL8Bj-oJzscdz7xm3J_Hg4mktlUfBk)"
      ]
    },
    {
      "cell_type": "markdown",
      "metadata": {
        "id": "GApKIyf3dD9E"
      },
      "source": [
        "**Ejemplo 4**\n",
        "\n",
        "Realizamos el Ejemplo 3 de la secciòn 3.5.1 en forma dinàmica. En este caso retrazamos el proceso usando el comando `millis().\n"
      ]
    },
    {
      "cell_type": "code",
      "metadata": {
        "id": "qg9XzY6qdD8x"
      },
      "source": [
        "# NO EJECUTAR EL PROGRAMA SOBRE ESTA PLATAFORMA, HACERLO SOBRE PROCESSING !!!!!!\n",
        "i = 0\n",
        "def setup():\n",
        "    size(500, 500)\n",
        "    background(255) # Blanco para el fondo de la ventana\n",
        "def draw():\n",
        "    Segmentos()  \n",
        " \n",
        "def Segmentos():\n",
        "        global i #contador global;\n",
        "        stroke(255,0,0)\n",
        "        if i  <= 500:\n",
        "             temporizador=millis()            \n",
        "             line(500-i,0,0,i)\n",
        "             temporizador=millis()\n",
        "             i +=10\n",
        "        else:\n",
        "             print(\"Proceso Terminado...\\n\");\n",
        "             noLoop();"
      ],
      "execution_count": null,
      "outputs": []
    },
    {
      "cell_type": "markdown",
      "metadata": {
        "id": "NCZRO2d2dD8r"
      },
      "source": [
        "**Ejemplo 5**\n",
        "\n",
        "Use la función `delay(<valor>)`, para darle aspecto un aspecto dinámico al Ejemplo 3 de la sección 3.5.1."
      ]
    },
    {
      "cell_type": "code",
      "metadata": {
        "id": "nHIQWpeAdD8I"
      },
      "source": [
        "i = 0\n",
        "def setup():\n",
        "    size(500, 500)\n",
        "    background(255) # Blanco para el fondo de la ventana\n",
        "def draw():\n",
        "    Segmentos()  \n",
        " \n",
        "def Segmentos():\n",
        "        global i #contador globa;\n",
        "        stroke(255,0,0)\n",
        "        if i  <= 500:\n",
        "             delay(200)            \n",
        "             line(500-i,0,0,i)\n",
        "             i +=10\n",
        "        else:\n",
        "             print(\"Proceso Terminado...\\n\");\n",
        "             noLoop();"
      ],
      "execution_count": null,
      "outputs": []
    },
    {
      "cell_type": "markdown",
      "metadata": {
        "id": "Ol1mbpwntZkP"
      },
      "source": [
        "**Nota importante**\n",
        "\n",
        "1. En Processing debe tenerse en cuenta que, si dos \n",
        "variables son definidas como de tipo `int`, su conciente también será de tipo `int` y en este caso el resultado corresponde a la parte entera del conciente. Por ejemplo, si $a = 7$ y $b = 2$, $a/b = 3$. En algunos compiladores de Python, el conciente de dos enteros se promueve automaticamente a tipo `float` y  en este caso $a/b = 3.5$.\n",
        "\n",
        "2. Para hacer gráficos también puede usarse el módulo Tortule como se muestra en el ejemplo siguiente."
      ]
    },
    {
      "cell_type": "code",
      "source": [
        "!pip3 install ColabTurtle"
      ],
      "metadata": {
        "colab": {
          "base_uri": "https://localhost:8080/"
        },
        "id": "mgGfFPk8wv3m",
        "outputId": "caed590f-69ab-4952-aa22-849f154b0bd9"
      },
      "execution_count": null,
      "outputs": [
        {
          "output_type": "stream",
          "name": "stdout",
          "text": [
            "Collecting ColabTurtle\n",
            "  Downloading ColabTurtle-2.1.0.tar.gz (6.8 kB)\n",
            "Building wheels for collected packages: ColabTurtle\n",
            "  Building wheel for ColabTurtle (setup.py) ... \u001b[?25l\u001b[?25hdone\n",
            "  Created wheel for ColabTurtle: filename=ColabTurtle-2.1.0-py3-none-any.whl size=7657 sha256=6b04b8f0d5743f7194955030f6cfbf369e9ed8f3a978f6fd9ec62dc81eb10eaa\n",
            "  Stored in directory: /root/.cache/pip/wheels/0d/ab/65/cc4478508751448dfb4ecb20a6533082855c227dfce8c13902\n",
            "Successfully built ColabTurtle\n",
            "Installing collected packages: ColabTurtle\n",
            "Successfully installed ColabTurtle-2.1.0\n"
          ]
        }
      ]
    },
    {
      "cell_type": "code",
      "source": [
        "import ColabTurtle.Turtle as Tur\n",
        "Tur.initializeTurtle(initial_speed=5) \n",
        "Tur.color('blue')\n",
        "Tur.forward(100)\n",
        "Tur.right(45)\n",
        "Tur.color('red')\n",
        "Tur.forward(50)"
      ],
      "metadata": {
        "colab": {
          "base_uri": "https://localhost:8080/",
          "height": 521
        },
        "id": "Wewo-igGwfZt",
        "outputId": "09d9c642-2b1c-40ee-d2dc-202be2cbc386"
      },
      "execution_count": null,
      "outputs": [
        {
          "output_type": "display_data",
          "data": {
            "text/html": [
              "\n",
              "      <svg width=\"800\" height=\"500\">\n",
              "        <rect width=\"100%\" height=\"100%\" fill=\"black\"/>\n",
              "        <line x1=\"400\" y1=\"250\" x2=\"400.0\" y2=\"150.0\" stroke-linecap=\"round\" style=\"stroke:blue;stroke-width:4\"/><line x1=\"400.0\" y1=\"150.0\" x2=\"435.355\" y2=\"114.645\" stroke-linecap=\"round\" style=\"stroke:red;stroke-width:4\"/>\n",
              "        <g visibility=visible transform=\"rotate(405,435.355,114.645) translate(417.355, 96.645)\">\n",
              "<path style=\" stroke:none;fill-rule:evenodd;fill:red;fill-opacity:1;\" d=\"M 18.214844 0.632812 C 16.109375 1.800781 15.011719 4.074219 15.074219 7.132812 L 15.085938 7.652344 L 14.785156 7.496094 C 13.476562 6.824219 11.957031 6.671875 10.40625 7.066406 C 8.46875 7.550781 6.515625 9.15625 4.394531 11.992188 C 3.0625 13.777344 2.679688 14.636719 3.042969 15.027344 L 3.15625 15.152344 L 3.519531 15.152344 C 4.238281 15.152344 4.828125 14.886719 8.1875 13.039062 C 9.386719 12.378906 10.371094 11.839844 10.378906 11.839844 C 10.386719 11.839844 10.355469 11.929688 10.304688 12.035156 C 9.832031 13.09375 9.257812 14.820312 8.96875 16.078125 C 7.914062 20.652344 8.617188 24.53125 11.070312 27.660156 C 11.351562 28.015625 11.363281 27.914062 10.972656 28.382812 C 8.925781 30.84375 7.945312 33.28125 8.238281 35.1875 C 8.289062 35.527344 8.28125 35.523438 8.917969 35.523438 C 10.941406 35.523438 13.074219 34.207031 15.136719 31.6875 C 15.359375 31.417969 15.328125 31.425781 15.5625 31.574219 C 16.292969 32.042969 18.023438 32.964844 18.175781 32.964844 C 18.335938 32.964844 19.941406 32.210938 20.828125 31.71875 C 20.996094 31.625 21.136719 31.554688 21.136719 31.558594 C 21.203125 31.664062 21.898438 32.414062 22.222656 32.730469 C 23.835938 34.300781 25.5625 35.132812 27.582031 35.300781 C 27.90625 35.328125 27.9375 35.308594 28.007812 34.984375 C 28.382812 33.242188 27.625 30.925781 25.863281 28.425781 L 25.542969 27.96875 L 25.699219 27.785156 C 28.945312 23.960938 29.132812 18.699219 26.257812 11.96875 L 26.207031 11.84375 L 27.945312 12.703125 C 31.53125 14.476562 32.316406 14.800781 33.03125 14.800781 C 33.976562 14.800781 33.78125 13.9375 32.472656 12.292969 C 28.519531 7.355469 25.394531 5.925781 21.921875 7.472656 L 21.558594 7.636719 L 21.578125 7.542969 C 21.699219 6.992188 21.761719 5.742188 21.699219 5.164062 C 21.496094 3.296875 20.664062 1.964844 19.003906 0.855469 C 18.480469 0.503906 18.457031 0.5 18.214844 0.632812\"/>\n",
              "</g>\n",
              "      </svg>\n",
              "    "
            ],
            "text/plain": [
              "<IPython.core.display.HTML object>"
            ]
          },
          "metadata": {}
        }
      ]
    },
    {
      "cell_type": "markdown",
      "source": [
        "Un segundo ejemplo del módulo Turtle lo mostramos a continuación."
      ],
      "metadata": {
        "id": "QHgLXCByxzyT"
      }
    },
    {
      "cell_type": "code",
      "source": [
        "\n",
        "def Recursivo_Koch(length, depth):\n",
        "    if depth == 0:\n",
        "        Tur.forward(length)\n",
        "    else:\n",
        "        Recursivo_Koch(length, depth-1)\n",
        "        right(60)\n",
        "        Recursivo_Koch(length, depth-1)\n",
        "        left(120)\n",
        "        #Recursive_Koch(length, depth-1)\n",
        "        Recursivo_Koch(length, depth-1)\n",
        "        right(60)\n",
        "        Recursivo_Koch(length, depth-1)\n",
        "        \n",
        "# ----------\n",
        "Tur.initializeTurtle(initial_speed=5) # Permite inicializar con los valores de Turtle por defecto\n",
        "Tur.backward(200)\n",
        "Recursivo_Koch(2, 4)"
      ],
      "metadata": {
        "colab": {
          "base_uri": "https://localhost:8080/",
          "height": 521
        },
        "id": "wQCf1yrXyBBQ",
        "outputId": "e55588ea-a384-4366-d878-60b388e6be45"
      },
      "execution_count": null,
      "outputs": [
        {
          "output_type": "display_data",
          "data": {
            "text/html": [
              "\n",
              "      <svg width=\"800\" height=\"500\">\n",
              "        <rect width=\"100%\" height=\"100%\" fill=\"black\"/>\n",
              "        <line x1=\"400\" y1=\"250\" x2=\"400.0\" y2=\"450.0\" stroke-linecap=\"round\" style=\"stroke:white;stroke-width:4\"/><line x1=\"400.0\" y1=\"450.0\" x2=\"400.0\" y2=\"448.0\" stroke-linecap=\"round\" style=\"stroke:white;stroke-width:4\"/><line x1=\"400.0\" y1=\"448.0\" x2=\"401.732\" y2=\"447.0\" stroke-linecap=\"round\" style=\"stroke:white;stroke-width:4\"/><line x1=\"401.732\" y1=\"447.0\" x2=\"400.0\" y2=\"446.0\" stroke-linecap=\"round\" style=\"stroke:white;stroke-width:4\"/><line x1=\"400.0\" y1=\"446.0\" x2=\"400.0\" y2=\"444.0\" stroke-linecap=\"round\" style=\"stroke:white;stroke-width:4\"/><line x1=\"400.0\" y1=\"444.0\" x2=\"401.732\" y2=\"443.0\" stroke-linecap=\"round\" style=\"stroke:white;stroke-width:4\"/><line x1=\"401.732\" y1=\"443.0\" x2=\"403.464\" y2=\"444.0\" stroke-linecap=\"round\" style=\"stroke:white;stroke-width:4\"/><line x1=\"403.464\" y1=\"444.0\" x2=\"403.464\" y2=\"442.0\" stroke-linecap=\"round\" style=\"stroke:white;stroke-width:4\"/><line x1=\"403.464\" y1=\"442.0\" x2=\"405.196\" y2=\"441.0\" stroke-linecap=\"round\" style=\"stroke:white;stroke-width:4\"/><line x1=\"405.196\" y1=\"441.0\" x2=\"403.464\" y2=\"440.0\" stroke-linecap=\"round\" style=\"stroke:white;stroke-width:4\"/><line x1=\"403.464\" y1=\"440.0\" x2=\"403.464\" y2=\"438.0\" stroke-linecap=\"round\" style=\"stroke:white;stroke-width:4\"/><line x1=\"403.464\" y1=\"438.0\" x2=\"401.732\" y2=\"439.0\" stroke-linecap=\"round\" style=\"stroke:white;stroke-width:4\"/><line x1=\"401.732\" y1=\"439.0\" x2=\"400.0\" y2=\"438.0\" stroke-linecap=\"round\" style=\"stroke:white;stroke-width:4\"/><line x1=\"400.0\" y1=\"438.0\" x2=\"400.0\" y2=\"436.0\" stroke-linecap=\"round\" style=\"stroke:white;stroke-width:4\"/><line x1=\"400.0\" y1=\"436.0\" x2=\"401.732\" y2=\"435.0\" stroke-linecap=\"round\" style=\"stroke:white;stroke-width:4\"/><line x1=\"401.732\" y1=\"435.0\" x2=\"400.0\" y2=\"434.0\" stroke-linecap=\"round\" style=\"stroke:white;stroke-width:4\"/><line x1=\"400.0\" y1=\"434.0\" x2=\"400.0\" y2=\"432.0\" stroke-linecap=\"round\" style=\"stroke:white;stroke-width:4\"/><line x1=\"400.0\" y1=\"432.0\" x2=\"401.732\" y2=\"431.0\" stroke-linecap=\"round\" style=\"stroke:white;stroke-width:4\"/><line x1=\"401.732\" y1=\"431.0\" x2=\"403.464\" y2=\"432.0\" stroke-linecap=\"round\" style=\"stroke:white;stroke-width:4\"/><line x1=\"403.464\" y1=\"432.0\" x2=\"403.464\" y2=\"430.0\" stroke-linecap=\"round\" style=\"stroke:white;stroke-width:4\"/><line x1=\"403.464\" y1=\"430.0\" x2=\"405.196\" y2=\"429.0\" stroke-linecap=\"round\" style=\"stroke:white;stroke-width:4\"/><line x1=\"405.196\" y1=\"429.0\" x2=\"406.928\" y2=\"430.0\" stroke-linecap=\"round\" style=\"stroke:white;stroke-width:4\"/><line x1=\"406.928\" y1=\"430.0\" x2=\"406.928\" y2=\"432.0\" stroke-linecap=\"round\" style=\"stroke:white;stroke-width:4\"/><line x1=\"406.928\" y1=\"432.0\" x2=\"408.66\" y2=\"431.0\" stroke-linecap=\"round\" style=\"stroke:white;stroke-width:4\"/><line x1=\"408.66\" y1=\"431.0\" x2=\"410.392\" y2=\"432.0\" stroke-linecap=\"round\" style=\"stroke:white;stroke-width:4\"/><line x1=\"410.392\" y1=\"432.0\" x2=\"410.392\" y2=\"430.0\" stroke-linecap=\"round\" style=\"stroke:white;stroke-width:4\"/><line x1=\"410.392\" y1=\"430.0\" x2=\"412.124\" y2=\"429.0\" stroke-linecap=\"round\" style=\"stroke:white;stroke-width:4\"/><line x1=\"412.124\" y1=\"429.0\" x2=\"410.392\" y2=\"428.0\" stroke-linecap=\"round\" style=\"stroke:white;stroke-width:4\"/><line x1=\"410.392\" y1=\"428.0\" x2=\"410.392\" y2=\"426.0\" stroke-linecap=\"round\" style=\"stroke:white;stroke-width:4\"/><line x1=\"410.392\" y1=\"426.0\" x2=\"412.124\" y2=\"425.0\" stroke-linecap=\"round\" style=\"stroke:white;stroke-width:4\"/><line x1=\"412.124\" y1=\"425.0\" x2=\"413.856\" y2=\"426.0\" stroke-linecap=\"round\" style=\"stroke:white;stroke-width:4\"/><line x1=\"413.856\" y1=\"426.0\" x2=\"413.856\" y2=\"424.0\" stroke-linecap=\"round\" style=\"stroke:white;stroke-width:4\"/><line x1=\"413.856\" y1=\"424.0\" x2=\"415.588\" y2=\"423.0\" stroke-linecap=\"round\" style=\"stroke:white;stroke-width:4\"/><line x1=\"415.588\" y1=\"423.0\" x2=\"413.856\" y2=\"422.0\" stroke-linecap=\"round\" style=\"stroke:white;stroke-width:4\"/><line x1=\"413.856\" y1=\"422.0\" x2=\"413.856\" y2=\"420.0\" stroke-linecap=\"round\" style=\"stroke:white;stroke-width:4\"/><line x1=\"413.856\" y1=\"420.0\" x2=\"412.124\" y2=\"421.0\" stroke-linecap=\"round\" style=\"stroke:white;stroke-width:4\"/><line x1=\"412.124\" y1=\"421.0\" x2=\"410.392\" y2=\"420.0\" stroke-linecap=\"round\" style=\"stroke:white;stroke-width:4\"/><line x1=\"410.392\" y1=\"420.0\" x2=\"410.392\" y2=\"418.0\" stroke-linecap=\"round\" style=\"stroke:white;stroke-width:4\"/><line x1=\"410.392\" y1=\"418.0\" x2=\"412.124\" y2=\"417.0\" stroke-linecap=\"round\" style=\"stroke:white;stroke-width:4\"/><line x1=\"412.124\" y1=\"417.0\" x2=\"410.392\" y2=\"416.0\" stroke-linecap=\"round\" style=\"stroke:white;stroke-width:4\"/><line x1=\"410.392\" y1=\"416.0\" x2=\"410.392\" y2=\"414.0\" stroke-linecap=\"round\" style=\"stroke:white;stroke-width:4\"/><line x1=\"410.392\" y1=\"414.0\" x2=\"408.66\" y2=\"415.0\" stroke-linecap=\"round\" style=\"stroke:white;stroke-width:4\"/><line x1=\"408.66\" y1=\"415.0\" x2=\"406.928\" y2=\"414.0\" stroke-linecap=\"round\" style=\"stroke:white;stroke-width:4\"/><line x1=\"406.928\" y1=\"414.0\" x2=\"406.928\" y2=\"416.0\" stroke-linecap=\"round\" style=\"stroke:white;stroke-width:4\"/><line x1=\"406.928\" y1=\"416.0\" x2=\"405.196\" y2=\"417.0\" stroke-linecap=\"round\" style=\"stroke:white;stroke-width:4\"/><line x1=\"405.196\" y1=\"417.0\" x2=\"403.464\" y2=\"416.0\" stroke-linecap=\"round\" style=\"stroke:white;stroke-width:4\"/><line x1=\"403.464\" y1=\"416.0\" x2=\"403.464\" y2=\"414.0\" stroke-linecap=\"round\" style=\"stroke:white;stroke-width:4\"/><line x1=\"403.464\" y1=\"414.0\" x2=\"401.732\" y2=\"415.0\" stroke-linecap=\"round\" style=\"stroke:white;stroke-width:4\"/><line x1=\"401.732\" y1=\"415.0\" x2=\"400.0\" y2=\"414.0\" stroke-linecap=\"round\" style=\"stroke:white;stroke-width:4\"/><line x1=\"400.0\" y1=\"414.0\" x2=\"400.0\" y2=\"412.0\" stroke-linecap=\"round\" style=\"stroke:white;stroke-width:4\"/><line x1=\"400.0\" y1=\"412.0\" x2=\"401.732\" y2=\"411.0\" stroke-linecap=\"round\" style=\"stroke:white;stroke-width:4\"/><line x1=\"401.732\" y1=\"411.0\" x2=\"400.0\" y2=\"410.0\" stroke-linecap=\"round\" style=\"stroke:white;stroke-width:4\"/><line x1=\"400.0\" y1=\"410.0\" x2=\"400.0\" y2=\"408.0\" stroke-linecap=\"round\" style=\"stroke:white;stroke-width:4\"/><line x1=\"400.0\" y1=\"408.0\" x2=\"401.732\" y2=\"407.0\" stroke-linecap=\"round\" style=\"stroke:white;stroke-width:4\"/><line x1=\"401.732\" y1=\"407.0\" x2=\"403.464\" y2=\"408.0\" stroke-linecap=\"round\" style=\"stroke:white;stroke-width:4\"/><line x1=\"403.464\" y1=\"408.0\" x2=\"403.464\" y2=\"406.0\" stroke-linecap=\"round\" style=\"stroke:white;stroke-width:4\"/><line x1=\"403.464\" y1=\"406.0\" x2=\"405.196\" y2=\"405.0\" stroke-linecap=\"round\" style=\"stroke:white;stroke-width:4\"/><line x1=\"405.196\" y1=\"405.0\" x2=\"403.464\" y2=\"404.0\" stroke-linecap=\"round\" style=\"stroke:white;stroke-width:4\"/><line x1=\"403.464\" y1=\"404.0\" x2=\"403.464\" y2=\"402.0\" stroke-linecap=\"round\" style=\"stroke:white;stroke-width:4\"/><line x1=\"403.464\" y1=\"402.0\" x2=\"401.732\" y2=\"403.0\" stroke-linecap=\"round\" style=\"stroke:white;stroke-width:4\"/><line x1=\"401.732\" y1=\"403.0\" x2=\"400.0\" y2=\"402.0\" stroke-linecap=\"round\" style=\"stroke:white;stroke-width:4\"/><line x1=\"400.0\" y1=\"402.0\" x2=\"400.0\" y2=\"400.0\" stroke-linecap=\"round\" style=\"stroke:white;stroke-width:4\"/><line x1=\"400.0\" y1=\"400.0\" x2=\"401.732\" y2=\"399.0\" stroke-linecap=\"round\" style=\"stroke:white;stroke-width:4\"/><line x1=\"401.732\" y1=\"399.0\" x2=\"400.0\" y2=\"398.0\" stroke-linecap=\"round\" style=\"stroke:white;stroke-width:4\"/><line x1=\"400.0\" y1=\"398.0\" x2=\"400.0\" y2=\"396.0\" stroke-linecap=\"round\" style=\"stroke:white;stroke-width:4\"/><line x1=\"400.0\" y1=\"396.0\" x2=\"401.732\" y2=\"395.0\" stroke-linecap=\"round\" style=\"stroke:white;stroke-width:4\"/><line x1=\"401.732\" y1=\"395.0\" x2=\"403.464\" y2=\"396.0\" stroke-linecap=\"round\" style=\"stroke:white;stroke-width:4\"/><line x1=\"403.464\" y1=\"396.0\" x2=\"403.464\" y2=\"394.0\" stroke-linecap=\"round\" style=\"stroke:white;stroke-width:4\"/><line x1=\"403.464\" y1=\"394.0\" x2=\"405.196\" y2=\"393.0\" stroke-linecap=\"round\" style=\"stroke:white;stroke-width:4\"/><line x1=\"405.196\" y1=\"393.0\" x2=\"406.928\" y2=\"394.0\" stroke-linecap=\"round\" style=\"stroke:white;stroke-width:4\"/><line x1=\"406.928\" y1=\"394.0\" x2=\"406.928\" y2=\"396.0\" stroke-linecap=\"round\" style=\"stroke:white;stroke-width:4\"/><line x1=\"406.928\" y1=\"396.0\" x2=\"408.66\" y2=\"395.0\" stroke-linecap=\"round\" style=\"stroke:white;stroke-width:4\"/><line x1=\"408.66\" y1=\"395.0\" x2=\"410.392\" y2=\"396.0\" stroke-linecap=\"round\" style=\"stroke:white;stroke-width:4\"/><line x1=\"410.392\" y1=\"396.0\" x2=\"410.392\" y2=\"394.0\" stroke-linecap=\"round\" style=\"stroke:white;stroke-width:4\"/><line x1=\"410.392\" y1=\"394.0\" x2=\"412.124\" y2=\"393.0\" stroke-linecap=\"round\" style=\"stroke:white;stroke-width:4\"/><line x1=\"412.124\" y1=\"393.0\" x2=\"410.392\" y2=\"392.0\" stroke-linecap=\"round\" style=\"stroke:white;stroke-width:4\"/><line x1=\"410.392\" y1=\"392.0\" x2=\"410.392\" y2=\"390.0\" stroke-linecap=\"round\" style=\"stroke:white;stroke-width:4\"/><line x1=\"410.392\" y1=\"390.0\" x2=\"412.124\" y2=\"389.0\" stroke-linecap=\"round\" style=\"stroke:white;stroke-width:4\"/><line x1=\"412.124\" y1=\"389.0\" x2=\"413.856\" y2=\"390.0\" stroke-linecap=\"round\" style=\"stroke:white;stroke-width:4\"/><line x1=\"413.856\" y1=\"390.0\" x2=\"413.856\" y2=\"388.0\" stroke-linecap=\"round\" style=\"stroke:white;stroke-width:4\"/><line x1=\"413.856\" y1=\"388.0\" x2=\"415.588\" y2=\"387.0\" stroke-linecap=\"round\" style=\"stroke:white;stroke-width:4\"/><line x1=\"415.588\" y1=\"387.0\" x2=\"417.32\" y2=\"388.0\" stroke-linecap=\"round\" style=\"stroke:white;stroke-width:4\"/><line x1=\"417.32\" y1=\"388.0\" x2=\"417.32\" y2=\"390.0\" stroke-linecap=\"round\" style=\"stroke:white;stroke-width:4\"/><line x1=\"417.32\" y1=\"390.0\" x2=\"419.052\" y2=\"389.0\" stroke-linecap=\"round\" style=\"stroke:white;stroke-width:4\"/><line x1=\"419.052\" y1=\"389.0\" x2=\"420.784\" y2=\"390.0\" stroke-linecap=\"round\" style=\"stroke:white;stroke-width:4\"/><line x1=\"420.784\" y1=\"390.0\" x2=\"420.784\" y2=\"392.0\" stroke-linecap=\"round\" style=\"stroke:white;stroke-width:4\"/><line x1=\"420.784\" y1=\"392.0\" x2=\"419.052\" y2=\"393.0\" stroke-linecap=\"round\" style=\"stroke:white;stroke-width:4\"/><line x1=\"419.052\" y1=\"393.0\" x2=\"420.784\" y2=\"394.0\" stroke-linecap=\"round\" style=\"stroke:white;stroke-width:4\"/><line x1=\"420.784\" y1=\"394.0\" x2=\"420.784\" y2=\"396.0\" stroke-linecap=\"round\" style=\"stroke:white;stroke-width:4\"/><line x1=\"420.784\" y1=\"396.0\" x2=\"422.516\" y2=\"395.0\" stroke-linecap=\"round\" style=\"stroke:white;stroke-width:4\"/><line x1=\"422.516\" y1=\"395.0\" x2=\"424.248\" y2=\"396.0\" stroke-linecap=\"round\" style=\"stroke:white;stroke-width:4\"/><line x1=\"424.248\" y1=\"396.0\" x2=\"424.248\" y2=\"394.0\" stroke-linecap=\"round\" style=\"stroke:white;stroke-width:4\"/><line x1=\"424.248\" y1=\"394.0\" x2=\"425.98\" y2=\"393.0\" stroke-linecap=\"round\" style=\"stroke:white;stroke-width:4\"/><line x1=\"425.98\" y1=\"393.0\" x2=\"427.712\" y2=\"394.0\" stroke-linecap=\"round\" style=\"stroke:white;stroke-width:4\"/><line x1=\"427.712\" y1=\"394.0\" x2=\"427.712\" y2=\"396.0\" stroke-linecap=\"round\" style=\"stroke:white;stroke-width:4\"/><line x1=\"427.712\" y1=\"396.0\" x2=\"429.444\" y2=\"395.0\" stroke-linecap=\"round\" style=\"stroke:white;stroke-width:4\"/><line x1=\"429.444\" y1=\"395.0\" x2=\"431.176\" y2=\"396.0\" stroke-linecap=\"round\" style=\"stroke:white;stroke-width:4\"/><line x1=\"431.176\" y1=\"396.0\" x2=\"431.176\" y2=\"394.0\" stroke-linecap=\"round\" style=\"stroke:white;stroke-width:4\"/><line x1=\"431.176\" y1=\"394.0\" x2=\"432.908\" y2=\"393.0\" stroke-linecap=\"round\" style=\"stroke:white;stroke-width:4\"/><line x1=\"432.908\" y1=\"393.0\" x2=\"431.176\" y2=\"392.0\" stroke-linecap=\"round\" style=\"stroke:white;stroke-width:4\"/><line x1=\"431.176\" y1=\"392.0\" x2=\"431.176\" y2=\"390.0\" stroke-linecap=\"round\" style=\"stroke:white;stroke-width:4\"/><line x1=\"431.176\" y1=\"390.0\" x2=\"432.908\" y2=\"389.0\" stroke-linecap=\"round\" style=\"stroke:white;stroke-width:4\"/><line x1=\"432.908\" y1=\"389.0\" x2=\"434.64\" y2=\"390.0\" stroke-linecap=\"round\" style=\"stroke:white;stroke-width:4\"/><line x1=\"434.64\" y1=\"390.0\" x2=\"434.64\" y2=\"388.0\" stroke-linecap=\"round\" style=\"stroke:white;stroke-width:4\"/><line x1=\"434.64\" y1=\"388.0\" x2=\"436.372\" y2=\"387.0\" stroke-linecap=\"round\" style=\"stroke:white;stroke-width:4\"/><line x1=\"436.372\" y1=\"387.0\" x2=\"434.64\" y2=\"386.0\" stroke-linecap=\"round\" style=\"stroke:white;stroke-width:4\"/><line x1=\"434.64\" y1=\"386.0\" x2=\"434.64\" y2=\"384.0\" stroke-linecap=\"round\" style=\"stroke:white;stroke-width:4\"/><line x1=\"434.64\" y1=\"384.0\" x2=\"432.908\" y2=\"385.0\" stroke-linecap=\"round\" style=\"stroke:white;stroke-width:4\"/><line x1=\"432.908\" y1=\"385.0\" x2=\"431.176\" y2=\"384.0\" stroke-linecap=\"round\" style=\"stroke:white;stroke-width:4\"/><line x1=\"431.176\" y1=\"384.0\" x2=\"431.176\" y2=\"382.0\" stroke-linecap=\"round\" style=\"stroke:white;stroke-width:4\"/><line x1=\"431.176\" y1=\"382.0\" x2=\"432.908\" y2=\"381.0\" stroke-linecap=\"round\" style=\"stroke:white;stroke-width:4\"/><line x1=\"432.908\" y1=\"381.0\" x2=\"431.176\" y2=\"380.0\" stroke-linecap=\"round\" style=\"stroke:white;stroke-width:4\"/><line x1=\"431.176\" y1=\"380.0\" x2=\"431.176\" y2=\"378.0\" stroke-linecap=\"round\" style=\"stroke:white;stroke-width:4\"/><line x1=\"431.176\" y1=\"378.0\" x2=\"432.908\" y2=\"377.0\" stroke-linecap=\"round\" style=\"stroke:white;stroke-width:4\"/><line x1=\"432.908\" y1=\"377.0\" x2=\"434.64\" y2=\"378.0\" stroke-linecap=\"round\" style=\"stroke:white;stroke-width:4\"/><line x1=\"434.64\" y1=\"378.0\" x2=\"434.64\" y2=\"376.0\" stroke-linecap=\"round\" style=\"stroke:white;stroke-width:4\"/><line x1=\"434.64\" y1=\"376.0\" x2=\"436.372\" y2=\"375.0\" stroke-linecap=\"round\" style=\"stroke:white;stroke-width:4\"/><line x1=\"436.372\" y1=\"375.0\" x2=\"438.104\" y2=\"376.0\" stroke-linecap=\"round\" style=\"stroke:white;stroke-width:4\"/><line x1=\"438.104\" y1=\"376.0\" x2=\"438.104\" y2=\"378.0\" stroke-linecap=\"round\" style=\"stroke:white;stroke-width:4\"/><line x1=\"438.104\" y1=\"378.0\" x2=\"439.836\" y2=\"377.0\" stroke-linecap=\"round\" style=\"stroke:white;stroke-width:4\"/><line x1=\"439.836\" y1=\"377.0\" x2=\"441.568\" y2=\"378.0\" stroke-linecap=\"round\" style=\"stroke:white;stroke-width:4\"/><line x1=\"441.568\" y1=\"378.0\" x2=\"441.568\" y2=\"376.0\" stroke-linecap=\"round\" style=\"stroke:white;stroke-width:4\"/><line x1=\"441.568\" y1=\"376.0\" x2=\"443.3\" y2=\"375.0\" stroke-linecap=\"round\" style=\"stroke:white;stroke-width:4\"/><line x1=\"443.3\" y1=\"375.0\" x2=\"441.568\" y2=\"374.0\" stroke-linecap=\"round\" style=\"stroke:white;stroke-width:4\"/><line x1=\"441.568\" y1=\"374.0\" x2=\"441.568\" y2=\"372.0\" stroke-linecap=\"round\" style=\"stroke:white;stroke-width:4\"/><line x1=\"441.568\" y1=\"372.0\" x2=\"443.3\" y2=\"371.0\" stroke-linecap=\"round\" style=\"stroke:white;stroke-width:4\"/><line x1=\"443.3\" y1=\"371.0\" x2=\"445.032\" y2=\"372.0\" stroke-linecap=\"round\" style=\"stroke:white;stroke-width:4\"/><line x1=\"445.032\" y1=\"372.0\" x2=\"445.032\" y2=\"370.0\" stroke-linecap=\"round\" style=\"stroke:white;stroke-width:4\"/><line x1=\"445.032\" y1=\"370.0\" x2=\"446.764\" y2=\"369.0\" stroke-linecap=\"round\" style=\"stroke:white;stroke-width:4\"/><line x1=\"446.764\" y1=\"369.0\" x2=\"445.032\" y2=\"368.0\" stroke-linecap=\"round\" style=\"stroke:white;stroke-width:4\"/><line x1=\"445.032\" y1=\"368.0\" x2=\"445.032\" y2=\"366.0\" stroke-linecap=\"round\" style=\"stroke:white;stroke-width:4\"/><line x1=\"445.032\" y1=\"366.0\" x2=\"443.3\" y2=\"367.0\" stroke-linecap=\"round\" style=\"stroke:white;stroke-width:4\"/><line x1=\"443.3\" y1=\"367.0\" x2=\"441.568\" y2=\"366.0\" stroke-linecap=\"round\" style=\"stroke:white;stroke-width:4\"/><line x1=\"441.568\" y1=\"366.0\" x2=\"441.568\" y2=\"364.0\" stroke-linecap=\"round\" style=\"stroke:white;stroke-width:4\"/><line x1=\"441.568\" y1=\"364.0\" x2=\"443.3\" y2=\"363.0\" stroke-linecap=\"round\" style=\"stroke:white;stroke-width:4\"/><line x1=\"443.3\" y1=\"363.0\" x2=\"441.568\" y2=\"362.0\" stroke-linecap=\"round\" style=\"stroke:white;stroke-width:4\"/><line x1=\"441.568\" y1=\"362.0\" x2=\"441.568\" y2=\"360.0\" stroke-linecap=\"round\" style=\"stroke:white;stroke-width:4\"/><line x1=\"441.568\" y1=\"360.0\" x2=\"439.836\" y2=\"361.0\" stroke-linecap=\"round\" style=\"stroke:white;stroke-width:4\"/><line x1=\"439.836\" y1=\"361.0\" x2=\"438.104\" y2=\"360.0\" stroke-linecap=\"round\" style=\"stroke:white;stroke-width:4\"/><line x1=\"438.104\" y1=\"360.0\" x2=\"438.104\" y2=\"362.0\" stroke-linecap=\"round\" style=\"stroke:white;stroke-width:4\"/><line x1=\"438.104\" y1=\"362.0\" x2=\"436.372\" y2=\"363.0\" stroke-linecap=\"round\" style=\"stroke:white;stroke-width:4\"/><line x1=\"436.372\" y1=\"363.0\" x2=\"434.64\" y2=\"362.0\" stroke-linecap=\"round\" style=\"stroke:white;stroke-width:4\"/><line x1=\"434.64\" y1=\"362.0\" x2=\"434.64\" y2=\"360.0\" stroke-linecap=\"round\" style=\"stroke:white;stroke-width:4\"/><line x1=\"434.64\" y1=\"360.0\" x2=\"432.908\" y2=\"361.0\" stroke-linecap=\"round\" style=\"stroke:white;stroke-width:4\"/><line x1=\"432.908\" y1=\"361.0\" x2=\"431.176\" y2=\"360.0\" stroke-linecap=\"round\" style=\"stroke:white;stroke-width:4\"/><line x1=\"431.176\" y1=\"360.0\" x2=\"431.176\" y2=\"358.0\" stroke-linecap=\"round\" style=\"stroke:white;stroke-width:4\"/><line x1=\"431.176\" y1=\"358.0\" x2=\"432.908\" y2=\"357.0\" stroke-linecap=\"round\" style=\"stroke:white;stroke-width:4\"/><line x1=\"432.908\" y1=\"357.0\" x2=\"431.176\" y2=\"356.0\" stroke-linecap=\"round\" style=\"stroke:white;stroke-width:4\"/><line x1=\"431.176\" y1=\"356.0\" x2=\"431.176\" y2=\"354.0\" stroke-linecap=\"round\" style=\"stroke:white;stroke-width:4\"/><line x1=\"431.176\" y1=\"354.0\" x2=\"432.908\" y2=\"353.0\" stroke-linecap=\"round\" style=\"stroke:white;stroke-width:4\"/><line x1=\"432.908\" y1=\"353.0\" x2=\"434.64\" y2=\"354.0\" stroke-linecap=\"round\" style=\"stroke:white;stroke-width:4\"/><line x1=\"434.64\" y1=\"354.0\" x2=\"434.64\" y2=\"352.0\" stroke-linecap=\"round\" style=\"stroke:white;stroke-width:4\"/><line x1=\"434.64\" y1=\"352.0\" x2=\"436.372\" y2=\"351.0\" stroke-linecap=\"round\" style=\"stroke:white;stroke-width:4\"/><line x1=\"436.372\" y1=\"351.0\" x2=\"434.64\" y2=\"350.0\" stroke-linecap=\"round\" style=\"stroke:white;stroke-width:4\"/><line x1=\"434.64\" y1=\"350.0\" x2=\"434.64\" y2=\"348.0\" stroke-linecap=\"round\" style=\"stroke:white;stroke-width:4\"/><line x1=\"434.64\" y1=\"348.0\" x2=\"432.908\" y2=\"349.0\" stroke-linecap=\"round\" style=\"stroke:white;stroke-width:4\"/><line x1=\"432.908\" y1=\"349.0\" x2=\"431.176\" y2=\"348.0\" stroke-linecap=\"round\" style=\"stroke:white;stroke-width:4\"/><line x1=\"431.176\" y1=\"348.0\" x2=\"431.176\" y2=\"346.0\" stroke-linecap=\"round\" style=\"stroke:white;stroke-width:4\"/><line x1=\"431.176\" y1=\"346.0\" x2=\"432.908\" y2=\"345.0\" stroke-linecap=\"round\" style=\"stroke:white;stroke-width:4\"/><line x1=\"432.908\" y1=\"345.0\" x2=\"431.176\" y2=\"344.0\" stroke-linecap=\"round\" style=\"stroke:white;stroke-width:4\"/><line x1=\"431.176\" y1=\"344.0\" x2=\"431.176\" y2=\"342.0\" stroke-linecap=\"round\" style=\"stroke:white;stroke-width:4\"/><line x1=\"431.176\" y1=\"342.0\" x2=\"429.444\" y2=\"343.0\" stroke-linecap=\"round\" style=\"stroke:white;stroke-width:4\"/><line x1=\"429.444\" y1=\"343.0\" x2=\"427.712\" y2=\"342.0\" stroke-linecap=\"round\" style=\"stroke:white;stroke-width:4\"/><line x1=\"427.712\" y1=\"342.0\" x2=\"427.712\" y2=\"344.0\" stroke-linecap=\"round\" style=\"stroke:white;stroke-width:4\"/><line x1=\"427.712\" y1=\"344.0\" x2=\"425.98\" y2=\"345.0\" stroke-linecap=\"round\" style=\"stroke:white;stroke-width:4\"/><line x1=\"425.98\" y1=\"345.0\" x2=\"424.248\" y2=\"344.0\" stroke-linecap=\"round\" style=\"stroke:white;stroke-width:4\"/><line x1=\"424.248\" y1=\"344.0\" x2=\"424.248\" y2=\"342.0\" stroke-linecap=\"round\" style=\"stroke:white;stroke-width:4\"/><line x1=\"424.248\" y1=\"342.0\" x2=\"422.516\" y2=\"343.0\" stroke-linecap=\"round\" style=\"stroke:white;stroke-width:4\"/><line x1=\"422.516\" y1=\"343.0\" x2=\"420.784\" y2=\"342.0\" stroke-linecap=\"round\" style=\"stroke:white;stroke-width:4\"/><line x1=\"420.784\" y1=\"342.0\" x2=\"420.784\" y2=\"344.0\" stroke-linecap=\"round\" style=\"stroke:white;stroke-width:4\"/><line x1=\"420.784\" y1=\"344.0\" x2=\"419.052\" y2=\"345.0\" stroke-linecap=\"round\" style=\"stroke:white;stroke-width:4\"/><line x1=\"419.052\" y1=\"345.0\" x2=\"420.784\" y2=\"346.0\" stroke-linecap=\"round\" style=\"stroke:white;stroke-width:4\"/><line x1=\"420.784\" y1=\"346.0\" x2=\"420.784\" y2=\"348.0\" stroke-linecap=\"round\" style=\"stroke:white;stroke-width:4\"/><line x1=\"420.784\" y1=\"348.0\" x2=\"419.052\" y2=\"349.0\" stroke-linecap=\"round\" style=\"stroke:white;stroke-width:4\"/><line x1=\"419.052\" y1=\"349.0\" x2=\"417.32\" y2=\"348.0\" stroke-linecap=\"round\" style=\"stroke:white;stroke-width:4\"/><line x1=\"417.32\" y1=\"348.0\" x2=\"417.32\" y2=\"350.0\" stroke-linecap=\"round\" style=\"stroke:white;stroke-width:4\"/><line x1=\"417.32\" y1=\"350.0\" x2=\"415.588\" y2=\"351.0\" stroke-linecap=\"round\" style=\"stroke:white;stroke-width:4\"/><line x1=\"415.588\" y1=\"351.0\" x2=\"413.856\" y2=\"350.0\" stroke-linecap=\"round\" style=\"stroke:white;stroke-width:4\"/><line x1=\"413.856\" y1=\"350.0\" x2=\"413.856\" y2=\"348.0\" stroke-linecap=\"round\" style=\"stroke:white;stroke-width:4\"/><line x1=\"413.856\" y1=\"348.0\" x2=\"412.124\" y2=\"349.0\" stroke-linecap=\"round\" style=\"stroke:white;stroke-width:4\"/><line x1=\"412.124\" y1=\"349.0\" x2=\"410.392\" y2=\"348.0\" stroke-linecap=\"round\" style=\"stroke:white;stroke-width:4\"/><line x1=\"410.392\" y1=\"348.0\" x2=\"410.392\" y2=\"346.0\" stroke-linecap=\"round\" style=\"stroke:white;stroke-width:4\"/><line x1=\"410.392\" y1=\"346.0\" x2=\"412.124\" y2=\"345.0\" stroke-linecap=\"round\" style=\"stroke:white;stroke-width:4\"/><line x1=\"412.124\" y1=\"345.0\" x2=\"410.392\" y2=\"344.0\" stroke-linecap=\"round\" style=\"stroke:white;stroke-width:4\"/><line x1=\"410.392\" y1=\"344.0\" x2=\"410.392\" y2=\"342.0\" stroke-linecap=\"round\" style=\"stroke:white;stroke-width:4\"/><line x1=\"410.392\" y1=\"342.0\" x2=\"408.66\" y2=\"343.0\" stroke-linecap=\"round\" style=\"stroke:white;stroke-width:4\"/><line x1=\"408.66\" y1=\"343.0\" x2=\"406.928\" y2=\"342.0\" stroke-linecap=\"round\" style=\"stroke:white;stroke-width:4\"/><line x1=\"406.928\" y1=\"342.0\" x2=\"406.928\" y2=\"344.0\" stroke-linecap=\"round\" style=\"stroke:white;stroke-width:4\"/><line x1=\"406.928\" y1=\"344.0\" x2=\"405.196\" y2=\"345.0\" stroke-linecap=\"round\" style=\"stroke:white;stroke-width:4\"/><line x1=\"405.196\" y1=\"345.0\" x2=\"403.464\" y2=\"344.0\" stroke-linecap=\"round\" style=\"stroke:white;stroke-width:4\"/><line x1=\"403.464\" y1=\"344.0\" x2=\"403.464\" y2=\"342.0\" stroke-linecap=\"round\" style=\"stroke:white;stroke-width:4\"/><line x1=\"403.464\" y1=\"342.0\" x2=\"401.732\" y2=\"343.0\" stroke-linecap=\"round\" style=\"stroke:white;stroke-width:4\"/><line x1=\"401.732\" y1=\"343.0\" x2=\"400.0\" y2=\"342.0\" stroke-linecap=\"round\" style=\"stroke:white;stroke-width:4\"/><line x1=\"400.0\" y1=\"342.0\" x2=\"400.0\" y2=\"340.0\" stroke-linecap=\"round\" style=\"stroke:white;stroke-width:4\"/><line x1=\"400.0\" y1=\"340.0\" x2=\"401.732\" y2=\"339.0\" stroke-linecap=\"round\" style=\"stroke:white;stroke-width:4\"/><line x1=\"401.732\" y1=\"339.0\" x2=\"400.0\" y2=\"338.0\" stroke-linecap=\"round\" style=\"stroke:white;stroke-width:4\"/><line x1=\"400.0\" y1=\"338.0\" x2=\"400.0\" y2=\"336.0\" stroke-linecap=\"round\" style=\"stroke:white;stroke-width:4\"/><line x1=\"400.0\" y1=\"336.0\" x2=\"401.732\" y2=\"335.0\" stroke-linecap=\"round\" style=\"stroke:white;stroke-width:4\"/><line x1=\"401.732\" y1=\"335.0\" x2=\"403.464\" y2=\"336.0\" stroke-linecap=\"round\" style=\"stroke:white;stroke-width:4\"/><line x1=\"403.464\" y1=\"336.0\" x2=\"403.464\" y2=\"334.0\" stroke-linecap=\"round\" style=\"stroke:white;stroke-width:4\"/><line x1=\"403.464\" y1=\"334.0\" x2=\"405.196\" y2=\"333.0\" stroke-linecap=\"round\" style=\"stroke:white;stroke-width:4\"/><line x1=\"405.196\" y1=\"333.0\" x2=\"403.464\" y2=\"332.0\" stroke-linecap=\"round\" style=\"stroke:white;stroke-width:4\"/><line x1=\"403.464\" y1=\"332.0\" x2=\"403.464\" y2=\"330.0\" stroke-linecap=\"round\" style=\"stroke:white;stroke-width:4\"/><line x1=\"403.464\" y1=\"330.0\" x2=\"401.732\" y2=\"331.0\" stroke-linecap=\"round\" style=\"stroke:white;stroke-width:4\"/><line x1=\"401.732\" y1=\"331.0\" x2=\"400.0\" y2=\"330.0\" stroke-linecap=\"round\" style=\"stroke:white;stroke-width:4\"/><line x1=\"400.0\" y1=\"330.0\" x2=\"400.0\" y2=\"328.0\" stroke-linecap=\"round\" style=\"stroke:white;stroke-width:4\"/><line x1=\"400.0\" y1=\"328.0\" x2=\"401.732\" y2=\"327.0\" stroke-linecap=\"round\" style=\"stroke:white;stroke-width:4\"/><line x1=\"401.732\" y1=\"327.0\" x2=\"400.0\" y2=\"326.0\" stroke-linecap=\"round\" style=\"stroke:white;stroke-width:4\"/><line x1=\"400.0\" y1=\"326.0\" x2=\"400.0\" y2=\"324.0\" stroke-linecap=\"round\" style=\"stroke:white;stroke-width:4\"/><line x1=\"400.0\" y1=\"324.0\" x2=\"401.732\" y2=\"323.0\" stroke-linecap=\"round\" style=\"stroke:white;stroke-width:4\"/><line x1=\"401.732\" y1=\"323.0\" x2=\"403.464\" y2=\"324.0\" stroke-linecap=\"round\" style=\"stroke:white;stroke-width:4\"/><line x1=\"403.464\" y1=\"324.0\" x2=\"403.464\" y2=\"322.0\" stroke-linecap=\"round\" style=\"stroke:white;stroke-width:4\"/><line x1=\"403.464\" y1=\"322.0\" x2=\"405.196\" y2=\"321.0\" stroke-linecap=\"round\" style=\"stroke:white;stroke-width:4\"/><line x1=\"405.196\" y1=\"321.0\" x2=\"406.928\" y2=\"322.0\" stroke-linecap=\"round\" style=\"stroke:white;stroke-width:4\"/><line x1=\"406.928\" y1=\"322.0\" x2=\"406.928\" y2=\"324.0\" stroke-linecap=\"round\" style=\"stroke:white;stroke-width:4\"/><line x1=\"406.928\" y1=\"324.0\" x2=\"408.66\" y2=\"323.0\" stroke-linecap=\"round\" style=\"stroke:white;stroke-width:4\"/><line x1=\"408.66\" y1=\"323.0\" x2=\"410.392\" y2=\"324.0\" stroke-linecap=\"round\" style=\"stroke:white;stroke-width:4\"/><line x1=\"410.392\" y1=\"324.0\" x2=\"410.392\" y2=\"322.0\" stroke-linecap=\"round\" style=\"stroke:white;stroke-width:4\"/><line x1=\"410.392\" y1=\"322.0\" x2=\"412.124\" y2=\"321.0\" stroke-linecap=\"round\" style=\"stroke:white;stroke-width:4\"/><line x1=\"412.124\" y1=\"321.0\" x2=\"410.392\" y2=\"320.0\" stroke-linecap=\"round\" style=\"stroke:white;stroke-width:4\"/><line x1=\"410.392\" y1=\"320.0\" x2=\"410.392\" y2=\"318.0\" stroke-linecap=\"round\" style=\"stroke:white;stroke-width:4\"/><line x1=\"410.392\" y1=\"318.0\" x2=\"412.124\" y2=\"317.0\" stroke-linecap=\"round\" style=\"stroke:white;stroke-width:4\"/><line x1=\"412.124\" y1=\"317.0\" x2=\"413.856\" y2=\"318.0\" stroke-linecap=\"round\" style=\"stroke:white;stroke-width:4\"/><line x1=\"413.856\" y1=\"318.0\" x2=\"413.856\" y2=\"316.0\" stroke-linecap=\"round\" style=\"stroke:white;stroke-width:4\"/><line x1=\"413.856\" y1=\"316.0\" x2=\"415.588\" y2=\"315.0\" stroke-linecap=\"round\" style=\"stroke:white;stroke-width:4\"/><line x1=\"415.588\" y1=\"315.0\" x2=\"413.856\" y2=\"314.0\" stroke-linecap=\"round\" style=\"stroke:white;stroke-width:4\"/><line x1=\"413.856\" y1=\"314.0\" x2=\"413.856\" y2=\"312.0\" stroke-linecap=\"round\" style=\"stroke:white;stroke-width:4\"/><line x1=\"413.856\" y1=\"312.0\" x2=\"412.124\" y2=\"313.0\" stroke-linecap=\"round\" style=\"stroke:white;stroke-width:4\"/><line x1=\"412.124\" y1=\"313.0\" x2=\"410.392\" y2=\"312.0\" stroke-linecap=\"round\" style=\"stroke:white;stroke-width:4\"/><line x1=\"410.392\" y1=\"312.0\" x2=\"410.392\" y2=\"310.0\" stroke-linecap=\"round\" style=\"stroke:white;stroke-width:4\"/><line x1=\"410.392\" y1=\"310.0\" x2=\"412.124\" y2=\"309.0\" stroke-linecap=\"round\" style=\"stroke:white;stroke-width:4\"/><line x1=\"412.124\" y1=\"309.0\" x2=\"410.392\" y2=\"308.0\" stroke-linecap=\"round\" style=\"stroke:white;stroke-width:4\"/><line x1=\"410.392\" y1=\"308.0\" x2=\"410.392\" y2=\"306.0\" stroke-linecap=\"round\" style=\"stroke:white;stroke-width:4\"/><line x1=\"410.392\" y1=\"306.0\" x2=\"408.66\" y2=\"307.0\" stroke-linecap=\"round\" style=\"stroke:white;stroke-width:4\"/><line x1=\"408.66\" y1=\"307.0\" x2=\"406.928\" y2=\"306.0\" stroke-linecap=\"round\" style=\"stroke:white;stroke-width:4\"/><line x1=\"406.928\" y1=\"306.0\" x2=\"406.928\" y2=\"308.0\" stroke-linecap=\"round\" style=\"stroke:white;stroke-width:4\"/><line x1=\"406.928\" y1=\"308.0\" x2=\"405.196\" y2=\"309.0\" stroke-linecap=\"round\" style=\"stroke:white;stroke-width:4\"/><line x1=\"405.196\" y1=\"309.0\" x2=\"403.464\" y2=\"308.0\" stroke-linecap=\"round\" style=\"stroke:white;stroke-width:4\"/><line x1=\"403.464\" y1=\"308.0\" x2=\"403.464\" y2=\"306.0\" stroke-linecap=\"round\" style=\"stroke:white;stroke-width:4\"/><line x1=\"403.464\" y1=\"306.0\" x2=\"401.732\" y2=\"307.0\" stroke-linecap=\"round\" style=\"stroke:white;stroke-width:4\"/><line x1=\"401.732\" y1=\"307.0\" x2=\"400.0\" y2=\"306.0\" stroke-linecap=\"round\" style=\"stroke:white;stroke-width:4\"/><line x1=\"400.0\" y1=\"306.0\" x2=\"400.0\" y2=\"304.0\" stroke-linecap=\"round\" style=\"stroke:white;stroke-width:4\"/><line x1=\"400.0\" y1=\"304.0\" x2=\"401.732\" y2=\"303.0\" stroke-linecap=\"round\" style=\"stroke:white;stroke-width:4\"/><line x1=\"401.732\" y1=\"303.0\" x2=\"400.0\" y2=\"302.0\" stroke-linecap=\"round\" style=\"stroke:white;stroke-width:4\"/><line x1=\"400.0\" y1=\"302.0\" x2=\"400.0\" y2=\"300.0\" stroke-linecap=\"round\" style=\"stroke:white;stroke-width:4\"/><line x1=\"400.0\" y1=\"300.0\" x2=\"401.732\" y2=\"299.0\" stroke-linecap=\"round\" style=\"stroke:white;stroke-width:4\"/><line x1=\"401.732\" y1=\"299.0\" x2=\"403.464\" y2=\"300.0\" stroke-linecap=\"round\" style=\"stroke:white;stroke-width:4\"/><line x1=\"403.464\" y1=\"300.0\" x2=\"403.464\" y2=\"298.0\" stroke-linecap=\"round\" style=\"stroke:white;stroke-width:4\"/><line x1=\"403.464\" y1=\"298.0\" x2=\"405.196\" y2=\"297.0\" stroke-linecap=\"round\" style=\"stroke:white;stroke-width:4\"/><line x1=\"405.196\" y1=\"297.0\" x2=\"403.464\" y2=\"296.0\" stroke-linecap=\"round\" style=\"stroke:white;stroke-width:4\"/><line x1=\"403.464\" y1=\"296.0\" x2=\"403.464\" y2=\"294.0\" stroke-linecap=\"round\" style=\"stroke:white;stroke-width:4\"/><line x1=\"403.464\" y1=\"294.0\" x2=\"401.732\" y2=\"295.0\" stroke-linecap=\"round\" style=\"stroke:white;stroke-width:4\"/><line x1=\"401.732\" y1=\"295.0\" x2=\"400.0\" y2=\"294.0\" stroke-linecap=\"round\" style=\"stroke:white;stroke-width:4\"/><line x1=\"400.0\" y1=\"294.0\" x2=\"400.0\" y2=\"292.0\" stroke-linecap=\"round\" style=\"stroke:white;stroke-width:4\"/><line x1=\"400.0\" y1=\"292.0\" x2=\"401.732\" y2=\"291.0\" stroke-linecap=\"round\" style=\"stroke:white;stroke-width:4\"/><line x1=\"401.732\" y1=\"291.0\" x2=\"400.0\" y2=\"290.0\" stroke-linecap=\"round\" style=\"stroke:white;stroke-width:4\"/><line x1=\"400.0\" y1=\"290.0\" x2=\"400.0\" y2=\"288.0\" stroke-linecap=\"round\" style=\"stroke:white;stroke-width:4\"/>\n",
              "        <g visibility=visible transform=\"rotate(360,400.0,288.0) translate(382.0, 270.0)\">\n",
              "<path style=\" stroke:none;fill-rule:evenodd;fill:white;fill-opacity:1;\" d=\"M 18.214844 0.632812 C 16.109375 1.800781 15.011719 4.074219 15.074219 7.132812 L 15.085938 7.652344 L 14.785156 7.496094 C 13.476562 6.824219 11.957031 6.671875 10.40625 7.066406 C 8.46875 7.550781 6.515625 9.15625 4.394531 11.992188 C 3.0625 13.777344 2.679688 14.636719 3.042969 15.027344 L 3.15625 15.152344 L 3.519531 15.152344 C 4.238281 15.152344 4.828125 14.886719 8.1875 13.039062 C 9.386719 12.378906 10.371094 11.839844 10.378906 11.839844 C 10.386719 11.839844 10.355469 11.929688 10.304688 12.035156 C 9.832031 13.09375 9.257812 14.820312 8.96875 16.078125 C 7.914062 20.652344 8.617188 24.53125 11.070312 27.660156 C 11.351562 28.015625 11.363281 27.914062 10.972656 28.382812 C 8.925781 30.84375 7.945312 33.28125 8.238281 35.1875 C 8.289062 35.527344 8.28125 35.523438 8.917969 35.523438 C 10.941406 35.523438 13.074219 34.207031 15.136719 31.6875 C 15.359375 31.417969 15.328125 31.425781 15.5625 31.574219 C 16.292969 32.042969 18.023438 32.964844 18.175781 32.964844 C 18.335938 32.964844 19.941406 32.210938 20.828125 31.71875 C 20.996094 31.625 21.136719 31.554688 21.136719 31.558594 C 21.203125 31.664062 21.898438 32.414062 22.222656 32.730469 C 23.835938 34.300781 25.5625 35.132812 27.582031 35.300781 C 27.90625 35.328125 27.9375 35.308594 28.007812 34.984375 C 28.382812 33.242188 27.625 30.925781 25.863281 28.425781 L 25.542969 27.96875 L 25.699219 27.785156 C 28.945312 23.960938 29.132812 18.699219 26.257812 11.96875 L 26.207031 11.84375 L 27.945312 12.703125 C 31.53125 14.476562 32.316406 14.800781 33.03125 14.800781 C 33.976562 14.800781 33.78125 13.9375 32.472656 12.292969 C 28.519531 7.355469 25.394531 5.925781 21.921875 7.472656 L 21.558594 7.636719 L 21.578125 7.542969 C 21.699219 6.992188 21.761719 5.742188 21.699219 5.164062 C 21.496094 3.296875 20.664062 1.964844 19.003906 0.855469 C 18.480469 0.503906 18.457031 0.5 18.214844 0.632812\"/>\n",
              "</g>\n",
              "      </svg>\n",
              "    "
            ],
            "text/plain": [
              "<IPython.core.display.HTML object>"
            ]
          },
          "metadata": {}
        }
      ]
    },
    {
      "cell_type": "markdown",
      "source": [
        "En este ejemplo construimos un árbol usando Turtle"
      ],
      "metadata": {
        "id": "O2WL9tng2qk5"
      }
    },
    {
      "cell_type": "code",
      "source": [
        "def Arbol(length,n):\n",
        "    if length < (length/n):\n",
        "        return\n",
        "    Tur.forward(length)\n",
        "    Tur.left(45)\n",
        "    Arbol(length * 0.5,length/n)\n",
        "    Tur.left(20)\n",
        "    Arbol(length * 0.5,length/n)\n",
        "    Tur.right(75)\n",
        "    Arbol(length * 0.5,length/n)\n",
        "    Tur.right(20)\n",
        "    Arbol(length * 0.5,length/n)\n",
        "    Tur.left(30)\n",
        "    Tur.backward(length)\n",
        "    return\n",
        "Tur.initializeTurtle(initial_speed=5) \n",
        "Tur.backward(200)\n",
        "Arbol(200,2)"
      ],
      "metadata": {
        "colab": {
          "base_uri": "https://localhost:8080/",
          "height": 1000
        },
        "id": "Sdf0gcXW2wvn",
        "outputId": "122480f9-7cc6-4328-f17c-3b3f35926c76"
      },
      "execution_count": null,
      "outputs": [
        {
          "data": {
            "text/html": [
              "\n",
              "      <svg width=\"800\" height=\"500\">\n",
              "        <rect width=\"100%\" height=\"100%\" fill=\"black\"/>\n",
              "        <line x1=\"400\" y1=\"250\" x2=\"400.0\" y2=\"450.0\" stroke-linecap=\"round\" style=\"stroke:white;stroke-width:4\"/><line x1=\"400.0\" y1=\"450.0\" x2=\"400.0\" y2=\"250.0\" stroke-linecap=\"round\" style=\"stroke:white;stroke-width:4\"/><line x1=\"400.0\" y1=\"250.0\" x2=\"329.289\" y2=\"179.289\" stroke-linecap=\"round\" style=\"stroke:white;stroke-width:4\"/><line x1=\"329.289\" y1=\"179.289\" x2=\"279.289\" y2=\"179.289\" stroke-linecap=\"round\" style=\"stroke:white;stroke-width:4\"/><line x1=\"279.289\" y1=\"179.289\" x2=\"261.611\" y2=\"196.967\" stroke-linecap=\"round\" style=\"stroke:white;stroke-width:4\"/><line x1=\"261.611\" y1=\"196.967\" x2=\"279.289\" y2=\"179.289\" stroke-linecap=\"round\" style=\"stroke:white;stroke-width:4\"/><line x1=\"279.289\" y1=\"179.289\" x2=\"268.724\" y2=\"201.947\" stroke-linecap=\"round\" style=\"stroke:white;stroke-width:4\"/><line x1=\"268.724\" y1=\"201.947\" x2=\"279.289\" y2=\"179.289\" stroke-linecap=\"round\" style=\"stroke:white;stroke-width:4\"/><line x1=\"279.289\" y1=\"179.289\" x2=\"254.669\" y2=\"174.948\" stroke-linecap=\"round\" style=\"stroke:white;stroke-width:4\"/><line x1=\"254.669\" y1=\"174.948\" x2=\"279.289\" y2=\"179.289\" stroke-linecap=\"round\" style=\"stroke:white;stroke-width:4\"/><line x1=\"279.289\" y1=\"179.289\" x2=\"257.638\" y2=\"166.789\" stroke-linecap=\"round\" style=\"stroke:white;stroke-width:4\"/><line x1=\"257.638\" y1=\"166.789\" x2=\"279.289\" y2=\"179.289\" stroke-linecap=\"round\" style=\"stroke:white;stroke-width:4\"/><line x1=\"279.289\" y1=\"179.289\" x2=\"329.289\" y2=\"179.289\" stroke-linecap=\"round\" style=\"stroke:white;stroke-width:4\"/><line x1=\"329.289\" y1=\"179.289\" x2=\"282.304\" y2=\"196.39\" stroke-linecap=\"round\" style=\"stroke:white;stroke-width:4\"/><line x1=\"282.304\" y1=\"196.39\" x2=\"271.739\" y2=\"219.048\" stroke-linecap=\"round\" style=\"stroke:white;stroke-width:4\"/><line x1=\"271.739\" y1=\"219.048\" x2=\"282.304\" y2=\"196.39\" stroke-linecap=\"round\" style=\"stroke:white;stroke-width:4\"/><line x1=\"282.304\" y1=\"196.39\" x2=\"280.125\" y2=\"221.295\" stroke-linecap=\"round\" style=\"stroke:white;stroke-width:4\"/><line x1=\"280.125\" y1=\"221.295\" x2=\"282.304\" y2=\"196.39\" stroke-linecap=\"round\" style=\"stroke:white;stroke-width:4\"/><line x1=\"282.304\" y1=\"196.39\" x2=\"257.684\" y2=\"200.731\" stroke-linecap=\"round\" style=\"stroke:white;stroke-width:4\"/><line x1=\"257.684\" y1=\"200.731\" x2=\"282.304\" y2=\"196.39\" stroke-linecap=\"round\" style=\"stroke:white;stroke-width:4\"/><line x1=\"282.304\" y1=\"196.39\" x2=\"257.684\" y2=\"192.049\" stroke-linecap=\"round\" style=\"stroke:white;stroke-width:4\"/><line x1=\"257.684\" y1=\"192.049\" x2=\"282.304\" y2=\"196.39\" stroke-linecap=\"round\" style=\"stroke:white;stroke-width:4\"/><line x1=\"282.304\" y1=\"196.39\" x2=\"329.289\" y2=\"179.289\" stroke-linecap=\"round\" style=\"stroke:white;stroke-width:4\"/><line x1=\"329.289\" y1=\"179.289\" x2=\"300.61\" y2=\"138.331\" stroke-linecap=\"round\" style=\"stroke:white;stroke-width:4\"/><line x1=\"300.61\" y1=\"138.331\" x2=\"275.99\" y2=\"133.99\" stroke-linecap=\"round\" style=\"stroke:white;stroke-width:4\"/><line x1=\"275.99\" y1=\"133.99\" x2=\"300.61\" y2=\"138.331\" stroke-linecap=\"round\" style=\"stroke:white;stroke-width:4\"/><line x1=\"300.61\" y1=\"138.331\" x2=\"275.99\" y2=\"142.672\" stroke-linecap=\"round\" style=\"stroke:white;stroke-width:4\"/><line x1=\"275.99\" y1=\"142.672\" x2=\"300.61\" y2=\"138.331\" stroke-linecap=\"round\" style=\"stroke:white;stroke-width:4\"/><line x1=\"300.61\" y1=\"138.331\" x2=\"290.045\" y2=\"115.673\" stroke-linecap=\"round\" style=\"stroke:white;stroke-width:4\"/><line x1=\"290.045\" y1=\"115.673\" x2=\"300.61\" y2=\"138.331\" stroke-linecap=\"round\" style=\"stroke:white;stroke-width:4\"/><line x1=\"300.61\" y1=\"138.331\" x2=\"298.431\" y2=\"113.426\" stroke-linecap=\"round\" style=\"stroke:white;stroke-width:4\"/><line x1=\"298.431\" y1=\"113.426\" x2=\"300.61\" y2=\"138.331\" stroke-linecap=\"round\" style=\"stroke:white;stroke-width:4\"/><line x1=\"300.61\" y1=\"138.331\" x2=\"329.289\" y2=\"179.289\" stroke-linecap=\"round\" style=\"stroke:white;stroke-width:4\"/><line x1=\"329.289\" y1=\"179.289\" x2=\"316.348\" y2=\"130.993\" stroke-linecap=\"round\" style=\"stroke:white;stroke-width:4\"/><line x1=\"316.348\" y1=\"130.993\" x2=\"294.697\" y2=\"118.493\" stroke-linecap=\"round\" style=\"stroke:white;stroke-width:4\"/><line x1=\"294.697\" y1=\"118.493\" x2=\"316.348\" y2=\"130.993\" stroke-linecap=\"round\" style=\"stroke:white;stroke-width:4\"/><line x1=\"316.348\" y1=\"130.993\" x2=\"291.728\" y2=\"126.652\" stroke-linecap=\"round\" style=\"stroke:white;stroke-width:4\"/><line x1=\"291.728\" y1=\"126.652\" x2=\"316.348\" y2=\"130.993\" stroke-linecap=\"round\" style=\"stroke:white;stroke-width:4\"/><line x1=\"316.348\" y1=\"130.993\" x2=\"314.169\" y2=\"106.088\" stroke-linecap=\"round\" style=\"stroke:white;stroke-width:4\"/><line x1=\"314.169\" y1=\"106.088\" x2=\"316.348\" y2=\"130.993\" stroke-linecap=\"round\" style=\"stroke:white;stroke-width:4\"/><line x1=\"316.348\" y1=\"130.993\" x2=\"322.818\" y2=\"106.845\" stroke-linecap=\"round\" style=\"stroke:white;stroke-width:4\"/><line x1=\"322.818\" y1=\"106.845\" x2=\"316.348\" y2=\"130.993\" stroke-linecap=\"round\" style=\"stroke:white;stroke-width:4\"/><line x1=\"316.348\" y1=\"130.993\" x2=\"329.289\" y2=\"179.289\" stroke-linecap=\"round\" style=\"stroke:white;stroke-width:4\"/><line x1=\"329.289\" y1=\"179.289\" x2=\"400.0\" y2=\"250.0\" stroke-linecap=\"round\" style=\"stroke:white;stroke-width:4\"/><line x1=\"400.0\" y1=\"250.0\" x2=\"309.369\" y2=\"207.738\" stroke-linecap=\"round\" style=\"stroke:white;stroke-width:4\"/><line x1=\"309.369\" y1=\"207.738\" x2=\"262.384\" y2=\"224.839\" stroke-linecap=\"round\" style=\"stroke:white;stroke-width:4\"/><line x1=\"262.384\" y1=\"224.839\" x2=\"251.819\" y2=\"247.497\" stroke-linecap=\"round\" style=\"stroke:white;stroke-width:4\"/><line x1=\"251.819\" y1=\"247.497\" x2=\"262.384\" y2=\"224.839\" stroke-linecap=\"round\" style=\"stroke:white;stroke-width:4\"/><line x1=\"262.384\" y1=\"224.839\" x2=\"260.205\" y2=\"249.744\" stroke-linecap=\"round\" style=\"stroke:white;stroke-width:4\"/><line x1=\"260.205\" y1=\"249.744\" x2=\"262.384\" y2=\"224.839\" stroke-linecap=\"round\" style=\"stroke:white;stroke-width:4\"/><line x1=\"262.384\" y1=\"224.839\" x2=\"237.764\" y2=\"229.18\" stroke-linecap=\"round\" style=\"stroke:white;stroke-width:4\"/><line x1=\"237.764\" y1=\"229.18\" x2=\"262.384\" y2=\"224.839\" stroke-linecap=\"round\" style=\"stroke:white;stroke-width:4\"/><line x1=\"262.384\" y1=\"224.839\" x2=\"237.764\" y2=\"220.498\" stroke-linecap=\"round\" style=\"stroke:white;stroke-width:4\"/><line x1=\"237.764\" y1=\"220.498\" x2=\"262.384\" y2=\"224.839\" stroke-linecap=\"round\" style=\"stroke:white;stroke-width:4\"/><line x1=\"262.384\" y1=\"224.839\" x2=\"309.369\" y2=\"207.738\" stroke-linecap=\"round\" style=\"stroke:white;stroke-width:4\"/><line x1=\"309.369\" y1=\"207.738\" x2=\"271.067\" y2=\"239.877\" stroke-linecap=\"round\" style=\"stroke:white;stroke-width:4\"/><line x1=\"271.067\" y1=\"239.877\" x2=\"268.888\" y2=\"264.782\" stroke-linecap=\"round\" style=\"stroke:white;stroke-width:4\"/><line x1=\"268.888\" y1=\"264.782\" x2=\"271.067\" y2=\"239.877\" stroke-linecap=\"round\" style=\"stroke:white;stroke-width:4\"/><line x1=\"271.067\" y1=\"239.877\" x2=\"277.537\" y2=\"264.025\" stroke-linecap=\"round\" style=\"stroke:white;stroke-width:4\"/><line x1=\"277.537\" y1=\"264.025\" x2=\"271.067\" y2=\"239.877\" stroke-linecap=\"round\" style=\"stroke:white;stroke-width:4\"/><line x1=\"271.067\" y1=\"239.877\" x2=\"249.416\" y2=\"252.377\" stroke-linecap=\"round\" style=\"stroke:white;stroke-width:4\"/><line x1=\"249.416\" y1=\"252.377\" x2=\"271.067\" y2=\"239.877\" stroke-linecap=\"round\" style=\"stroke:white;stroke-width:4\"/><line x1=\"271.067\" y1=\"239.877\" x2=\"246.447\" y2=\"244.218\" stroke-linecap=\"round\" style=\"stroke:white;stroke-width:4\"/><line x1=\"246.447\" y1=\"244.218\" x2=\"271.067\" y2=\"239.877\" stroke-linecap=\"round\" style=\"stroke:white;stroke-width:4\"/><line x1=\"271.067\" y1=\"239.877\" x2=\"309.369\" y2=\"207.738\" stroke-linecap=\"round\" style=\"stroke:white;stroke-width:4\"/><line x1=\"309.369\" y1=\"207.738\" x2=\"268.411\" y2=\"179.059\" stroke-linecap=\"round\" style=\"stroke:white;stroke-width:4\"/><line x1=\"268.411\" y1=\"179.059\" x2=\"243.791\" y2=\"183.4\" stroke-linecap=\"round\" style=\"stroke:white;stroke-width:4\"/><line x1=\"243.791\" y1=\"183.4\" x2=\"268.411\" y2=\"179.059\" stroke-linecap=\"round\" style=\"stroke:white;stroke-width:4\"/><line x1=\"268.411\" y1=\"179.059\" x2=\"246.76\" y2=\"191.559\" stroke-linecap=\"round\" style=\"stroke:white;stroke-width:4\"/><line x1=\"246.76\" y1=\"191.559\" x2=\"268.411\" y2=\"179.059\" stroke-linecap=\"round\" style=\"stroke:white;stroke-width:4\"/><line x1=\"268.411\" y1=\"179.059\" x2=\"250.733\" y2=\"161.381\" stroke-linecap=\"round\" style=\"stroke:white;stroke-width:4\"/><line x1=\"250.733\" y1=\"161.381\" x2=\"268.411\" y2=\"179.059\" stroke-linecap=\"round\" style=\"stroke:white;stroke-width:4\"/><line x1=\"268.411\" y1=\"179.059\" x2=\"257.846\" y2=\"156.401\" stroke-linecap=\"round\" style=\"stroke:white;stroke-width:4\"/><line x1=\"257.846\" y1=\"156.401\" x2=\"268.411\" y2=\"179.059\" stroke-linecap=\"round\" style=\"stroke:white;stroke-width:4\"/><line x1=\"268.411\" y1=\"179.059\" x2=\"309.369\" y2=\"207.738\" stroke-linecap=\"round\" style=\"stroke:white;stroke-width:4\"/><line x1=\"309.369\" y1=\"207.738\" x2=\"280.69\" y2=\"166.78\" stroke-linecap=\"round\" style=\"stroke:white;stroke-width:4\"/><line x1=\"280.69\" y1=\"166.78\" x2=\"256.07\" y2=\"162.439\" stroke-linecap=\"round\" style=\"stroke:white;stroke-width:4\"/><line x1=\"256.07\" y1=\"162.439\" x2=\"280.69\" y2=\"166.78\" stroke-linecap=\"round\" style=\"stroke:white;stroke-width:4\"/><line x1=\"280.69\" y1=\"166.78\" x2=\"256.07\" y2=\"171.121\" stroke-linecap=\"round\" style=\"stroke:white;stroke-width:4\"/><line x1=\"256.07\" y1=\"171.121\" x2=\"280.69\" y2=\"166.78\" stroke-linecap=\"round\" style=\"stroke:white;stroke-width:4\"/><line x1=\"280.69\" y1=\"166.78\" x2=\"270.125\" y2=\"144.122\" stroke-linecap=\"round\" style=\"stroke:white;stroke-width:4\"/><line x1=\"270.125\" y1=\"144.122\" x2=\"280.69\" y2=\"166.78\" stroke-linecap=\"round\" style=\"stroke:white;stroke-width:4\"/><line x1=\"280.69\" y1=\"166.78\" x2=\"278.511\" y2=\"141.875\" stroke-linecap=\"round\" style=\"stroke:white;stroke-width:4\"/><line x1=\"278.511\" y1=\"141.875\" x2=\"280.69\" y2=\"166.78\" stroke-linecap=\"round\" style=\"stroke:white;stroke-width:4\"/><line x1=\"280.69\" y1=\"166.78\" x2=\"309.369\" y2=\"207.738\" stroke-linecap=\"round\" style=\"stroke:white;stroke-width:4\"/><line x1=\"309.369\" y1=\"207.738\" x2=\"400.0\" y2=\"250.0\" stroke-linecap=\"round\" style=\"stroke:white;stroke-width:4\"/><line x1=\"400.0\" y1=\"250.0\" x2=\"417.365\" y2=\"151.519\" stroke-linecap=\"round\" style=\"stroke:white;stroke-width:4\"/><line x1=\"417.365\" y1=\"151.519\" x2=\"388.686\" y2=\"110.561\" stroke-linecap=\"round\" style=\"stroke:white;stroke-width:4\"/><line x1=\"388.686\" y1=\"110.561\" x2=\"364.066\" y2=\"106.22\" stroke-linecap=\"round\" style=\"stroke:white;stroke-width:4\"/><line x1=\"364.066\" y1=\"106.22\" x2=\"388.686\" y2=\"110.561\" stroke-linecap=\"round\" style=\"stroke:white;stroke-width:4\"/><line x1=\"388.686\" y1=\"110.561\" x2=\"364.066\" y2=\"114.902\" stroke-linecap=\"round\" style=\"stroke:white;stroke-width:4\"/><line x1=\"364.066\" y1=\"114.902\" x2=\"388.686\" y2=\"110.561\" stroke-linecap=\"round\" style=\"stroke:white;stroke-width:4\"/><line x1=\"388.686\" y1=\"110.561\" x2=\"378.121\" y2=\"87.903\" stroke-linecap=\"round\" style=\"stroke:white;stroke-width:4\"/><line x1=\"378.121\" y1=\"87.903\" x2=\"388.686\" y2=\"110.561\" stroke-linecap=\"round\" style=\"stroke:white;stroke-width:4\"/><line x1=\"388.686\" y1=\"110.561\" x2=\"386.507\" y2=\"85.656\" stroke-linecap=\"round\" style=\"stroke:white;stroke-width:4\"/><line x1=\"386.507\" y1=\"85.656\" x2=\"388.686\" y2=\"110.561\" stroke-linecap=\"round\" style=\"stroke:white;stroke-width:4\"/><line x1=\"388.686\" y1=\"110.561\" x2=\"417.365\" y2=\"151.519\" stroke-linecap=\"round\" style=\"stroke:white;stroke-width:4\"/><line x1=\"417.365\" y1=\"151.519\" x2=\"376.407\" y2=\"122.84\" stroke-linecap=\"round\" style=\"stroke:white;stroke-width:4\"/><line x1=\"376.407\" y1=\"122.84\" x2=\"351.787\" y2=\"127.181\" stroke-linecap=\"round\" style=\"stroke:white;stroke-width:4\"/><line x1=\"351.787\" y1=\"127.181\" x2=\"376.407\" y2=\"122.84\" stroke-linecap=\"round\" style=\"stroke:white;stroke-width:4\"/><line x1=\"376.407\" y1=\"122.84\" x2=\"354.756\" y2=\"135.34\" stroke-linecap=\"round\" style=\"stroke:white;stroke-width:4\"/><line x1=\"354.756\" y1=\"135.34\" x2=\"376.407\" y2=\"122.84\" stroke-linecap=\"round\" style=\"stroke:white;stroke-width:4\"/><line x1=\"376.407\" y1=\"122.84\" x2=\"358.729\" y2=\"105.162\" stroke-linecap=\"round\" style=\"stroke:white;stroke-width:4\"/><line x1=\"358.729\" y1=\"105.162\" x2=\"376.407\" y2=\"122.84\" stroke-linecap=\"round\" style=\"stroke:white;stroke-width:4\"/><line x1=\"376.407\" y1=\"122.84\" x2=\"365.842\" y2=\"100.182\" stroke-linecap=\"round\" style=\"stroke:white;stroke-width:4\"/><line x1=\"365.842\" y1=\"100.182\" x2=\"376.407\" y2=\"122.84\" stroke-linecap=\"round\" style=\"stroke:white;stroke-width:4\"/><line x1=\"376.407\" y1=\"122.84\" x2=\"417.365\" y2=\"151.519\" stroke-linecap=\"round\" style=\"stroke:white;stroke-width:4\"/><line x1=\"417.365\" y1=\"151.519\" x2=\"434.466\" y2=\"104.534\" stroke-linecap=\"round\" style=\"stroke:white;stroke-width:4\"/>\n",
              "        <g visibility=visible transform=\"rotate(380,434.466,104.534) translate(416.466, 86.534)\">\n",
              "<path style=\" stroke:none;fill-rule:evenodd;fill:white;fill-opacity:1;\" d=\"M 18.214844 0.632812 C 16.109375 1.800781 15.011719 4.074219 15.074219 7.132812 L 15.085938 7.652344 L 14.785156 7.496094 C 13.476562 6.824219 11.957031 6.671875 10.40625 7.066406 C 8.46875 7.550781 6.515625 9.15625 4.394531 11.992188 C 3.0625 13.777344 2.679688 14.636719 3.042969 15.027344 L 3.15625 15.152344 L 3.519531 15.152344 C 4.238281 15.152344 4.828125 14.886719 8.1875 13.039062 C 9.386719 12.378906 10.371094 11.839844 10.378906 11.839844 C 10.386719 11.839844 10.355469 11.929688 10.304688 12.035156 C 9.832031 13.09375 9.257812 14.820312 8.96875 16.078125 C 7.914062 20.652344 8.617188 24.53125 11.070312 27.660156 C 11.351562 28.015625 11.363281 27.914062 10.972656 28.382812 C 8.925781 30.84375 7.945312 33.28125 8.238281 35.1875 C 8.289062 35.527344 8.28125 35.523438 8.917969 35.523438 C 10.941406 35.523438 13.074219 34.207031 15.136719 31.6875 C 15.359375 31.417969 15.328125 31.425781 15.5625 31.574219 C 16.292969 32.042969 18.023438 32.964844 18.175781 32.964844 C 18.335938 32.964844 19.941406 32.210938 20.828125 31.71875 C 20.996094 31.625 21.136719 31.554688 21.136719 31.558594 C 21.203125 31.664062 21.898438 32.414062 22.222656 32.730469 C 23.835938 34.300781 25.5625 35.132812 27.582031 35.300781 C 27.90625 35.328125 27.9375 35.308594 28.007812 34.984375 C 28.382812 33.242188 27.625 30.925781 25.863281 28.425781 L 25.542969 27.96875 L 25.699219 27.785156 C 28.945312 23.960938 29.132812 18.699219 26.257812 11.96875 L 26.207031 11.84375 L 27.945312 12.703125 C 31.53125 14.476562 32.316406 14.800781 33.03125 14.800781 C 33.976562 14.800781 33.78125 13.9375 32.472656 12.292969 C 28.519531 7.355469 25.394531 5.925781 21.921875 7.472656 L 21.558594 7.636719 L 21.578125 7.542969 C 21.699219 6.992188 21.761719 5.742188 21.699219 5.164062 C 21.496094 3.296875 20.664062 1.964844 19.003906 0.855469 C 18.480469 0.503906 18.457031 0.5 18.214844 0.632812\"/>\n",
              "</g>\n",
              "      </svg>\n",
              "    "
            ],
            "text/plain": [
              "<IPython.core.display.HTML object>"
            ]
          },
          "metadata": {},
          "output_type": "display_data"
        },
        {
          "output_type": "display_data",
          "data": {
            "text/html": [
              "\n",
              "      <svg width=\"800\" height=\"500\">\n",
              "        <rect width=\"100%\" height=\"100%\" fill=\"black\"/>\n",
              "        <line x1=\"400\" y1=\"250\" x2=\"400.0\" y2=\"450.0\" stroke-linecap=\"round\" style=\"stroke:white;stroke-width:4\"/><line x1=\"400.0\" y1=\"450.0\" x2=\"400.0\" y2=\"250.0\" stroke-linecap=\"round\" style=\"stroke:white;stroke-width:4\"/><line x1=\"400.0\" y1=\"250.0\" x2=\"329.289\" y2=\"179.289\" stroke-linecap=\"round\" style=\"stroke:white;stroke-width:4\"/><line x1=\"329.289\" y1=\"179.289\" x2=\"279.289\" y2=\"179.289\" stroke-linecap=\"round\" style=\"stroke:white;stroke-width:4\"/><line x1=\"279.289\" y1=\"179.289\" x2=\"261.611\" y2=\"196.967\" stroke-linecap=\"round\" style=\"stroke:white;stroke-width:4\"/><line x1=\"261.611\" y1=\"196.967\" x2=\"279.289\" y2=\"179.289\" stroke-linecap=\"round\" style=\"stroke:white;stroke-width:4\"/><line x1=\"279.289\" y1=\"179.289\" x2=\"268.724\" y2=\"201.947\" stroke-linecap=\"round\" style=\"stroke:white;stroke-width:4\"/><line x1=\"268.724\" y1=\"201.947\" x2=\"279.289\" y2=\"179.289\" stroke-linecap=\"round\" style=\"stroke:white;stroke-width:4\"/><line x1=\"279.289\" y1=\"179.289\" x2=\"254.669\" y2=\"174.948\" stroke-linecap=\"round\" style=\"stroke:white;stroke-width:4\"/><line x1=\"254.669\" y1=\"174.948\" x2=\"279.289\" y2=\"179.289\" stroke-linecap=\"round\" style=\"stroke:white;stroke-width:4\"/><line x1=\"279.289\" y1=\"179.289\" x2=\"257.638\" y2=\"166.789\" stroke-linecap=\"round\" style=\"stroke:white;stroke-width:4\"/><line x1=\"257.638\" y1=\"166.789\" x2=\"279.289\" y2=\"179.289\" stroke-linecap=\"round\" style=\"stroke:white;stroke-width:4\"/><line x1=\"279.289\" y1=\"179.289\" x2=\"329.289\" y2=\"179.289\" stroke-linecap=\"round\" style=\"stroke:white;stroke-width:4\"/><line x1=\"329.289\" y1=\"179.289\" x2=\"282.304\" y2=\"196.39\" stroke-linecap=\"round\" style=\"stroke:white;stroke-width:4\"/><line x1=\"282.304\" y1=\"196.39\" x2=\"271.739\" y2=\"219.048\" stroke-linecap=\"round\" style=\"stroke:white;stroke-width:4\"/><line x1=\"271.739\" y1=\"219.048\" x2=\"282.304\" y2=\"196.39\" stroke-linecap=\"round\" style=\"stroke:white;stroke-width:4\"/><line x1=\"282.304\" y1=\"196.39\" x2=\"280.125\" y2=\"221.295\" stroke-linecap=\"round\" style=\"stroke:white;stroke-width:4\"/><line x1=\"280.125\" y1=\"221.295\" x2=\"282.304\" y2=\"196.39\" stroke-linecap=\"round\" style=\"stroke:white;stroke-width:4\"/><line x1=\"282.304\" y1=\"196.39\" x2=\"257.684\" y2=\"200.731\" stroke-linecap=\"round\" style=\"stroke:white;stroke-width:4\"/><line x1=\"257.684\" y1=\"200.731\" x2=\"282.304\" y2=\"196.39\" stroke-linecap=\"round\" style=\"stroke:white;stroke-width:4\"/><line x1=\"282.304\" y1=\"196.39\" x2=\"257.684\" y2=\"192.049\" stroke-linecap=\"round\" style=\"stroke:white;stroke-width:4\"/><line x1=\"257.684\" y1=\"192.049\" x2=\"282.304\" y2=\"196.39\" stroke-linecap=\"round\" style=\"stroke:white;stroke-width:4\"/><line x1=\"282.304\" y1=\"196.39\" x2=\"329.289\" y2=\"179.289\" stroke-linecap=\"round\" style=\"stroke:white;stroke-width:4\"/><line x1=\"329.289\" y1=\"179.289\" x2=\"300.61\" y2=\"138.331\" stroke-linecap=\"round\" style=\"stroke:white;stroke-width:4\"/><line x1=\"300.61\" y1=\"138.331\" x2=\"275.99\" y2=\"133.99\" stroke-linecap=\"round\" style=\"stroke:white;stroke-width:4\"/><line x1=\"275.99\" y1=\"133.99\" x2=\"300.61\" y2=\"138.331\" stroke-linecap=\"round\" style=\"stroke:white;stroke-width:4\"/><line x1=\"300.61\" y1=\"138.331\" x2=\"275.99\" y2=\"142.672\" stroke-linecap=\"round\" style=\"stroke:white;stroke-width:4\"/><line x1=\"275.99\" y1=\"142.672\" x2=\"300.61\" y2=\"138.331\" stroke-linecap=\"round\" style=\"stroke:white;stroke-width:4\"/><line x1=\"300.61\" y1=\"138.331\" x2=\"290.045\" y2=\"115.673\" stroke-linecap=\"round\" style=\"stroke:white;stroke-width:4\"/><line x1=\"290.045\" y1=\"115.673\" x2=\"300.61\" y2=\"138.331\" stroke-linecap=\"round\" style=\"stroke:white;stroke-width:4\"/><line x1=\"300.61\" y1=\"138.331\" x2=\"298.431\" y2=\"113.426\" stroke-linecap=\"round\" style=\"stroke:white;stroke-width:4\"/><line x1=\"298.431\" y1=\"113.426\" x2=\"300.61\" y2=\"138.331\" stroke-linecap=\"round\" style=\"stroke:white;stroke-width:4\"/><line x1=\"300.61\" y1=\"138.331\" x2=\"329.289\" y2=\"179.289\" stroke-linecap=\"round\" style=\"stroke:white;stroke-width:4\"/><line x1=\"329.289\" y1=\"179.289\" x2=\"316.348\" y2=\"130.993\" stroke-linecap=\"round\" style=\"stroke:white;stroke-width:4\"/><line x1=\"316.348\" y1=\"130.993\" x2=\"294.697\" y2=\"118.493\" stroke-linecap=\"round\" style=\"stroke:white;stroke-width:4\"/><line x1=\"294.697\" y1=\"118.493\" x2=\"316.348\" y2=\"130.993\" stroke-linecap=\"round\" style=\"stroke:white;stroke-width:4\"/><line x1=\"316.348\" y1=\"130.993\" x2=\"291.728\" y2=\"126.652\" stroke-linecap=\"round\" style=\"stroke:white;stroke-width:4\"/><line x1=\"291.728\" y1=\"126.652\" x2=\"316.348\" y2=\"130.993\" stroke-linecap=\"round\" style=\"stroke:white;stroke-width:4\"/><line x1=\"316.348\" y1=\"130.993\" x2=\"314.169\" y2=\"106.088\" stroke-linecap=\"round\" style=\"stroke:white;stroke-width:4\"/><line x1=\"314.169\" y1=\"106.088\" x2=\"316.348\" y2=\"130.993\" stroke-linecap=\"round\" style=\"stroke:white;stroke-width:4\"/><line x1=\"316.348\" y1=\"130.993\" x2=\"322.818\" y2=\"106.845\" stroke-linecap=\"round\" style=\"stroke:white;stroke-width:4\"/><line x1=\"322.818\" y1=\"106.845\" x2=\"316.348\" y2=\"130.993\" stroke-linecap=\"round\" style=\"stroke:white;stroke-width:4\"/><line x1=\"316.348\" y1=\"130.993\" x2=\"329.289\" y2=\"179.289\" stroke-linecap=\"round\" style=\"stroke:white;stroke-width:4\"/><line x1=\"329.289\" y1=\"179.289\" x2=\"400.0\" y2=\"250.0\" stroke-linecap=\"round\" style=\"stroke:white;stroke-width:4\"/><line x1=\"400.0\" y1=\"250.0\" x2=\"309.369\" y2=\"207.738\" stroke-linecap=\"round\" style=\"stroke:white;stroke-width:4\"/><line x1=\"309.369\" y1=\"207.738\" x2=\"262.384\" y2=\"224.839\" stroke-linecap=\"round\" style=\"stroke:white;stroke-width:4\"/><line x1=\"262.384\" y1=\"224.839\" x2=\"251.819\" y2=\"247.497\" stroke-linecap=\"round\" style=\"stroke:white;stroke-width:4\"/><line x1=\"251.819\" y1=\"247.497\" x2=\"262.384\" y2=\"224.839\" stroke-linecap=\"round\" style=\"stroke:white;stroke-width:4\"/><line x1=\"262.384\" y1=\"224.839\" x2=\"260.205\" y2=\"249.744\" stroke-linecap=\"round\" style=\"stroke:white;stroke-width:4\"/><line x1=\"260.205\" y1=\"249.744\" x2=\"262.384\" y2=\"224.839\" stroke-linecap=\"round\" style=\"stroke:white;stroke-width:4\"/><line x1=\"262.384\" y1=\"224.839\" x2=\"237.764\" y2=\"229.18\" stroke-linecap=\"round\" style=\"stroke:white;stroke-width:4\"/><line x1=\"237.764\" y1=\"229.18\" x2=\"262.384\" y2=\"224.839\" stroke-linecap=\"round\" style=\"stroke:white;stroke-width:4\"/><line x1=\"262.384\" y1=\"224.839\" x2=\"237.764\" y2=\"220.498\" stroke-linecap=\"round\" style=\"stroke:white;stroke-width:4\"/><line x1=\"237.764\" y1=\"220.498\" x2=\"262.384\" y2=\"224.839\" stroke-linecap=\"round\" style=\"stroke:white;stroke-width:4\"/><line x1=\"262.384\" y1=\"224.839\" x2=\"309.369\" y2=\"207.738\" stroke-linecap=\"round\" style=\"stroke:white;stroke-width:4\"/><line x1=\"309.369\" y1=\"207.738\" x2=\"271.067\" y2=\"239.877\" stroke-linecap=\"round\" style=\"stroke:white;stroke-width:4\"/><line x1=\"271.067\" y1=\"239.877\" x2=\"268.888\" y2=\"264.782\" stroke-linecap=\"round\" style=\"stroke:white;stroke-width:4\"/><line x1=\"268.888\" y1=\"264.782\" x2=\"271.067\" y2=\"239.877\" stroke-linecap=\"round\" style=\"stroke:white;stroke-width:4\"/><line x1=\"271.067\" y1=\"239.877\" x2=\"277.537\" y2=\"264.025\" stroke-linecap=\"round\" style=\"stroke:white;stroke-width:4\"/><line x1=\"277.537\" y1=\"264.025\" x2=\"271.067\" y2=\"239.877\" stroke-linecap=\"round\" style=\"stroke:white;stroke-width:4\"/><line x1=\"271.067\" y1=\"239.877\" x2=\"249.416\" y2=\"252.377\" stroke-linecap=\"round\" style=\"stroke:white;stroke-width:4\"/><line x1=\"249.416\" y1=\"252.377\" x2=\"271.067\" y2=\"239.877\" stroke-linecap=\"round\" style=\"stroke:white;stroke-width:4\"/><line x1=\"271.067\" y1=\"239.877\" x2=\"246.447\" y2=\"244.218\" stroke-linecap=\"round\" style=\"stroke:white;stroke-width:4\"/><line x1=\"246.447\" y1=\"244.218\" x2=\"271.067\" y2=\"239.877\" stroke-linecap=\"round\" style=\"stroke:white;stroke-width:4\"/><line x1=\"271.067\" y1=\"239.877\" x2=\"309.369\" y2=\"207.738\" stroke-linecap=\"round\" style=\"stroke:white;stroke-width:4\"/><line x1=\"309.369\" y1=\"207.738\" x2=\"268.411\" y2=\"179.059\" stroke-linecap=\"round\" style=\"stroke:white;stroke-width:4\"/><line x1=\"268.411\" y1=\"179.059\" x2=\"243.791\" y2=\"183.4\" stroke-linecap=\"round\" style=\"stroke:white;stroke-width:4\"/><line x1=\"243.791\" y1=\"183.4\" x2=\"268.411\" y2=\"179.059\" stroke-linecap=\"round\" style=\"stroke:white;stroke-width:4\"/><line x1=\"268.411\" y1=\"179.059\" x2=\"246.76\" y2=\"191.559\" stroke-linecap=\"round\" style=\"stroke:white;stroke-width:4\"/><line x1=\"246.76\" y1=\"191.559\" x2=\"268.411\" y2=\"179.059\" stroke-linecap=\"round\" style=\"stroke:white;stroke-width:4\"/><line x1=\"268.411\" y1=\"179.059\" x2=\"250.733\" y2=\"161.381\" stroke-linecap=\"round\" style=\"stroke:white;stroke-width:4\"/><line x1=\"250.733\" y1=\"161.381\" x2=\"268.411\" y2=\"179.059\" stroke-linecap=\"round\" style=\"stroke:white;stroke-width:4\"/><line x1=\"268.411\" y1=\"179.059\" x2=\"257.846\" y2=\"156.401\" stroke-linecap=\"round\" style=\"stroke:white;stroke-width:4\"/><line x1=\"257.846\" y1=\"156.401\" x2=\"268.411\" y2=\"179.059\" stroke-linecap=\"round\" style=\"stroke:white;stroke-width:4\"/><line x1=\"268.411\" y1=\"179.059\" x2=\"309.369\" y2=\"207.738\" stroke-linecap=\"round\" style=\"stroke:white;stroke-width:4\"/><line x1=\"309.369\" y1=\"207.738\" x2=\"280.69\" y2=\"166.78\" stroke-linecap=\"round\" style=\"stroke:white;stroke-width:4\"/><line x1=\"280.69\" y1=\"166.78\" x2=\"256.07\" y2=\"162.439\" stroke-linecap=\"round\" style=\"stroke:white;stroke-width:4\"/><line x1=\"256.07\" y1=\"162.439\" x2=\"280.69\" y2=\"166.78\" stroke-linecap=\"round\" style=\"stroke:white;stroke-width:4\"/><line x1=\"280.69\" y1=\"166.78\" x2=\"256.07\" y2=\"171.121\" stroke-linecap=\"round\" style=\"stroke:white;stroke-width:4\"/><line x1=\"256.07\" y1=\"171.121\" x2=\"280.69\" y2=\"166.78\" stroke-linecap=\"round\" style=\"stroke:white;stroke-width:4\"/><line x1=\"280.69\" y1=\"166.78\" x2=\"270.125\" y2=\"144.122\" stroke-linecap=\"round\" style=\"stroke:white;stroke-width:4\"/><line x1=\"270.125\" y1=\"144.122\" x2=\"280.69\" y2=\"166.78\" stroke-linecap=\"round\" style=\"stroke:white;stroke-width:4\"/><line x1=\"280.69\" y1=\"166.78\" x2=\"278.511\" y2=\"141.875\" stroke-linecap=\"round\" style=\"stroke:white;stroke-width:4\"/><line x1=\"278.511\" y1=\"141.875\" x2=\"280.69\" y2=\"166.78\" stroke-linecap=\"round\" style=\"stroke:white;stroke-width:4\"/><line x1=\"280.69\" y1=\"166.78\" x2=\"309.369\" y2=\"207.738\" stroke-linecap=\"round\" style=\"stroke:white;stroke-width:4\"/><line x1=\"309.369\" y1=\"207.738\" x2=\"400.0\" y2=\"250.0\" stroke-linecap=\"round\" style=\"stroke:white;stroke-width:4\"/><line x1=\"400.0\" y1=\"250.0\" x2=\"417.365\" y2=\"151.519\" stroke-linecap=\"round\" style=\"stroke:white;stroke-width:4\"/><line x1=\"417.365\" y1=\"151.519\" x2=\"388.686\" y2=\"110.561\" stroke-linecap=\"round\" style=\"stroke:white;stroke-width:4\"/><line x1=\"388.686\" y1=\"110.561\" x2=\"364.066\" y2=\"106.22\" stroke-linecap=\"round\" style=\"stroke:white;stroke-width:4\"/><line x1=\"364.066\" y1=\"106.22\" x2=\"388.686\" y2=\"110.561\" stroke-linecap=\"round\" style=\"stroke:white;stroke-width:4\"/><line x1=\"388.686\" y1=\"110.561\" x2=\"364.066\" y2=\"114.902\" stroke-linecap=\"round\" style=\"stroke:white;stroke-width:4\"/><line x1=\"364.066\" y1=\"114.902\" x2=\"388.686\" y2=\"110.561\" stroke-linecap=\"round\" style=\"stroke:white;stroke-width:4\"/><line x1=\"388.686\" y1=\"110.561\" x2=\"378.121\" y2=\"87.903\" stroke-linecap=\"round\" style=\"stroke:white;stroke-width:4\"/><line x1=\"378.121\" y1=\"87.903\" x2=\"388.686\" y2=\"110.561\" stroke-linecap=\"round\" style=\"stroke:white;stroke-width:4\"/><line x1=\"388.686\" y1=\"110.561\" x2=\"386.507\" y2=\"85.656\" stroke-linecap=\"round\" style=\"stroke:white;stroke-width:4\"/><line x1=\"386.507\" y1=\"85.656\" x2=\"388.686\" y2=\"110.561\" stroke-linecap=\"round\" style=\"stroke:white;stroke-width:4\"/><line x1=\"388.686\" y1=\"110.561\" x2=\"417.365\" y2=\"151.519\" stroke-linecap=\"round\" style=\"stroke:white;stroke-width:4\"/><line x1=\"417.365\" y1=\"151.519\" x2=\"376.407\" y2=\"122.84\" stroke-linecap=\"round\" style=\"stroke:white;stroke-width:4\"/><line x1=\"376.407\" y1=\"122.84\" x2=\"351.787\" y2=\"127.181\" stroke-linecap=\"round\" style=\"stroke:white;stroke-width:4\"/><line x1=\"351.787\" y1=\"127.181\" x2=\"376.407\" y2=\"122.84\" stroke-linecap=\"round\" style=\"stroke:white;stroke-width:4\"/><line x1=\"376.407\" y1=\"122.84\" x2=\"354.756\" y2=\"135.34\" stroke-linecap=\"round\" style=\"stroke:white;stroke-width:4\"/><line x1=\"354.756\" y1=\"135.34\" x2=\"376.407\" y2=\"122.84\" stroke-linecap=\"round\" style=\"stroke:white;stroke-width:4\"/><line x1=\"376.407\" y1=\"122.84\" x2=\"358.729\" y2=\"105.162\" stroke-linecap=\"round\" style=\"stroke:white;stroke-width:4\"/><line x1=\"358.729\" y1=\"105.162\" x2=\"376.407\" y2=\"122.84\" stroke-linecap=\"round\" style=\"stroke:white;stroke-width:4\"/><line x1=\"376.407\" y1=\"122.84\" x2=\"365.842\" y2=\"100.182\" stroke-linecap=\"round\" style=\"stroke:white;stroke-width:4\"/><line x1=\"365.842\" y1=\"100.182\" x2=\"376.407\" y2=\"122.84\" stroke-linecap=\"round\" style=\"stroke:white;stroke-width:4\"/><line x1=\"376.407\" y1=\"122.84\" x2=\"417.365\" y2=\"151.519\" stroke-linecap=\"round\" style=\"stroke:white;stroke-width:4\"/><line x1=\"417.365\" y1=\"151.519\" x2=\"434.466\" y2=\"104.534\" stroke-linecap=\"round\" style=\"stroke:white;stroke-width:4\"/><line x1=\"434.466\" y1=\"104.534\" x2=\"423.901\" y2=\"81.876\" stroke-linecap=\"round\" style=\"stroke:white;stroke-width:4\"/><line x1=\"423.901\" y1=\"81.876\" x2=\"434.466\" y2=\"104.534\" stroke-linecap=\"round\" style=\"stroke:white;stroke-width:4\"/><line x1=\"434.466\" y1=\"104.534\" x2=\"416.788\" y2=\"86.856\" stroke-linecap=\"round\" style=\"stroke:white;stroke-width:4\"/><line x1=\"416.788\" y1=\"86.856\" x2=\"434.466\" y2=\"104.534\" stroke-linecap=\"round\" style=\"stroke:white;stroke-width:4\"/><line x1=\"434.466\" y1=\"104.534\" x2=\"446.966\" y2=\"82.883\" stroke-linecap=\"round\" style=\"stroke:white;stroke-width:4\"/><line x1=\"446.966\" y1=\"82.883\" x2=\"434.466\" y2=\"104.534\" stroke-linecap=\"round\" style=\"stroke:white;stroke-width:4\"/><line x1=\"434.466\" y1=\"104.534\" x2=\"453.617\" y2=\"88.464\" stroke-linecap=\"round\" style=\"stroke:white;stroke-width:4\"/><line x1=\"453.617\" y1=\"88.464\" x2=\"434.466\" y2=\"104.534\" stroke-linecap=\"round\" style=\"stroke:white;stroke-width:4\"/><line x1=\"434.466\" y1=\"104.534\" x2=\"417.365\" y2=\"151.519\" stroke-linecap=\"round\" style=\"stroke:white;stroke-width:4\"/><line x1=\"417.365\" y1=\"151.519\" x2=\"449.504\" y2=\"113.217\" stroke-linecap=\"round\" style=\"stroke:white;stroke-width:4\"/><line x1=\"449.504\" y1=\"113.217\" x2=\"447.325\" y2=\"88.312\" stroke-linecap=\"round\" style=\"stroke:white;stroke-width:4\"/><line x1=\"447.325\" y1=\"88.312\" x2=\"449.504\" y2=\"113.217\" stroke-linecap=\"round\" style=\"stroke:white;stroke-width:4\"/><line x1=\"449.504\" y1=\"113.217\" x2=\"438.939\" y2=\"90.559\" stroke-linecap=\"round\" style=\"stroke:white;stroke-width:4\"/><line x1=\"438.939\" y1=\"90.559\" x2=\"449.504\" y2=\"113.217\" stroke-linecap=\"round\" style=\"stroke:white;stroke-width:4\"/><line x1=\"449.504\" y1=\"113.217\" x2=\"468.655\" y2=\"97.147\" stroke-linecap=\"round\" style=\"stroke:white;stroke-width:4\"/><line x1=\"468.655\" y1=\"97.147\" x2=\"449.504\" y2=\"113.217\" stroke-linecap=\"round\" style=\"stroke:white;stroke-width:4\"/><line x1=\"449.504\" y1=\"113.217\" x2=\"472.996\" y2=\"104.666\" stroke-linecap=\"round\" style=\"stroke:white;stroke-width:4\"/><line x1=\"472.996\" y1=\"104.666\" x2=\"449.504\" y2=\"113.217\" stroke-linecap=\"round\" style=\"stroke:white;stroke-width:4\"/><line x1=\"449.504\" y1=\"113.217\" x2=\"417.365\" y2=\"151.519\" stroke-linecap=\"round\" style=\"stroke:white;stroke-width:4\"/><line x1=\"417.365\" y1=\"151.519\" x2=\"400.0\" y2=\"250.0\" stroke-linecap=\"round\" style=\"stroke:white;stroke-width:4\"/><line x1=\"400.0\" y1=\"250.0\" x2=\"450.0\" y2=\"163.397\" stroke-linecap=\"round\" style=\"stroke:white;stroke-width:4\"/><line x1=\"450.0\" y1=\"163.397\" x2=\"437.059\" y2=\"115.101\" stroke-linecap=\"round\" style=\"stroke:white;stroke-width:4\"/><line x1=\"437.059\" y1=\"115.101\" x2=\"415.408\" y2=\"102.601\" stroke-linecap=\"round\" style=\"stroke:white;stroke-width:4\"/><line x1=\"415.408\" y1=\"102.601\" x2=\"437.059\" y2=\"115.101\" stroke-linecap=\"round\" style=\"stroke:white;stroke-width:4\"/><line x1=\"437.059\" y1=\"115.101\" x2=\"412.439\" y2=\"110.76\" stroke-linecap=\"round\" style=\"stroke:white;stroke-width:4\"/><line x1=\"412.439\" y1=\"110.76\" x2=\"437.059\" y2=\"115.101\" stroke-linecap=\"round\" style=\"stroke:white;stroke-width:4\"/><line x1=\"437.059\" y1=\"115.101\" x2=\"434.88\" y2=\"90.196\" stroke-linecap=\"round\" style=\"stroke:white;stroke-width:4\"/><line x1=\"434.88\" y1=\"90.196\" x2=\"437.059\" y2=\"115.101\" stroke-linecap=\"round\" style=\"stroke:white;stroke-width:4\"/><line x1=\"437.059\" y1=\"115.101\" x2=\"443.529\" y2=\"90.953\" stroke-linecap=\"round\" style=\"stroke:white;stroke-width:4\"/><line x1=\"443.529\" y1=\"90.953\" x2=\"437.059\" y2=\"115.101\" stroke-linecap=\"round\" style=\"stroke:white;stroke-width:4\"/><line x1=\"437.059\" y1=\"115.101\" x2=\"450.0\" y2=\"163.397\" stroke-linecap=\"round\" style=\"stroke:white;stroke-width:4\"/><line x1=\"450.0\" y1=\"163.397\" x2=\"421.321\" y2=\"122.439\" stroke-linecap=\"round\" style=\"stroke:white;stroke-width:4\"/><line x1=\"421.321\" y1=\"122.439\" x2=\"396.701\" y2=\"118.098\" stroke-linecap=\"round\" style=\"stroke:white;stroke-width:4\"/><line x1=\"396.701\" y1=\"118.098\" x2=\"421.321\" y2=\"122.439\" stroke-linecap=\"round\" style=\"stroke:white;stroke-width:4\"/><line x1=\"421.321\" y1=\"122.439\" x2=\"396.701\" y2=\"126.78\" stroke-linecap=\"round\" style=\"stroke:white;stroke-width:4\"/><line x1=\"396.701\" y1=\"126.78\" x2=\"421.321\" y2=\"122.439\" stroke-linecap=\"round\" style=\"stroke:white;stroke-width:4\"/><line x1=\"421.321\" y1=\"122.439\" x2=\"410.756\" y2=\"99.781\" stroke-linecap=\"round\" style=\"stroke:white;stroke-width:4\"/><line x1=\"410.756\" y1=\"99.781\" x2=\"421.321\" y2=\"122.439\" stroke-linecap=\"round\" style=\"stroke:white;stroke-width:4\"/><line x1=\"421.321\" y1=\"122.439\" x2=\"419.142\" y2=\"97.534\" stroke-linecap=\"round\" style=\"stroke:white;stroke-width:4\"/><line x1=\"419.142\" y1=\"97.534\" x2=\"421.321\" y2=\"122.439\" stroke-linecap=\"round\" style=\"stroke:white;stroke-width:4\"/><line x1=\"421.321\" y1=\"122.439\" x2=\"450.0\" y2=\"163.397\" stroke-linecap=\"round\" style=\"stroke:white;stroke-width:4\"/><line x1=\"450.0\" y1=\"163.397\" x2=\"482.139\" y2=\"125.095\" stroke-linecap=\"round\" style=\"stroke:white;stroke-width:4\"/><line x1=\"482.139\" y1=\"125.095\" x2=\"479.96\" y2=\"100.19\" stroke-linecap=\"round\" style=\"stroke:white;stroke-width:4\"/><line x1=\"479.96\" y1=\"100.19\" x2=\"482.139\" y2=\"125.095\" stroke-linecap=\"round\" style=\"stroke:white;stroke-width:4\"/><line x1=\"482.139\" y1=\"125.095\" x2=\"471.574\" y2=\"102.437\" stroke-linecap=\"round\" style=\"stroke:white;stroke-width:4\"/><line x1=\"471.574\" y1=\"102.437\" x2=\"482.139\" y2=\"125.095\" stroke-linecap=\"round\" style=\"stroke:white;stroke-width:4\"/><line x1=\"482.139\" y1=\"125.095\" x2=\"501.29\" y2=\"109.025\" stroke-linecap=\"round\" style=\"stroke:white;stroke-width:4\"/><line x1=\"501.29\" y1=\"109.025\" x2=\"482.139\" y2=\"125.095\" stroke-linecap=\"round\" style=\"stroke:white;stroke-width:4\"/><line x1=\"482.139\" y1=\"125.095\" x2=\"505.631\" y2=\"116.544\" stroke-linecap=\"round\" style=\"stroke:white;stroke-width:4\"/><line x1=\"505.631\" y1=\"116.544\" x2=\"482.139\" y2=\"125.095\" stroke-linecap=\"round\" style=\"stroke:white;stroke-width:4\"/><line x1=\"482.139\" y1=\"125.095\" x2=\"450.0\" y2=\"163.397\" stroke-linecap=\"round\" style=\"stroke:white;stroke-width:4\"/><line x1=\"450.0\" y1=\"163.397\" x2=\"493.301\" y2=\"138.397\" stroke-linecap=\"round\" style=\"stroke:white;stroke-width:4\"/><line x1=\"493.301\" y1=\"138.397\" x2=\"499.771\" y2=\"114.249\" stroke-linecap=\"round\" style=\"stroke:white;stroke-width:4\"/><line x1=\"499.771\" y1=\"114.249\" x2=\"493.301\" y2=\"138.397\" stroke-linecap=\"round\" style=\"stroke:white;stroke-width:4\"/><line x1=\"493.301\" y1=\"138.397\" x2=\"491.122\" y2=\"113.492\" stroke-linecap=\"round\" style=\"stroke:white;stroke-width:4\"/><line x1=\"491.122\" y1=\"113.492\" x2=\"493.301\" y2=\"138.397\" stroke-linecap=\"round\" style=\"stroke:white;stroke-width:4\"/><line x1=\"493.301\" y1=\"138.397\" x2=\"516.793\" y2=\"129.846\" stroke-linecap=\"round\" style=\"stroke:white;stroke-width:4\"/><line x1=\"516.793\" y1=\"129.846\" x2=\"493.301\" y2=\"138.397\" stroke-linecap=\"round\" style=\"stroke:white;stroke-width:4\"/><line x1=\"493.301\" y1=\"138.397\" x2=\"518.301\" y2=\"138.397\" stroke-linecap=\"round\" style=\"stroke:white;stroke-width:4\"/><line x1=\"518.301\" y1=\"138.397\" x2=\"493.301\" y2=\"138.397\" stroke-linecap=\"round\" style=\"stroke:white;stroke-width:4\"/><line x1=\"493.301\" y1=\"138.397\" x2=\"450.0\" y2=\"163.397\" stroke-linecap=\"round\" style=\"stroke:white;stroke-width:4\"/><line x1=\"450.0\" y1=\"163.397\" x2=\"400.0\" y2=\"250.0\" stroke-linecap=\"round\" style=\"stroke:white;stroke-width:4\"/><line x1=\"400.0\" y1=\"250.0\" x2=\"400.0\" y2=\"450.0\" stroke-linecap=\"round\" style=\"stroke:white;stroke-width:4\"/>\n",
              "        <g visibility=visible transform=\"rotate(360,400.0,450.0) translate(382.0, 432.0)\">\n",
              "<path style=\" stroke:none;fill-rule:evenodd;fill:white;fill-opacity:1;\" d=\"M 18.214844 0.632812 C 16.109375 1.800781 15.011719 4.074219 15.074219 7.132812 L 15.085938 7.652344 L 14.785156 7.496094 C 13.476562 6.824219 11.957031 6.671875 10.40625 7.066406 C 8.46875 7.550781 6.515625 9.15625 4.394531 11.992188 C 3.0625 13.777344 2.679688 14.636719 3.042969 15.027344 L 3.15625 15.152344 L 3.519531 15.152344 C 4.238281 15.152344 4.828125 14.886719 8.1875 13.039062 C 9.386719 12.378906 10.371094 11.839844 10.378906 11.839844 C 10.386719 11.839844 10.355469 11.929688 10.304688 12.035156 C 9.832031 13.09375 9.257812 14.820312 8.96875 16.078125 C 7.914062 20.652344 8.617188 24.53125 11.070312 27.660156 C 11.351562 28.015625 11.363281 27.914062 10.972656 28.382812 C 8.925781 30.84375 7.945312 33.28125 8.238281 35.1875 C 8.289062 35.527344 8.28125 35.523438 8.917969 35.523438 C 10.941406 35.523438 13.074219 34.207031 15.136719 31.6875 C 15.359375 31.417969 15.328125 31.425781 15.5625 31.574219 C 16.292969 32.042969 18.023438 32.964844 18.175781 32.964844 C 18.335938 32.964844 19.941406 32.210938 20.828125 31.71875 C 20.996094 31.625 21.136719 31.554688 21.136719 31.558594 C 21.203125 31.664062 21.898438 32.414062 22.222656 32.730469 C 23.835938 34.300781 25.5625 35.132812 27.582031 35.300781 C 27.90625 35.328125 27.9375 35.308594 28.007812 34.984375 C 28.382812 33.242188 27.625 30.925781 25.863281 28.425781 L 25.542969 27.96875 L 25.699219 27.785156 C 28.945312 23.960938 29.132812 18.699219 26.257812 11.96875 L 26.207031 11.84375 L 27.945312 12.703125 C 31.53125 14.476562 32.316406 14.800781 33.03125 14.800781 C 33.976562 14.800781 33.78125 13.9375 32.472656 12.292969 C 28.519531 7.355469 25.394531 5.925781 21.921875 7.472656 L 21.558594 7.636719 L 21.578125 7.542969 C 21.699219 6.992188 21.761719 5.742188 21.699219 5.164062 C 21.496094 3.296875 20.664062 1.964844 19.003906 0.855469 C 18.480469 0.503906 18.457031 0.5 18.214844 0.632812\"/>\n",
              "</g>\n",
              "      </svg>\n",
              "    "
            ],
            "text/plain": [
              "<IPython.core.display.HTML object>"
            ]
          },
          "metadata": {}
        }
      ]
    },
    {
      "cell_type": "markdown",
      "metadata": {
        "id": "aRRLUjz7dD71"
      },
      "source": [
        "### 3.5.4 Ejercicios de Repaso Anexo\n",
        "\n",
        "1. Use rectas, rectángulos y elipses para pintar un esquema de un rostro: cabeza, ojos, naríz y boca.\n",
        "\n",
        "2. Tome de referencia el ejemplo 3 de la sección 3.5.1.  Cree una ventana de 500x500 y use únicamente el comando `line` para construir la figura que se muestra a continuación.\n",
        "\n",
        "![texto alternativo](https://drive.google.com/uc?id=1989pUPlPWcS1hG4P5-TTd6cCr9Dz4xoH).\n",
        "\n",
        "3. Diseñe el código para obtener las siguientes figuras usando solo el comando `line`.\n",
        "\n",
        "![texto alternativo](https://drive.google.com/uc?id=1l1SfOpbFYqACXyr3M6ZlZ4_PDrxQ4Nch)\n",
        "\n",
        "4. Considere el ejemplo 1 de la sección 3.5.3. Saque el comando   `background(200, 100, 50)` de la función `draw()` y coloquelo como instrucción de la función `setup()`. Observe que la figura que se genera es distinta a la del ejemplo. Explique por qué se presenta esta diferencia en las imagenes.\n",
        "\n",
        "5. Rediseñe el programa de los ejercicios 2. y 3. usando el comando `delay()` con el fin tener una construcción dinámica de las figuras.\n",
        "\n",
        "6. Haga una aproximación del valor de $\\pi$, usando como referencia el Ejemplo 2 de la sección 3.5.3. Para este ejercicio, agrege a la imagen del ejemplo 2 una circunferencia centrada en el punto $C(200,200)$ y de radio $r = 200$ y permita que el código calcule el número de puntos que caen dentro de la circunferencia. Use la relación $$\\frac{A(C)}{A(R)} \\approx \\frac{\\text{Numero de puntos dentro de circunferencia}}{\\text{Numero total de puntos}}  $$ donce $A(C)=\\pi r^2$ y $A(R) = 200\\times 200$.\n",
        "\n"
      ]
    },
    {
      "cell_type": "markdown",
      "metadata": {
        "id": "94iAi6Jxpui1"
      },
      "source": [
        "# 4. Eficiencia de un algoritmo\n",
        "\n",
        "La eficiencia de los algoritmos puede medirse desde varios puntos de vista; por ejemplo, teniendo en cuenta la cantidad de recursos que se usan; como la cantidad de memoria requerida, o podría medirse por ejemplo, a través del tiempo requerido para resolver el problema. En esta sección, haremos una brevísima introducción al tema, con el fin de que el estudiante de un primer curso de programación, pueda entender la importancia del diseño eficiente de los algorimos. Esencialmente, mediremos la eficiencia contando el número de operaciones que realiza un algoritmo, esto es lo que comunmente se denomina complejidad de los algoritmos.\n",
        "\n"
      ]
    },
    {
      "cell_type": "markdown",
      "metadata": {
        "id": "nHYztybOhyGu"
      },
      "source": [
        "## 4.1 Ordenes de Complejidad\n",
        "\n",
        "Una de manera de medir la complejidad de un algoritmo, consiste en calcular el número de operaciones que debe efectuar el algoritmo para resolver un problema,  en este caso, debe determinarse una fórmula que calcular el número de operaciones en términos de tamañó del problema, este tamaño dependerá del número de datos que es necesario conocer para resolver el problema.\n",
        "\n",
        "Estudiaremos a continuación, el concepto de ordenes de complejidad, que nos permitirá clasificar los algoritmos, de acuerdo a su grado de complejidad.\n",
        "\n",
        "**Definición:**  Sea $f:\\mathbb{N} \\to \\mathbb {R^{\\geq 0}}$ una función. El conjunto de funciones de orden $f(n)$ es el conjunto definido por la igualdad\n",
        "\n",
        "$$\\mathcal O(f(n)) = \\{g:\\mathbb{N} \\to \\mathbb {R^{\\geq 0}} | (\\exists c \\in \\mathbb {R})(\\exists N\\in \\mathbb{N}) (\\forall n\\geq N)( g(n) \\leq cf(n))  \\} $$\n",
        "\n",
        "También diremos que una función $g(n)$ es de orden $f(n)$, si $g(n)\\in \\mathcal O(f(n))$\n",
        "\n",
        "**Ejemplo 1.**\n",
        "\n",
        "* $g_1(n) = n^3 +2n^2+1 \\in \\mathcal O(n^3)$\n",
        "* $g_2(n) = \\frac{n(n+1)}{2} \\in \\mathcal O(n^2)$\n",
        "* $g_3(n) = 7n-22 \\in \\mathcal O(n)$\n",
        "* $g_4(n) = 5\\ln (n)+10 \\in \\mathcal O(\\ln(n))$\n",
        "\n",
        "**Definición:**  Diremos que $\\mathcal O(g(n))$ es de orden menor o igual que $\\mathcal O(f(n))$ y escribiremos $\\mathcal O(g(n))\\leq \\mathcal O(f(n))$, si  $\\mathcal O(g(n))\\subseteq \\mathcal O(f(n))$. Y escribiremos, $\\mathcal O(g(n)) < \\mathcal O(f(n))$, si  $\\mathcal O(g(n))\\subset \\mathcal O(f(n))$. \n",
        "\n",
        "**Ejemplo 2**\n",
        "\n",
        "Nótese que,\n",
        "\n",
        "$$ \\mathcal O(x) \\leq \\mathcal O(5x+5) \\leq \\mathcal O(2x^2-5) \\leq \\mathcal O(x^2) $$\n",
        "Además, observe que\n",
        "$$\\mathcal O(1) < \\mathcal O(\\sqrt n)< \\mathcal O(\\ln (n)) < \\mathcal O(n) < \\mathcal O(n\\ln (n)) < \\mathcal O(n^2) < \\mathcal O(n^3) < \\mathcal O(2^n) < \\mathcal O(n!)$$\n",
        "\n",
        "En la gráfica siguiente, puede observarse como crecen algunos ordenes de complejidad con $n$.\n",
        "\n",
        "![texto alternativo](https://drive.google.com/uc?id=1KpJKlr4XCeTpRKAXddvxWk-HzHMzQcik)\n"
      ]
    },
    {
      "cell_type": "markdown",
      "metadata": {
        "id": "srk4FzgDiiNM"
      },
      "source": [
        ""
      ]
    },
    {
      "cell_type": "markdown",
      "metadata": {
        "id": "o7_MkOhaik9N"
      },
      "source": [
        "## 4.2 Complejidad de la Evaluación de Polinomios\n",
        "\n",
        "Un polinomio es una expresión algebraica de la forma\n",
        "$$p(x) = a_0 + a_1x + a_2x^2 + \\cdots + a_{n-1}x^{n-1} + a_nx^n \\text{       } (1)$$\n",
        "donde cada $a_i$ es un número real o complejo y $x$ es una variable que puede tomar valores reales o complejos. Si hacemos un análisis del número de operaciones que se realizan al efectuar una evaluación del polinomio $p(x)$ en un determinado valor que pueda tomar la variable $x$, usando la expresión dada ante, veremos que:\n",
        "* El número total de sumas es $n$.\n",
        "* El número total de multiplicaciones es $\\frac{n(n+1)}{2}$.\n",
        "\n",
        "Se acostumbra a medir la complejidad de un algoritmo por el número de multiplicaciones que se efectuan, pues esta operación necesita de más recursos y más tiempo para calcularse que una suma o una resta. Nótese, que si el polinomio es de grado $n=100$ efectuará $5050$ multiplicaciones, y si es de grado $1000$, efectuará $500500$ multiplicaciones.\n",
        "\n",
        "La complejidad de un algoritmo numérico puede medirse por el orden del número de multiplicaciones que efectúe. Para el ejemplo anterior, observe que el orden de la complejidad del algoritmo sería $\\mathcal O(n^2)$.\n",
        "\n",
        "\n",
        "A continuación veremos un procedimiento que permite reducir el número de operaciones, y en consecuencia, será mucho más eficiente que el algoritmo que efectúa la evalución realizando cada multiplicación y suma indicada en la expresión (1).\n",
        "\n",
        "**El Algoritmo de Horner**\n",
        "\n",
        "El polinomio dado anteriormente lo podemos escribir de la siguiente manera\n",
        "\n",
        "$$p(x) = a_0 + a_1x + a_2x^2 + \\cdots +a_{n-2}x^{n-2}+ (a_{n-1} + a_nx)x^{n-1}\\\\\n",
        "= a_0 + a_1x + a_2x^2 + \\cdots + a_{n-3}x^{n-3}  + (a_{n-2}+ (a_{n-1} + a_nx)x)x^{n-2}. $$\n",
        "\n",
        "Continuando con este proceso algebraico obtendriamos después de $n$ pasos.\n",
        "\n",
        "$$p(x) = a_0 + (a_1 + (a_2 + \\cdots   + (a_{n-2}+ (a_{n-1} + a_nx)x)...)x.$$\n",
        "\n",
        "Observemos que hay que realizar la operación  $B+Cx$ varias veces, donde $B$ y $C$ toman los valores $a_{i-1}$ y $a_i$, respectivamente. Nótese que si se usa la última expresión para $p(x)$, podemos efectuar en cada paso una multiplicación y una suma, para obtener el resultado de la evaluación de $p(x). En total se efectuarán:\n",
        "\n",
        "* $n$ sumas y\n",
        "* $n$ multiplicaciones.\n",
        "\n",
        "Así, si el polinomio es de grado $n=1000$, sólo se realizarían $1000$ multiplicaciones, siendo mucho más eficiente que el primero que describimos. \n",
        " Observe que el orden de la complejidad del algoritmo de Horner es $\\mathcal O(n)$.\n",
        "Veamos que aspecto tiene el algoritmo."
      ]
    },
    {
      "cell_type": "markdown",
      "metadata": {
        "id": "HSgtFn4Qpuiw"
      },
      "source": [
        "**Ejemplo 1**\n",
        "\n",
        "Diseñe un algoritmo que permita evaluar cualquier polinomio por el método de Horner. Verifique su algoritmo con el polinomio $p(x) = 1 + 2x +3x^2$, calculando $p(1) = 6$."
      ]
    },
    {
      "cell_type": "code",
      "metadata": {
        "id": "lG4X6EHlpuia",
        "colab": {
          "base_uri": "https://localhost:8080/",
          "height": 50
        },
        "outputId": "b985476d-2997-4c01-da3f-3889301aecce"
      },
      "source": [
        "# Algoritmo de Horner para la evaluación de un polinómio p(x).\n",
        "# Datos de entrada:\n",
        "#   1.  A = lista de coeficiente del polinomio p(x).\n",
        "#   2.  x = valor en donde se calcula el polinomio p(x).\n",
        "# Datos de salida:\n",
        "#       p(x) = Evaluación del polinomio en x.\n",
        "\n",
        "#       DEFINICIÓN DE LA FUNCIÓN DE EVALUACIÓN    #\n",
        "\n",
        "def EvalHorn(A,x):\n",
        "    l = len(A)   # longitud de la lista A\n",
        "    n = l-1      # grado del polinomio\n",
        "    B = A[n-1]\n",
        "    C = A[n]\n",
        "    Eval = B + C*x\n",
        "    for i in range(n-2,-1,-1):\n",
        "        B = A[i]\n",
        "        C = Eval\n",
        "        Eval = B + C*x\n",
        "    print(f\"\\n p({x}) = {Eval}\")   \n",
        "#              LLAMADO A LA FUNCIÓN               #\n",
        "EvalHorn([1,1,1,1],1)    "
      ],
      "execution_count": null,
      "outputs": [
        {
          "output_type": "stream",
          "text": [
            "\n",
            " p(1) = 4\n"
          ],
          "name": "stdout"
        }
      ]
    },
    {
      "cell_type": "markdown",
      "metadata": {
        "id": "mJgahN2ypuiR"
      },
      "source": [
        "**Ejemplo 2**\n",
        "\n",
        "Diseñe una algoritmo que permita evaluar cualquier polinomio de la forma $p(x) = \\sum_{i=0}^{n}x^i$ en cualquier valor de $x$ en el intervalo $[0,1]$, y además, que mida el tiempo del proceso."
      ]
    },
    {
      "cell_type": "code",
      "metadata": {
        "id": "GNO9LYFcpuhc",
        "colab": {
          "base_uri": "https://localhost:8080/",
          "height": 67
        },
        "outputId": "f8049510-e84b-4792-b794-bae55b7125ab"
      },
      "source": [
        "from timeit import default_timer as timer # libreria para medir tiempo\n",
        "\n",
        "# Algoritmo de evaluación de Horn\n",
        "\n",
        "def EvalHorn(A,x):\n",
        "    l = len(A)   # longitud de la lista A\n",
        "    n = l-1      # grado del polinomio\n",
        "    B = A[n-1]\n",
        "    C = A[n]\n",
        "    Eval = B + C*x\n",
        " \n",
        "    for i in range(n-2,-1,-1):\n",
        "        B = A[i]\n",
        "        C = Eval\n",
        "        Eval = B + C*x\n",
        " \n",
        "    print(f\"\\n p({x}) = {Eval}\")    \n",
        "# Función para crear los polinomios  del ejemplo\n",
        "def Polynom(n):\n",
        "    P = []\n",
        "    for i in range(n+1):\n",
        "      P.append(1)\n",
        "    return(P)\n",
        "# Se genera el polinomio y se evalua en x   \n",
        "L = Polynom(1000000)\n",
        "Tiempo1 = timer() # Mide el tiempo inicial\n",
        "EvalHorn(L,0.1)\n",
        "Tiempo2 = timer() # Mide el tiempo final \n",
        "TTotal = Tiempo2 - Tiempo1\n",
        "print(\"Tiempo de Procesamiento =\",TTotal,\"seg.\") \n",
        "# Observe que, no siempre reporta el mismo valor debido a que el proceso \n",
        "# se ejecuta en un servidor de Google en tiempo compartido."
      ],
      "execution_count": null,
      "outputs": [
        {
          "output_type": "stream",
          "text": [
            "\n",
            " p(0.1) = 1.1111111111111112\n",
            "Tiempo de Procesamiento = 0.09389061499996387 seg.\n"
          ],
          "name": "stdout"
        }
      ]
    },
    {
      "cell_type": "markdown",
      "metadata": {
        "id": "td1IvHuaM6mD"
      },
      "source": [
        "## 4.3 Complejidad de la combinatoria $C(n,k)=\\frac{n!}{k!(n-k)!}$\n",
        "\n",
        "Para calcular el valor $C(n,k)$, con $k \\leq n$, necesitamos calcular tres valores previamente: $n!$, $k!$ y $(n-k)!$. Ahora, cada uno de estos factoriales necesita efectuar $n$, $k$, y  $n-k$ productos, respectivamente para determinar cada uno de los resultados. Así, en principio, el algoritmo necesitaría un total de $n+k+n-k = 2n$ multiplicaciones, es decir, tendría una  complejidad  de orden $\\mathcal O(2n)$. Sin embargo, la complejidad la podríamos reducir observando que $k!$ y $(n-k)!$, pueden obtenerse del cálculo de $n!$. Un algoritmo que implemente esta última observación tendría una complejidad de orden $\\mathcal O(n)$. \n",
        "\n",
        "**Ejemplo 1**\n",
        "\n",
        "Escribir un algoritmo con complejidad $\\mathcal O(n)$ que permita calcular los números combinatorios.\n"
      ]
    },
    {
      "cell_type": "code",
      "metadata": {
        "id": "LQxtXfTCosXb",
        "colab": {
          "base_uri": "https://localhost:8080/",
          "height": 34
        },
        "outputId": "43ff0634-b0d6-4f69-e2e8-2d5d51925e46"
      },
      "source": [
        "def C(n,k):\n",
        "  F = 1\n",
        "  c = 1\n",
        "  A = 1\n",
        "  B = 1\n",
        "  i = 2\n",
        "  while i in range(2,n+1):\n",
        "      if k == n or k == 0:\n",
        "        c = 1\n",
        "        i = n + 1\n",
        "      else:\n",
        "        F *=i\n",
        "        if i == k: \n",
        "          A = F\n",
        "        if i == n-k:\n",
        "          B = F\n",
        "        i +=1   \n",
        "      c=F/(A*B)    \n",
        "  return c       \n",
        "C(5,5)"
      ],
      "execution_count": null,
      "outputs": [
        {
          "output_type": "execute_result",
          "data": {
            "text/plain": [
              "1.0"
            ]
          },
          "metadata": {
            "tags": []
          },
          "execution_count": 6
        }
      ]
    },
    {
      "cell_type": "markdown",
      "metadata": {
        "id": "a3Oemxxj3W98"
      },
      "source": [
        "## 4.4 Complejidad del ordenamiento de una lista de números\n",
        "\n",
        "Supongamos que tenemos una lista de $n$ números que queremos ordenar en forma creciente. Para calcular la complejidad computacional de este algoritmo, contamos el número de comparaciones necesarias para ordenar la lista. Nótese que el algoritmo está constituido por dos `for ` anidados. En el primer `for`, la variable $i$ toma $n-1$ valores posibles, por cada uno de estos valores, la varible $j$ del segundo `for ` toma $n-i$ valores posibles. Por lo tanto el número de comparaciones es $n-1 + n-2 + \\cdots + 1 = \\frac{n(n-1)}{2}=\\frac{1}{2}(n^2-n)$. Es decir el algoritmo es de orden $\\cal O(n^2)$."
      ]
    },
    {
      "cell_type": "code",
      "metadata": {
        "id": "OF1fvMZv30xd",
        "colab": {
          "base_uri": "https://localhost:8080/",
          "height": 34
        },
        "outputId": "108b0325-2a5c-4cbe-82cc-18677b3272ab"
      },
      "source": [
        "def Ordenar(L):\n",
        "  n = len(L)\n",
        "  for i in range(0,n-1):\n",
        "    max = L[i]\n",
        "    for j in range(i+1,n):\n",
        "      if max < L[j]:\n",
        "         max = L[j]\n",
        "         L[j] = L[i]\n",
        "         L[i] = max\n",
        "L = [1,6,3,4,5,2,10,11] \n",
        "Ordenar(L)\n",
        "print(L)\n",
        "         \n"
      ],
      "execution_count": null,
      "outputs": [
        {
          "output_type": "stream",
          "text": [
            "[11, 10, 6, 5, 4, 3, 2, 1]\n"
          ],
          "name": "stdout"
        }
      ]
    },
    {
      "cell_type": "markdown",
      "metadata": {
        "id": "NgTqMjYJUWUH"
      },
      "source": [
        "## 4.4 Ejercicios de Repaso\n",
        "\n",
        "1. Determine la complejidad computacional del cálculo del promedio de una lista numérica con $n$ datos.\n",
        "\n",
        "2. Construya un algoritmo que pemita determinar, si un número es primo o no y calcule la complejidad computacional del algoritmo construido.\n",
        "\n",
        "3. Diseñe un algoritmo que permita ordenar en forma creciente los números presentes en una lista con $n$ valores. Calcule la complejidad computacional de su algoritmo en término del número de comparaciones que realiza su algoritmo.\n",
        "\n",
        "4. Suponga que se tiene una lista $L$ conformada por $n$ listas,  cada lista con $n$ datos. Use su algoritmo diseñado en el punto 3. como una función, y diseñe otro algoritmo que permita ordenar cada lista de la lista $L$ en forma creciente. Calcule la complejidad de su algoritmo en términos del número de comparaciones necesarias para ordenar las listas de $n$.\n",
        "\n",
        "5. Escribir una algoritmo con complejidad de orden $\\mathcal O(\\frac{1}{2}n)$que calcule los números combinatorios $C(n,k)$. **Ayuda:** Los números combinatorios pueden obtenerse construyendo el triángulo de Pascal ( https://es.wikipedia.org/wiki/Tri%C3%A1ngulo_de_Pascal ). Observe la simetría que tiene esta estructura y explotela en el diseño de su algoritmo.\n",
        "\n",
        "6. Construya un algoritmo que calcule el mayor número de una lista conformada por $n$ números. Determine la complejidad del algoritmo."
      ]
    },
    {
      "cell_type": "markdown",
      "metadata": {
        "id": "j4OSEssAJANm"
      },
      "source": [
        "#5. Archivos de Texto y Binarios\n",
        "\n",
        "En algunas ocasiones, es importante leer o escribir sobre un archivo la información que permite alimentar un programa o los resultados que reporta la ejecución  del  mismo. Los archivos pueden contener información de dos tipos:  cadenas de caracteres `str`  o  datos binarios `b`.  Los archivos que guardan cadenas de caracteres se denominan **archivos de texto** (con extensión .txt)  y los que guardan la información en forma binaria se denominan **archivos binarios** (con extensión .bin) .\n",
        "\n",
        "**Un archivo es un tipo de dato ordenado**, en donde cada elemento o caracter está ubicado en una posición específica dentro del archivo, además, cada elemento puede accesarse mediante un índice. El índice de la primera posición  es  `0`, el de la segunda posición es `1`, y así sucesivamente.\n",
        "\n",
        "En esta sección aprenderemos los comandos básicos para:\n",
        "\n",
        "* Crear un archivo de texto.\n",
        "* Escribir o leer información desde archivos.\n",
        "* Cerrar un archivo de texto.\n",
        "\n",
        "**Observaciones**\n",
        "\n",
        "1. Un archivo está constituido por líneas,en donde cada línea es una cadena de caracteres que termina con el **caracter de fin de línea** que corresponde al símbolo `\\n`.\n",
        "2. Una línea de un archivo puede considerarse como una lista.\n",
        "3. Un archivo conformado por una colección de líneas, puede considerarse como una lista de listas.\n",
        "4. Un archivo binario es un archivo digital cuya informaciòn està codificada en binario. Practicamente todos los archivos hoy en dìa vienen codificados de esta manera, sean estos archivos de imagenes , sonido, documentos, archivos ejecutables, o compilados, etc. Generalmente los archivos binarios tienen una cabecera que le permite a ciertos programas interpretar los datos que vienen a continuaciòn.\n",
        "\n",
        "\n"
      ]
    },
    {
      "cell_type": "markdown",
      "metadata": {
        "id": "5j-aKRjqa8MO"
      },
      "source": [
        "## 5.1 Creación o Apertura de Archivos\n",
        "\n",
        "La creación y apertura de un archivo, se realiza mediante una variable apuntadora. Esta variable guardará la dirección de la posición del primer dato del archivo. Dado que los archivos son datos secuenciales, es decir la información guardada se encuentra en posiciones sucesivas de memoria, con la dirección del primer elemento del archivo será fácil determinar la dirección de los elementos subsiguientes y accederlos. Este mecanismo de acceso es invisible para el programador, sin embargo, es importante entenderlo.\n",
        "\n",
        "La creación o apertura de un archivo se realiza mediante el comando `open()`. La sintaxis de uso de este comando es:\n",
        "\n",
        "* `<apuntador_archivo> = open(<\"ruta_de_acceso_al_archivo\">,<modo_acceso_archivo>)`\n",
        "\n",
        "donde:\n",
        "\n",
        "* `<apuntador_archivo>` es una variable de tipo apuntador que guarda la dirección de la primera posición del archivo.\n",
        "\n",
        "* `<ruta_de_acceso_al_arvhivo>`  corresponde a la dirección  o ruta en donde se encuentra ubicado el archivo.\n",
        "* `<modo_acceso_arvhivo>` corresponde a uno de los siguientes modos:\n",
        "\n",
        "1. 'r' abre un archivo de solo **lectura**, iniciando en la posición `0` del archivo. Si el archivo referenciado no existe se reportará un error de tipo `FileNotFoundError`.\n",
        "2. 'w' abre un archivo de solo **escritura**.  Si el archivo ya existe, el contenido de éste será borrado y reemplazado.\n",
        "3. 'x' abre un archivo de solo **escritura**. Si el archivo referenciado existe se reportará un error de tipo `FileExistsError`.\n",
        "4. 'r+' abre un archivo de **lectura** y **escritura**. \n",
        "5. 'w+' abre un archivo de **lectura** y **escritura**. Si el archivo ya existe, éste será reemplazado.\n"
      ]
    },
    {
      "cell_type": "markdown",
      "metadata": {
        "id": "C-DYjAAtgCra"
      },
      "source": [
        "## 5.2 Tipos de Archivos\n",
        "\n",
        "En esta sección trabajaremos esencialmete archivos tipo texto, sin embargo, indicaremos algunos comandos para administrar archivos binarios.\n",
        "* `'t'` denotará archivos tipo texto. Todo archivo es por defecto tipo texto.\n",
        "* `'b'` denotará archivos tipo binario.\n",
        "\n",
        "**Ejemplo 1.**\n",
        "\n",
        "* `'bw'` denota un archivo binario sobre el cual se escribirá.\n",
        "* `'tw'` denota un archivo texto sobre el cual se escribirá.\n"
      ]
    },
    {
      "cell_type": "markdown",
      "metadata": {
        "id": "vFQ1tjtirjKP"
      },
      "source": [
        "## 5.3 Comandos para manejo de archivos\n",
        "\n",
        "* `close()` permite cerrar en forma apropiada archivos. Este comando es de uso recomendado cuando se abre un archivo en modo escritura, simpre es necesario cerrar este tipo de archivos, pues podría sobreescribirse y dañarse en caso de que quede abierto. La sintaxis es\n",
        "`<apuntador_archivo>.close()`.\n",
        "* `read()` Permite leer un archivo que este en modo de lectura `r`. Puede ingresarse en su argumento la posición hasta la cual  la cual se quiere leer, recordando que la posición inicial comienza en `0` y que los caracteres de espaciado y fin de línea también hacen parte de cada línea.\n",
        " La sintaxis es `<apuntador_archivo>.read(<numero_posicion>)`.\n",
        "\n",
        "* `write()` Permite escribir sobre un archivo que este en modo de escritura` w`. Se escribirá  la cadena de caracteres que se indique en su argumento. Cada vez que se usa el comando `write()` se efectuan dos procesos: primero se escribe un caracter sobre la dirección apuntada y posteriormente el apuntador se modifica y guarda la siguiente posición dentro del archivo. La sintaxis es:  `<apuntador_archivo>.write(<cadena de caracteres>)`.\n",
        "\n",
        "* `readline()` Permite leer una línea de un archivo comenzando por la primera, lo cual quiere decir que lee toda una cadena de caracteres hasta que encuentre el `caracter de fin de línea` denotado por `\\n`. Una vez lee la primera línea, el apuntador queda ubicado en la dirección correspondiente a la segunda línea a leer, y así sucesivamente.\n",
        "\n",
        "* `readlines()` Permite leer todas las lineas del archivo y conformar una lista de lineas.\n",
        "\n",
        "**Formatos de impresión para write()**\n",
        "\n",
        "Debe tenerse en cuenta que el comando `write()` funciona en forma ligeramente distinta que el comando `print()`; en el primero, debe indicarse el formato de impresión según el tipo de variable a imprimir:\n",
        "\n",
        "* Para `int` debe usarse `%nd`, donde $n$ representa el número de espacios que se separan para la impresión. Por ejemplo, si se usa el formato `%5d` para imprimir 25, quedaría `---25`.\n",
        "\n",
        "* Para `float` debe usarse `%p.qf`, donde $p$ es el número de espacios que se dejan para escribir el número, de estos espacios se separan q para la parte decimal incluyendo el punto decimal. Por ejemplo, si se usa %8.3f, para escribir el número  57.327, se imprimirá ---57.32\n",
        "\n",
        "\n",
        "\n",
        "\n",
        "**Ejemplo 2.**\n",
        "\n",
        "El siguiente programa, crea en el directorio sobre el cual estamos trabajando un archivo de texto llamado `MiPrimerArchivo.txt`. Sobre este archivo se escribirán 10 frases con el mensaje 'Este es el renglon número = '. En este ejemplo debe tenerse en cuenta que el formato para imprimir es ligeramente distinto al que  hemos venido usando. "
      ]
    },
    {
      "cell_type": "code",
      "metadata": {
        "id": "zyBISLlCql0l"
      },
      "source": [
        "##########    NO EJECUTE EL CODIGO SOBRE ESTE APLICATIVO  ##################\n",
        "############################################################################\n",
        "# Este algoritmo crea un archivo, escribe 10  líneas; cada una de ellas con\n",
        "# la frase: \"Este es el renglón número = n\"\n",
        "f= open('MiPrimerArchivo.txt','w')\n",
        "for i in range(10):\n",
        "     f.write('Este es el renglón número = %d \\n' %(i+1))\n",
        "f.close()     "
      ],
      "execution_count": null,
      "outputs": []
    },
    {
      "cell_type": "markdown",
      "metadata": {
        "id": "J8LinTTES1uq"
      },
      "source": [
        "En este caso el archivo `MiPrimerArchivo.txt` queda conformado por los siguientes 10 renglones.\n",
        "\n",
        "Este es el renglón número = 1 \n",
        "\n",
        "Este es el renglón número = 2 \n",
        "\n",
        "Este es el renglón número = 3 \n",
        "\n",
        "Este es el renglón número = 4 \n",
        "\n",
        "Este es el renglón número = 5 \n",
        "\n",
        "Este es el renglón número = 6 \n",
        "\n",
        "Este es el renglón número = 7 \n",
        "\n",
        "Este es el renglón número = 8 \n",
        "\n",
        "Este es el renglón número = 9 \n",
        "\n",
        "Este es el renglón número = 10 "
      ]
    },
    {
      "cell_type": "markdown",
      "metadata": {
        "id": "liBhFZ8h0q1c"
      },
      "source": [
        "\n",
        "**Ejemplo 3.**\n",
        "\n",
        "Leer los elementos de una matriz $3\\times 4$ guardados en un archivo denominado Datos.txt. En este archivo el primer par de valores corresponde al número de filas y de columnas de la matriz, respectivamente, el resto de las líneas guardan la información de cada fila de la matriz. El archivo contiene los siguientes datos:\n",
        "\n",
        "3 4\n",
        "\n",
        "1 2 3 4\n",
        "\n",
        "6 7 8 9\n",
        "\n",
        "5 4 3 2\n"
      ]
    },
    {
      "cell_type": "code",
      "metadata": {
        "id": "roRFfVxdVawc"
      },
      "source": [
        "##########    NO EJECUTE EL CODIGO SOBRE ESTE APLICATIVO  ##################\n",
        "############################################################################\n",
        "# Programa para leer la primera y la seguna línea de un archivo\n",
        "f = open( 'Matriz.txt','r')\n",
        "M = f.readlines() #En este caso M es una lista de líneas\n",
        "print(M)\n",
        "print(\"***************\")\n",
        "print(M[2])"
      ],
      "execution_count": null,
      "outputs": []
    },
    {
      "cell_type": "markdown",
      "metadata": {
        "id": "CH7DPE8zWgdw"
      },
      "source": [
        "En este caso el algoritmo genera la salida\n",
        "\n",
        "['3 4\\n', '1 2 3 4\\n', '6 7 8 9\\n', '5 4 3 2']\n",
        "\n",
        "***************\n",
        "\n",
        "6 7 8 9"
      ]
    },
    {
      "cell_type": "markdown",
      "metadata": {
        "id": "goY4SUwby1Ou"
      },
      "source": [
        "**Ejemplo 6** \n",
        "\n",
        "Diseñe un algoritmo que lea la dimensión y  las componentes de dos vectores enteros $v_1$ y $v_2$ guardados en un archivo llamado `Vectores.txt` y luego imprima el valor de la suma $v_1+ v_2$ de los vectores."
      ]
    },
    {
      "cell_type": "code",
      "metadata": {
        "id": "8NJZcojuzJSc"
      },
      "source": [
        "##########    NO EJECUTE EL CODIGO SOBRE ESTE APLICATIVO  ##################\n",
        "############################################################################\n",
        "# Este algoritmo lee la dimensión de dos vectores enteros y sus componentes \n",
        "# y encuentra su suma.\n",
        "f = open( 'Vectores.txt','r')\n",
        "V = f.readlines() # En este caso V es una lista de lineas\n",
        "\n",
        "Vec1 = V[1].split() # .split() conforma una lista con las palabras de otra lista \n",
        "Vec2 = V[2].split() # donde cada palabra corresponde a la secuencia de símbolos\n",
        "                    # que se envuetran entre espacios en blanco.\n",
        "v1 = []\n",
        "v2 = []\n",
        "Suma = []\n",
        "n = int(V[0][0]) \n",
        "for i in range(0,n):\n",
        "    v1.append(int(Vec1[i])) \n",
        "    v2.append(int(Vec2[i]))\n",
        "    Suma.append(v1[i]+v2[i])\n",
        "print(v1,\"+\",v2,\"=\",Suma)    "
      ],
      "execution_count": null,
      "outputs": []
    },
    {
      "cell_type": "markdown",
      "metadata": {
        "id": "irl2E7Yuw1L9"
      },
      "source": [
        "$[1, 23, 3, 4] + [6, 7, 8, 9] = [7, 30, 11, 13]$"
      ]
    },
    {
      "cell_type": "markdown",
      "metadata": {
        "id": "JQBhbzUuxI6z"
      },
      "source": [
        "## 5.4 Ejercicios de Repaso\n",
        "\n",
        "Para los ejercicios 1., 2. y 3. diseñe un código que lea la información desde un archivo de texto y calcule:\n",
        "1. La suma de dos vectores de cualquier dimensión.\n",
        "2. El punto de corte de dos rectas en el plano o indique, si las rectas son paralelas y por lo tanto no se cortan.\n",
        "3. La suma de dos matrices con igual número de filas y de columnas.\n",
        "4. Rediseñe los códigos anteriores, de tal manera que los resultados sean presentados en un archivo llamado `Resultados.txt`."
      ]
    }
  ]
}